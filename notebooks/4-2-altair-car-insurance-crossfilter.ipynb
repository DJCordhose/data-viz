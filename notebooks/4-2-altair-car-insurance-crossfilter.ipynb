{
  "nbformat": 4,
  "nbformat_minor": 0,
  "metadata": {
    "colab": {
      "name": "ml-viz.ipynb",
      "version": "0.3.2",
      "provenance": [],
      "collapsed_sections": [
        "FASceuwQAOTp",
        "_px_mArrS4Um",
        "ls7X_oTmUC5q"
      ],
      "include_colab_link": true
    },
    "kernelspec": {
      "display_name": "Python 3",
      "language": "python",
      "name": "python3"
    }
  },
  "cells": [
    {
      "cell_type": "markdown",
      "metadata": {
        "id": "view-in-github",
        "colab_type": "text"
      },
      "source": [
        "[View in Colaboratory](https://colab.research.google.com/github/DJCordhose/data-viz/blob/master/notebooks/4-2-altair-car-insurance-crossfilter.ipynb)"
      ]
    },
    {
      "metadata": {
        "id": "2KYx2dYLWA0R",
        "colab_type": "text"
      },
      "cell_type": "markdown",
      "source": [
        "# Crossfiltering using Altair\n",
        "\n",
        "https://altair-viz.github.io/"
      ]
    },
    {
      "metadata": {
        "id": "o7aEBZR2AOTX",
        "colab_type": "code",
        "colab": {}
      },
      "cell_type": "code",
      "source": [
        "import altair as alt\n",
        "\n",
        "# remove when running on Colab or JupyterLab / add when running in a jupyter notebook\n",
        "# alt.renderers.enable('notebook')"
      ],
      "execution_count": 0,
      "outputs": []
    },
    {
      "metadata": {
        "id": "E_795XHjWA0b",
        "colab_type": "text"
      },
      "cell_type": "markdown",
      "source": [
        "## Car insurance customer data"
      ]
    },
    {
      "metadata": {
        "id": "3vRMCp_4CODu",
        "colab_type": "code",
        "colab": {
          "base_uri": "https://localhost:8080/",
          "height": 68
        },
        "outputId": "11c783df-f3d1-4aed-cc20-d9afec6463fb"
      },
      "cell_type": "code",
      "source": [
        "# Choose one of the two following data sets, the larger one gives better results, but might clutter the visualization depending on resolution\n",
        "\n",
        "!curl -O https://raw.githubusercontent.com/DJCordhose/data-viz/master/data/insurance-customers-1500.csv\n",
        "# !curl -O https://raw.githubusercontent.com/DJCordhose/data-viz/master/data/insurance-customers-300.csv"
      ],
      "execution_count": 4,
      "outputs": [
        {
          "output_type": "stream",
          "text": [
            "  % Total    % Received % Xferd  Average Speed   Time    Time     Time  Current\n",
            "                                 Dload  Upload   Total   Spent    Left  Speed\n",
            "\r  0     0    0     0    0     0      0      0 --:--:-- --:--:-- --:--:--     0\r100 26783  100 26783    0     0  26783      0  0:00:01 --:--:--  0:00:01  225k\n"
          ],
          "name": "stdout"
        }
      ]
    },
    {
      "metadata": {
        "id": "zZrvQwmLAOTg",
        "colab_type": "code",
        "colab": {}
      },
      "cell_type": "code",
      "source": [
        "import pandas as pd\n",
        "# customers = pd.read_csv('./insurance-customers-300.csv', sep=';')\n",
        "customers = pd.read_csv('./insurance-customers-1500.csv', sep=';')"
      ],
      "execution_count": 0,
      "outputs": []
    },
    {
      "metadata": {
        "id": "kzr738RwNKQ9",
        "colab_type": "code",
        "colab": {
          "base_uri": "https://localhost:8080/",
          "height": 204
        },
        "outputId": "53eeba43-88ae-43f6-f275-cc5ad38fe112"
      },
      "cell_type": "code",
      "source": [
        "customers.head()"
      ],
      "execution_count": 7,
      "outputs": [
        {
          "output_type": "execute_result",
          "data": {
            "text/html": [
              "<div>\n",
              "<style scoped>\n",
              "    .dataframe tbody tr th:only-of-type {\n",
              "        vertical-align: middle;\n",
              "    }\n",
              "\n",
              "    .dataframe tbody tr th {\n",
              "        vertical-align: top;\n",
              "    }\n",
              "\n",
              "    .dataframe thead th {\n",
              "        text-align: right;\n",
              "    }\n",
              "</style>\n",
              "<table border=\"1\" class=\"dataframe\">\n",
              "  <thead>\n",
              "    <tr style=\"text-align: right;\">\n",
              "      <th></th>\n",
              "      <th>speed</th>\n",
              "      <th>age</th>\n",
              "      <th>miles</th>\n",
              "      <th>group</th>\n",
              "    </tr>\n",
              "  </thead>\n",
              "  <tbody>\n",
              "    <tr>\n",
              "      <th>0</th>\n",
              "      <td>98.0</td>\n",
              "      <td>44.0</td>\n",
              "      <td>25.0</td>\n",
              "      <td>1</td>\n",
              "    </tr>\n",
              "    <tr>\n",
              "      <th>1</th>\n",
              "      <td>118.0</td>\n",
              "      <td>54.0</td>\n",
              "      <td>24.0</td>\n",
              "      <td>1</td>\n",
              "    </tr>\n",
              "    <tr>\n",
              "      <th>2</th>\n",
              "      <td>111.0</td>\n",
              "      <td>26.0</td>\n",
              "      <td>34.0</td>\n",
              "      <td>0</td>\n",
              "    </tr>\n",
              "    <tr>\n",
              "      <th>3</th>\n",
              "      <td>97.0</td>\n",
              "      <td>25.0</td>\n",
              "      <td>10.0</td>\n",
              "      <td>2</td>\n",
              "    </tr>\n",
              "    <tr>\n",
              "      <th>4</th>\n",
              "      <td>114.0</td>\n",
              "      <td>38.0</td>\n",
              "      <td>22.0</td>\n",
              "      <td>1</td>\n",
              "    </tr>\n",
              "  </tbody>\n",
              "</table>\n",
              "</div>"
            ],
            "text/plain": [
              "   speed   age  miles  group\n",
              "0   98.0  44.0   25.0      1\n",
              "1  118.0  54.0   24.0      1\n",
              "2  111.0  26.0   34.0      0\n",
              "3   97.0  25.0   10.0      2\n",
              "4  114.0  38.0   22.0      1"
            ]
          },
          "metadata": {
            "tags": []
          },
          "execution_count": 7
        }
      ]
    },
    {
      "metadata": {
        "id": "A_bScJAWWQ_j",
        "colab_type": "code",
        "colab": {
          "base_uri": "https://localhost:8080/",
          "height": 297
        },
        "outputId": "d076a6b5-0400-48b4-ae3b-ebad64ffb87c"
      },
      "cell_type": "code",
      "source": [
        "customers.describe()"
      ],
      "execution_count": 8,
      "outputs": [
        {
          "output_type": "execute_result",
          "data": {
            "text/html": [
              "<div>\n",
              "<style scoped>\n",
              "    .dataframe tbody tr th:only-of-type {\n",
              "        vertical-align: middle;\n",
              "    }\n",
              "\n",
              "    .dataframe tbody tr th {\n",
              "        vertical-align: top;\n",
              "    }\n",
              "\n",
              "    .dataframe thead th {\n",
              "        text-align: right;\n",
              "    }\n",
              "</style>\n",
              "<table border=\"1\" class=\"dataframe\">\n",
              "  <thead>\n",
              "    <tr style=\"text-align: right;\">\n",
              "      <th></th>\n",
              "      <th>speed</th>\n",
              "      <th>age</th>\n",
              "      <th>miles</th>\n",
              "      <th>group</th>\n",
              "    </tr>\n",
              "  </thead>\n",
              "  <tbody>\n",
              "    <tr>\n",
              "      <th>count</th>\n",
              "      <td>1500.000000</td>\n",
              "      <td>1500.000000</td>\n",
              "      <td>1500.000000</td>\n",
              "      <td>1500.000000</td>\n",
              "    </tr>\n",
              "    <tr>\n",
              "      <th>mean</th>\n",
              "      <td>122.492667</td>\n",
              "      <td>44.980667</td>\n",
              "      <td>30.434000</td>\n",
              "      <td>0.998667</td>\n",
              "    </tr>\n",
              "    <tr>\n",
              "      <th>std</th>\n",
              "      <td>17.604333</td>\n",
              "      <td>17.130400</td>\n",
              "      <td>15.250815</td>\n",
              "      <td>0.816768</td>\n",
              "    </tr>\n",
              "    <tr>\n",
              "      <th>min</th>\n",
              "      <td>68.000000</td>\n",
              "      <td>16.000000</td>\n",
              "      <td>1.000000</td>\n",
              "      <td>0.000000</td>\n",
              "    </tr>\n",
              "    <tr>\n",
              "      <th>25%</th>\n",
              "      <td>108.000000</td>\n",
              "      <td>32.000000</td>\n",
              "      <td>18.000000</td>\n",
              "      <td>0.000000</td>\n",
              "    </tr>\n",
              "    <tr>\n",
              "      <th>50%</th>\n",
              "      <td>120.000000</td>\n",
              "      <td>42.000000</td>\n",
              "      <td>29.000000</td>\n",
              "      <td>1.000000</td>\n",
              "    </tr>\n",
              "    <tr>\n",
              "      <th>75%</th>\n",
              "      <td>137.000000</td>\n",
              "      <td>55.000000</td>\n",
              "      <td>42.000000</td>\n",
              "      <td>2.000000</td>\n",
              "    </tr>\n",
              "    <tr>\n",
              "      <th>max</th>\n",
              "      <td>166.000000</td>\n",
              "      <td>100.000000</td>\n",
              "      <td>84.000000</td>\n",
              "      <td>2.000000</td>\n",
              "    </tr>\n",
              "  </tbody>\n",
              "</table>\n",
              "</div>"
            ],
            "text/plain": [
              "             speed          age        miles        group\n",
              "count  1500.000000  1500.000000  1500.000000  1500.000000\n",
              "mean    122.492667    44.980667    30.434000     0.998667\n",
              "std      17.604333    17.130400    15.250815     0.816768\n",
              "min      68.000000    16.000000     1.000000     0.000000\n",
              "25%     108.000000    32.000000    18.000000     0.000000\n",
              "50%     120.000000    42.000000    29.000000     1.000000\n",
              "75%     137.000000    55.000000    42.000000     2.000000\n",
              "max     166.000000   100.000000    84.000000     2.000000"
            ]
          },
          "metadata": {
            "tags": []
          },
          "execution_count": 8
        }
      ]
    },
    {
      "metadata": {
        "id": "dhC2m7TfWA0n",
        "colab_type": "text"
      },
      "cell_type": "markdown",
      "source": [
        "## Interactive filtering to explore the data"
      ]
    },
    {
      "metadata": {
        "id": "QHMYSuxqWA0o",
        "colab_type": "code",
        "colab": {
          "base_uri": "https://localhost:8080/",
          "height": 241
        },
        "outputId": "cf2147d6-f93f-4ab4-99db-ca003c253f26"
      },
      "cell_type": "code",
      "source": [
        "# https://altair-viz.github.io/gallery/interactive_layered_crossfilter.html\n",
        "\n",
        "import altair as alt\n",
        "\n",
        "brush = alt.selection(type='interval', encodings=['x'], resolve='intersect', empty='none')\n",
        "\n",
        "# Define the base chart, with the common parts of the\n",
        "# background and highlights\n",
        "base = alt.Chart().mark_bar().encode(\n",
        "    x=alt.X(alt.repeat('column'), type='quantitative'),\n",
        "    y='count()'\n",
        ").properties(\n",
        "    width=250,\n",
        "    height=150\n",
        ")\n",
        "\n",
        "# blue background with selection\n",
        "background = base.properties(\n",
        "    selection=brush\n",
        ")\n",
        "\n",
        "# yellow highlights on the transformed data\n",
        "highlight = base.encode(\n",
        "    color=alt.value('goldenrod')\n",
        ").transform_filter(\n",
        "    brush\n",
        ")\n",
        "\n",
        "# layer the two charts & repeat\n",
        "chart = alt.layer(\n",
        "    background, highlight,\n",
        "    data=customers\n",
        ").repeat(\n",
        "    column=[\"age\", \"speed\", \"miles\"]\n",
        ")\n",
        "chart"
      ],
      "execution_count": 12,
      "outputs": [
        {
          "output_type": "execute_result",
          "data": {
            "text/plain": [
              "RepeatChart({\n",
              "  repeat: Repeat({\n",
              "    column: ['age', 'speed', 'miles']\n",
              "  }),\n",
              "  spec: LayerChart({\n",
              "    data:       speed   age  miles  group\n",
              "    0      98.0  44.0   25.0      1\n",
              "    1     118.0  54.0   24.0      1\n",
              "    2     111.0  26.0   34.0      0\n",
              "    3      97.0  25.0   10.0      2\n",
              "    4     114.0  38.0   22.0      1\n",
              "    5     130.0  55.0   34.0      0\n",
              "    6     118.0  40.0   51.0      0\n",
              "    7     143.0  42.0   34.0      1\n",
              "    8     120.0  41.0   42.0      2\n",
              "    9     148.0  33.0   53.0      0\n",
              "    10    118.0  48.0   25.0      1\n",
              "    11    105.0  51.0   21.0      1\n",
              "    12    115.0  51.0    4.0      1\n",
              "    13    110.0  30.0   28.0      2\n",
              "    14    107.0  41.0    7.0      1\n",
              "    15    123.0  77.0   26.0      0\n",
              "    16    115.0  34.0   22.0      1\n",
              "    17    144.0  48.0   35.0      1\n",
              "    18     93.0  20.0   10.0      2\n",
              "    19    110.0  32.0   34.0      0\n",
              "    20    127.0  28.0   25.0      0\n",
              "    21    104.0  48.0   28.0      1\n",
              "    22    112.0  37.0   28.0      0\n",
              "    23    151.0  34.0   50.0      0\n",
              "    24    151.0  27.0   43.0      0\n",
              "    25    120.0  49.0   43.0      2\n",
              "    26    159.0  86.0   38.0      2\n",
              "    27    100.0  49.0   52.0      2\n",
              "    28    101.0  44.0   64.0      2\n",
              "    29    114.0  52.0   18.0      1\n",
              "    ...     ...   ...    ...    ...\n",
              "    1470  134.0  40.0   45.0      2\n",
              "    1471   90.0  45.0   16.0      1\n",
              "    1472  137.0  66.0   20.0      0\n",
              "    1473  152.0  38.0   58.0      0\n",
              "    1474  139.0  55.0   48.0      2\n",
              "    1475  112.0  53.0    9.0      1\n",
              "    1476   94.0  30.0   18.0      2\n",
              "    1477  107.0  32.0    2.0      1\n",
              "    1478  122.0  46.0   41.0      0\n",
              "    1479  166.0  45.0   33.0      2\n",
              "    1480  123.0  64.0   20.0      1\n",
              "    1481  122.0  37.0   52.0      2\n",
              "    1482  130.0  41.0   38.0      1\n",
              "    1483  125.0  46.0   19.0      1\n",
              "    1484   94.0  35.0   25.0      1\n",
              "    1485  149.0  31.0   44.0      0\n",
              "    1486  151.0  38.0   45.0      0\n",
              "    1487  146.0  29.0   56.0      0\n",
              "    1488  116.0  36.0   18.0      1\n",
              "    1489  100.0  47.0   22.0      1\n",
              "    1490  116.0  49.0   42.0      1\n",
              "    1491  139.0  46.0   40.0      1\n",
              "    1492  142.0  48.0   84.0      2\n",
              "    1493   95.0  49.0   14.0      1\n",
              "    1494  149.0  48.0   33.0      1\n",
              "    1495  115.0  60.0   32.0      1\n",
              "    1496  114.0  34.0   32.0      1\n",
              "    1497  138.0  41.0   45.0      1\n",
              "    1498  100.0  31.0   28.0      1\n",
              "    1499  100.0  58.0   55.0      2\n",
              "    \n",
              "    [1500 rows x 4 columns],\n",
              "    layer: [Chart({\n",
              "      encoding: EncodingWithFacet({\n",
              "        x: X({\n",
              "          shorthand: RepeatRef({\n",
              "            repeat: 'column'\n",
              "          }),\n",
              "          type: 'quantitative'\n",
              "        }),\n",
              "        y: Y({\n",
              "          shorthand: 'count()'\n",
              "        })\n",
              "      }),\n",
              "      height: 150,\n",
              "      mark: 'bar',\n",
              "      selection: NamedSelection({\n",
              "        selector004: SelectionDef({\n",
              "          empty: 'none',\n",
              "          encodings: ['x'],\n",
              "          resolve: 'intersect',\n",
              "          type: 'interval'\n",
              "        })\n",
              "      }),\n",
              "      width: 250\n",
              "    }), Chart({\n",
              "      encoding: EncodingWithFacet({\n",
              "        color: ColorValue({\n",
              "          value: 'goldenrod'\n",
              "        }),\n",
              "        x: X({\n",
              "          shorthand: RepeatRef({\n",
              "            repeat: 'column'\n",
              "          }),\n",
              "          type: 'quantitative'\n",
              "        }),\n",
              "        y: Y({\n",
              "          shorthand: 'count()'\n",
              "        })\n",
              "      }),\n",
              "      height: 150,\n",
              "      mark: 'bar',\n",
              "      transform: [FilterTransform({\n",
              "        filter: {'selection': 'selector004'}\n",
              "      })],\n",
              "      width: 250\n",
              "    })]\n",
              "  })\n",
              "})"
            ],
            "text/html": [
              "\n",
              "<!DOCTYPE html>\n",
              "<html>\n",
              "<head>\n",
              "  <style>\n",
              "    .vega-actions a {\n",
              "        margin-right: 12px;\n",
              "        color: #757575;\n",
              "        font-weight: normal;\n",
              "        font-size: 13px;\n",
              "    }\n",
              "    .error {\n",
              "        color: red;\n",
              "    }\n",
              "  </style>\n",
              "\n",
              "<script src=\"https://cdn.jsdelivr.net/npm//vega@3.3.1\"></script>\n",
              "<script src=\"https://cdn.jsdelivr.net/npm//vega-lite@2.6.0\"></script>\n",
              "<script src=\"https://cdn.jsdelivr.net/npm//vega-embed@3.14\"></script>\n",
              "\n",
              "</head>\n",
              "<body>\n",
              "  <div id=\"vis\"></div>\n",
              "  <script type=\"text/javascript\">\n",
              "    var spec = {\"config\": {\"view\": {\"width\": 400, \"height\": 300}}, \"repeat\": {\"column\": [\"age\", \"speed\", \"miles\"]}, \"spec\": {\"layer\": [{\"mark\": \"bar\", \"encoding\": {\"x\": {\"type\": \"quantitative\", \"field\": {\"repeat\": \"column\"}}, \"y\": {\"type\": \"quantitative\", \"aggregate\": \"count\"}}, \"height\": 150, \"selection\": {\"selector004\": {\"type\": \"interval\", \"encodings\": [\"x\"], \"resolve\": \"intersect\", \"empty\": \"none\"}}, \"width\": 250}, {\"mark\": \"bar\", \"encoding\": {\"color\": {\"value\": \"goldenrod\"}, \"x\": {\"type\": \"quantitative\", \"field\": {\"repeat\": \"column\"}}, \"y\": {\"type\": \"quantitative\", \"aggregate\": \"count\"}}, \"height\": 150, \"transform\": [{\"filter\": {\"selection\": \"selector004\"}}], \"width\": 250}], \"data\": {\"name\": \"data-dd0e06940cc0cb37ed8721b1e95f82bf\"}}, \"$schema\": \"https://vega.github.io/schema/vega-lite/v2.6.0.json\", \"datasets\": {\"data-dd0e06940cc0cb37ed8721b1e95f82bf\": [{\"speed\": 98.0, \"age\": 44.0, \"miles\": 25.0, \"group\": 1}, {\"speed\": 118.0, \"age\": 54.0, \"miles\": 24.0, \"group\": 1}, {\"speed\": 111.0, \"age\": 26.0, \"miles\": 34.0, \"group\": 0}, {\"speed\": 97.0, \"age\": 25.0, \"miles\": 10.0, \"group\": 2}, {\"speed\": 114.0, \"age\": 38.0, \"miles\": 22.0, \"group\": 1}, {\"speed\": 130.0, \"age\": 55.0, \"miles\": 34.0, \"group\": 0}, {\"speed\": 118.0, \"age\": 40.0, \"miles\": 51.0, \"group\": 0}, {\"speed\": 143.0, \"age\": 42.0, \"miles\": 34.0, \"group\": 1}, {\"speed\": 120.0, \"age\": 41.0, \"miles\": 42.0, \"group\": 2}, {\"speed\": 148.0, \"age\": 33.0, \"miles\": 53.0, \"group\": 0}, {\"speed\": 118.0, \"age\": 48.0, \"miles\": 25.0, \"group\": 1}, {\"speed\": 105.0, \"age\": 51.0, \"miles\": 21.0, \"group\": 1}, {\"speed\": 115.0, \"age\": 51.0, \"miles\": 4.0, \"group\": 1}, {\"speed\": 110.0, \"age\": 30.0, \"miles\": 28.0, \"group\": 2}, {\"speed\": 107.0, \"age\": 41.0, \"miles\": 7.0, \"group\": 1}, {\"speed\": 123.0, \"age\": 77.0, \"miles\": 26.0, \"group\": 0}, {\"speed\": 115.0, \"age\": 34.0, \"miles\": 22.0, \"group\": 1}, {\"speed\": 144.0, \"age\": 48.0, \"miles\": 35.0, \"group\": 1}, {\"speed\": 93.0, \"age\": 20.0, \"miles\": 10.0, \"group\": 2}, {\"speed\": 110.0, \"age\": 32.0, \"miles\": 34.0, \"group\": 0}, {\"speed\": 127.0, \"age\": 28.0, \"miles\": 25.0, \"group\": 0}, {\"speed\": 104.0, \"age\": 48.0, \"miles\": 28.0, \"group\": 1}, {\"speed\": 112.0, \"age\": 37.0, \"miles\": 28.0, \"group\": 0}, {\"speed\": 151.0, \"age\": 34.0, \"miles\": 50.0, \"group\": 0}, {\"speed\": 151.0, \"age\": 27.0, \"miles\": 43.0, \"group\": 0}, {\"speed\": 120.0, \"age\": 49.0, \"miles\": 43.0, \"group\": 2}, {\"speed\": 159.0, \"age\": 86.0, \"miles\": 38.0, \"group\": 2}, {\"speed\": 100.0, \"age\": 49.0, \"miles\": 52.0, \"group\": 2}, {\"speed\": 101.0, \"age\": 44.0, \"miles\": 64.0, \"group\": 2}, {\"speed\": 114.0, \"age\": 52.0, \"miles\": 18.0, \"group\": 1}, {\"speed\": 125.0, \"age\": 59.0, \"miles\": 8.0, \"group\": 1}, {\"speed\": 92.0, \"age\": 33.0, \"miles\": 13.0, \"group\": 2}, {\"speed\": 127.0, \"age\": 71.0, \"miles\": 19.0, \"group\": 0}, {\"speed\": 104.0, \"age\": 29.0, \"miles\": 8.0, \"group\": 2}, {\"speed\": 100.0, \"age\": 41.0, \"miles\": 23.0, \"group\": 1}, {\"speed\": 108.0, \"age\": 39.0, \"miles\": 44.0, \"group\": 2}, {\"speed\": 113.0, \"age\": 35.0, \"miles\": 19.0, \"group\": 1}, {\"speed\": 141.0, \"age\": 60.0, \"miles\": 42.0, \"group\": 1}, {\"speed\": 113.0, \"age\": 55.0, \"miles\": 27.0, \"group\": 1}, {\"speed\": 153.0, \"age\": 39.0, \"miles\": 35.0, \"group\": 2}, {\"speed\": 135.0, \"age\": 50.0, \"miles\": 28.0, \"group\": 2}, {\"speed\": 138.0, \"age\": 41.0, \"miles\": 4.0, \"group\": 2}, {\"speed\": 127.0, \"age\": 37.0, \"miles\": 30.0, \"group\": 1}, {\"speed\": 149.0, \"age\": 44.0, \"miles\": 36.0, \"group\": 1}, {\"speed\": 118.0, \"age\": 44.0, \"miles\": 21.0, \"group\": 1}, {\"speed\": 133.0, \"age\": 65.0, \"miles\": 43.0, \"group\": 2}, {\"speed\": 129.0, \"age\": 48.0, \"miles\": 44.0, \"group\": 1}, {\"speed\": 123.0, \"age\": 48.0, \"miles\": 65.0, \"group\": 2}, {\"speed\": 119.0, \"age\": 49.0, \"miles\": 28.0, \"group\": 0}, {\"speed\": 113.0, \"age\": 46.0, \"miles\": 25.0, \"group\": 1}, {\"speed\": 119.0, \"age\": 69.0, \"miles\": 15.0, \"group\": 0}, {\"speed\": 116.0, \"age\": 49.0, \"miles\": 38.0, \"group\": 1}, {\"speed\": 157.0, \"age\": 40.0, \"miles\": 48.0, \"group\": 0}, {\"speed\": 150.0, \"age\": 31.0, \"miles\": 50.0, \"group\": 0}, {\"speed\": 104.0, \"age\": 81.0, \"miles\": 11.0, \"group\": 0}, {\"speed\": 118.0, \"age\": 45.0, \"miles\": 60.0, \"group\": 2}, {\"speed\": 120.0, \"age\": 24.0, \"miles\": 16.0, \"group\": 1}, {\"speed\": 148.0, \"age\": 41.0, \"miles\": 48.0, \"group\": 1}, {\"speed\": 120.0, \"age\": 62.0, \"miles\": 29.0, \"group\": 0}, {\"speed\": 115.0, \"age\": 25.0, \"miles\": 44.0, \"group\": 2}, {\"speed\": 159.0, \"age\": 43.0, \"miles\": 47.0, \"group\": 2}, {\"speed\": 106.0, \"age\": 26.0, \"miles\": 13.0, \"group\": 2}, {\"speed\": 125.0, \"age\": 48.0, \"miles\": 16.0, \"group\": 0}, {\"speed\": 101.0, \"age\": 23.0, \"miles\": 6.0, \"group\": 2}, {\"speed\": 126.0, \"age\": 28.0, \"miles\": 43.0, \"group\": 0}, {\"speed\": 109.0, \"age\": 25.0, \"miles\": 29.0, \"group\": 0}, {\"speed\": 93.0, \"age\": 20.0, \"miles\": 5.0, \"group\": 2}, {\"speed\": 113.0, \"age\": 24.0, \"miles\": 22.0, \"group\": 0}, {\"speed\": 116.0, \"age\": 77.0, \"miles\": 22.0, \"group\": 0}, {\"speed\": 124.0, \"age\": 30.0, \"miles\": 24.0, \"group\": 0}, {\"speed\": 118.0, \"age\": 78.0, \"miles\": 27.0, \"group\": 0}, {\"speed\": 134.0, \"age\": 67.0, \"miles\": 56.0, \"group\": 2}, {\"speed\": 106.0, \"age\": 48.0, \"miles\": 19.0, \"group\": 1}, {\"speed\": 151.0, \"age\": 41.0, \"miles\": 48.0, \"group\": 0}, {\"speed\": 117.0, \"age\": 46.0, \"miles\": 32.0, \"group\": 0}, {\"speed\": 142.0, \"age\": 47.0, \"miles\": 32.0, \"group\": 1}, {\"speed\": 115.0, \"age\": 75.0, \"miles\": 17.0, \"group\": 0}, {\"speed\": 109.0, \"age\": 32.0, \"miles\": 11.0, \"group\": 1}, {\"speed\": 124.0, \"age\": 45.0, \"miles\": 30.0, \"group\": 0}, {\"speed\": 130.0, \"age\": 38.0, \"miles\": 61.0, \"group\": 2}, {\"speed\": 117.0, \"age\": 41.0, \"miles\": 40.0, \"group\": 2}, {\"speed\": 122.0, \"age\": 79.0, \"miles\": 7.0, \"group\": 0}, {\"speed\": 131.0, \"age\": 74.0, \"miles\": 28.0, \"group\": 0}, {\"speed\": 140.0, \"age\": 48.0, \"miles\": 43.0, \"group\": 1}, {\"speed\": 152.0, \"age\": 33.0, \"miles\": 48.0, \"group\": 0}, {\"speed\": 116.0, \"age\": 56.0, \"miles\": 38.0, \"group\": 2}, {\"speed\": 105.0, \"age\": 26.0, \"miles\": 17.0, \"group\": 2}, {\"speed\": 117.0, \"age\": 35.0, \"miles\": 30.0, \"group\": 1}, {\"speed\": 136.0, \"age\": 54.0, \"miles\": 47.0, \"group\": 2}, {\"speed\": 140.0, \"age\": 51.0, \"miles\": 38.0, \"group\": 1}, {\"speed\": 136.0, \"age\": 60.0, \"miles\": 46.0, \"group\": 1}, {\"speed\": 119.0, \"age\": 44.0, \"miles\": 17.0, \"group\": 0}, {\"speed\": 114.0, \"age\": 27.0, \"miles\": 18.0, \"group\": 0}, {\"speed\": 124.0, \"age\": 62.0, \"miles\": 11.0, \"group\": 0}, {\"speed\": 153.0, \"age\": 34.0, \"miles\": 53.0, \"group\": 0}, {\"speed\": 126.0, \"age\": 80.0, \"miles\": 13.0, \"group\": 0}, {\"speed\": 113.0, \"age\": 33.0, \"miles\": 25.0, \"group\": 1}, {\"speed\": 105.0, \"age\": 39.0, \"miles\": 18.0, \"group\": 1}, {\"speed\": 108.0, \"age\": 37.0, \"miles\": 63.0, \"group\": 2}, {\"speed\": 122.0, \"age\": 54.0, \"miles\": 2.0, \"group\": 1}, {\"speed\": 114.0, \"age\": 49.0, \"miles\": 24.0, \"group\": 2}, {\"speed\": 119.0, \"age\": 74.0, \"miles\": 21.0, \"group\": 0}, {\"speed\": 137.0, \"age\": 78.0, \"miles\": 27.0, \"group\": 2}, {\"speed\": 110.0, \"age\": 52.0, \"miles\": 39.0, \"group\": 1}, {\"speed\": 113.0, \"age\": 50.0, \"miles\": 4.0, \"group\": 1}, {\"speed\": 113.0, \"age\": 52.0, \"miles\": 32.0, \"group\": 2}, {\"speed\": 106.0, \"age\": 63.0, \"miles\": 18.0, \"group\": 2}, {\"speed\": 99.0, \"age\": 30.0, \"miles\": 11.0, \"group\": 2}, {\"speed\": 128.0, \"age\": 55.0, \"miles\": 53.0, \"group\": 2}, {\"speed\": 95.0, \"age\": 54.0, \"miles\": 27.0, \"group\": 1}, {\"speed\": 104.0, \"age\": 30.0, \"miles\": 23.0, \"group\": 1}, {\"speed\": 127.0, \"age\": 56.0, \"miles\": 12.0, \"group\": 0}, {\"speed\": 112.0, \"age\": 39.0, \"miles\": 15.0, \"group\": 1}, {\"speed\": 110.0, \"age\": 36.0, \"miles\": 34.0, \"group\": 0}, {\"speed\": 110.0, \"age\": 66.0, \"miles\": 60.0, \"group\": 2}, {\"speed\": 106.0, \"age\": 17.0, \"miles\": 31.0, \"group\": 1}, {\"speed\": 142.0, \"age\": 51.0, \"miles\": 48.0, \"group\": 2}, {\"speed\": 102.0, \"age\": 49.0, \"miles\": 23.0, \"group\": 1}, {\"speed\": 118.0, \"age\": 74.0, \"miles\": 5.0, \"group\": 0}, {\"speed\": 136.0, \"age\": 60.0, \"miles\": 60.0, \"group\": 2}, {\"speed\": 104.0, \"age\": 50.0, \"miles\": 17.0, \"group\": 1}, {\"speed\": 99.0, \"age\": 39.0, \"miles\": 19.0, \"group\": 1}, {\"speed\": 120.0, \"age\": 63.0, \"miles\": 51.0, \"group\": 2}, {\"speed\": 146.0, \"age\": 39.0, \"miles\": 36.0, \"group\": 1}, {\"speed\": 106.0, \"age\": 31.0, \"miles\": 1.0, \"group\": 2}, {\"speed\": 118.0, \"age\": 26.0, \"miles\": 35.0, \"group\": 0}, {\"speed\": 121.0, \"age\": 73.0, \"miles\": 19.0, \"group\": 0}, {\"speed\": 147.0, \"age\": 34.0, \"miles\": 48.0, \"group\": 0}, {\"speed\": 121.0, \"age\": 79.0, \"miles\": 11.0, \"group\": 0}, {\"speed\": 143.0, \"age\": 67.0, \"miles\": 28.0, \"group\": 2}, {\"speed\": 153.0, \"age\": 37.0, \"miles\": 53.0, \"group\": 0}, {\"speed\": 137.0, \"age\": 47.0, \"miles\": 36.0, \"group\": 1}, {\"speed\": 118.0, \"age\": 67.0, \"miles\": 19.0, \"group\": 0}, {\"speed\": 127.0, \"age\": 55.0, \"miles\": 22.0, \"group\": 1}, {\"speed\": 113.0, \"age\": 26.0, \"miles\": 38.0, \"group\": 0}, {\"speed\": 116.0, \"age\": 60.0, \"miles\": 44.0, \"group\": 2}, {\"speed\": 142.0, \"age\": 43.0, \"miles\": 35.0, \"group\": 2}, {\"speed\": 121.0, \"age\": 73.0, \"miles\": 15.0, \"group\": 0}, {\"speed\": 110.0, \"age\": 33.0, \"miles\": 24.0, \"group\": 1}, {\"speed\": 152.0, \"age\": 38.0, \"miles\": 48.0, \"group\": 0}, {\"speed\": 163.0, \"age\": 54.0, \"miles\": 34.0, \"group\": 2}, {\"speed\": 116.0, \"age\": 36.0, \"miles\": 31.0, \"group\": 0}, {\"speed\": 121.0, \"age\": 73.0, \"miles\": 20.0, \"group\": 1}, {\"speed\": 110.0, \"age\": 52.0, \"miles\": 23.0, \"group\": 1}, {\"speed\": 102.0, \"age\": 25.0, \"miles\": 20.0, \"group\": 2}, {\"speed\": 102.0, \"age\": 35.0, \"miles\": 9.0, \"group\": 1}, {\"speed\": 127.0, \"age\": 32.0, \"miles\": 12.0, \"group\": 1}, {\"speed\": 154.0, \"age\": 38.0, \"miles\": 55.0, \"group\": 0}, {\"speed\": 142.0, \"age\": 38.0, \"miles\": 44.0, \"group\": 1}, {\"speed\": 98.0, \"age\": 51.0, \"miles\": 15.0, \"group\": 2}, {\"speed\": 121.0, \"age\": 37.0, \"miles\": 22.0, \"group\": 0}, {\"speed\": 116.0, \"age\": 40.0, \"miles\": 12.0, \"group\": 1}, {\"speed\": 104.0, \"age\": 25.0, \"miles\": 21.0, \"group\": 2}, {\"speed\": 127.0, \"age\": 79.0, \"miles\": 13.0, \"group\": 0}, {\"speed\": 113.0, \"age\": 26.0, \"miles\": 24.0, \"group\": 1}, {\"speed\": 119.0, \"age\": 61.0, \"miles\": 36.0, \"group\": 2}, {\"speed\": 113.0, \"age\": 19.0, \"miles\": 28.0, \"group\": 0}, {\"speed\": 118.0, \"age\": 80.0, \"miles\": 16.0, \"group\": 0}, {\"speed\": 145.0, \"age\": 43.0, \"miles\": 43.0, \"group\": 1}, {\"speed\": 114.0, \"age\": 39.0, \"miles\": 33.0, \"group\": 1}, {\"speed\": 128.0, \"age\": 79.0, \"miles\": 22.0, \"group\": 0}, {\"speed\": 113.0, \"age\": 42.0, \"miles\": 25.0, \"group\": 1}, {\"speed\": 132.0, \"age\": 60.0, \"miles\": 53.0, \"group\": 2}, {\"speed\": 99.0, \"age\": 25.0, \"miles\": 7.0, \"group\": 2}, {\"speed\": 133.0, \"age\": 44.0, \"miles\": 36.0, \"group\": 1}, {\"speed\": 138.0, \"age\": 68.0, \"miles\": 32.0, \"group\": 2}, {\"speed\": 113.0, \"age\": 35.0, \"miles\": 13.0, \"group\": 1}, {\"speed\": 151.0, \"age\": 38.0, \"miles\": 51.0, \"group\": 0}, {\"speed\": 124.0, \"age\": 27.0, \"miles\": 36.0, \"group\": 2}, {\"speed\": 151.0, \"age\": 33.0, \"miles\": 49.0, \"group\": 0}, {\"speed\": 123.0, \"age\": 21.0, \"miles\": 40.0, \"group\": 2}, {\"speed\": 151.0, \"age\": 33.0, \"miles\": 52.0, \"group\": 0}, {\"speed\": 88.0, \"age\": 26.0, \"miles\": 18.0, \"group\": 2}, {\"speed\": 96.0, \"age\": 17.0, \"miles\": 14.0, \"group\": 2}, {\"speed\": 130.0, \"age\": 36.0, \"miles\": 36.0, \"group\": 0}, {\"speed\": 119.0, \"age\": 16.0, \"miles\": 27.0, \"group\": 0}, {\"speed\": 120.0, \"age\": 89.0, \"miles\": 15.0, \"group\": 0}, {\"speed\": 136.0, \"age\": 39.0, \"miles\": 43.0, \"group\": 1}, {\"speed\": 105.0, \"age\": 28.0, \"miles\": 3.0, \"group\": 2}, {\"speed\": 99.0, \"age\": 23.0, \"miles\": 40.0, \"group\": 2}, {\"speed\": 123.0, \"age\": 73.0, \"miles\": 36.0, \"group\": 2}, {\"speed\": 92.0, \"age\": 82.0, \"miles\": 55.0, \"group\": 2}, {\"speed\": 150.0, \"age\": 27.0, \"miles\": 50.0, \"group\": 0}, {\"speed\": 148.0, \"age\": 33.0, \"miles\": 4.0, \"group\": 2}, {\"speed\": 152.0, \"age\": 34.0, \"miles\": 53.0, \"group\": 0}, {\"speed\": 126.0, \"age\": 79.0, \"miles\": 15.0, \"group\": 0}, {\"speed\": 133.0, \"age\": 72.0, \"miles\": 30.0, \"group\": 0}, {\"speed\": 115.0, \"age\": 70.0, \"miles\": 31.0, \"group\": 0}, {\"speed\": 114.0, \"age\": 35.0, \"miles\": 34.0, \"group\": 1}, {\"speed\": 120.0, \"age\": 19.0, \"miles\": 33.0, \"group\": 0}, {\"speed\": 132.0, \"age\": 56.0, \"miles\": 62.0, \"group\": 2}, {\"speed\": 134.0, \"age\": 43.0, \"miles\": 46.0, \"group\": 1}, {\"speed\": 155.0, \"age\": 69.0, \"miles\": 53.0, \"group\": 2}, {\"speed\": 99.0, \"age\": 23.0, \"miles\": 15.0, \"group\": 2}, {\"speed\": 109.0, \"age\": 60.0, \"miles\": 28.0, \"group\": 1}, {\"speed\": 108.0, \"age\": 33.0, \"miles\": 22.0, \"group\": 1}, {\"speed\": 143.0, \"age\": 53.0, \"miles\": 56.0, \"group\": 2}, {\"speed\": 94.0, \"age\": 31.0, \"miles\": 30.0, \"group\": 1}, {\"speed\": 126.0, \"age\": 66.0, \"miles\": 37.0, \"group\": 2}, {\"speed\": 119.0, \"age\": 50.0, \"miles\": 31.0, \"group\": 1}, {\"speed\": 144.0, \"age\": 49.0, \"miles\": 32.0, \"group\": 2}, {\"speed\": 137.0, \"age\": 28.0, \"miles\": 1.0, \"group\": 2}, {\"speed\": 101.0, \"age\": 26.0, \"miles\": 10.0, \"group\": 2}, {\"speed\": 123.0, \"age\": 73.0, \"miles\": 18.0, \"group\": 0}, {\"speed\": 146.0, \"age\": 38.0, \"miles\": 54.0, \"group\": 0}, {\"speed\": 136.0, \"age\": 48.0, \"miles\": 35.0, \"group\": 1}, {\"speed\": 126.0, \"age\": 34.0, \"miles\": 36.0, \"group\": 2}, {\"speed\": 103.0, \"age\": 22.0, \"miles\": 15.0, \"group\": 2}, {\"speed\": 117.0, \"age\": 75.0, \"miles\": 18.0, \"group\": 0}, {\"speed\": 100.0, \"age\": 36.0, \"miles\": 19.0, \"group\": 1}, {\"speed\": 112.0, \"age\": 76.0, \"miles\": 33.0, \"group\": 0}, {\"speed\": 143.0, \"age\": 44.0, \"miles\": 43.0, \"group\": 2}, {\"speed\": 124.0, \"age\": 100.0, \"miles\": 40.0, \"group\": 2}, {\"speed\": 137.0, \"age\": 54.0, \"miles\": 38.0, \"group\": 1}, {\"speed\": 97.0, \"age\": 17.0, \"miles\": 18.0, \"group\": 2}, {\"speed\": 118.0, \"age\": 84.0, \"miles\": 25.0, \"group\": 0}, {\"speed\": 105.0, \"age\": 20.0, \"miles\": 41.0, \"group\": 0}, {\"speed\": 102.0, \"age\": 31.0, \"miles\": 24.0, \"group\": 1}, {\"speed\": 124.0, \"age\": 34.0, \"miles\": 49.0, \"group\": 2}, {\"speed\": 100.0, \"age\": 29.0, \"miles\": 10.0, \"group\": 1}, {\"speed\": 129.0, \"age\": 68.0, \"miles\": 22.0, \"group\": 0}, {\"speed\": 119.0, \"age\": 44.0, \"miles\": 26.0, \"group\": 1}, {\"speed\": 156.0, \"age\": 38.0, \"miles\": 48.0, \"group\": 0}, {\"speed\": 90.0, \"age\": 25.0, \"miles\": 14.0, \"group\": 2}, {\"speed\": 114.0, \"age\": 84.0, \"miles\": 20.0, \"group\": 0}, {\"speed\": 139.0, \"age\": 51.0, \"miles\": 50.0, \"group\": 2}, {\"speed\": 98.0, \"age\": 29.0, \"miles\": 14.0, \"group\": 2}, {\"speed\": 155.0, \"age\": 32.0, \"miles\": 54.0, \"group\": 0}, {\"speed\": 149.0, \"age\": 48.0, \"miles\": 26.0, \"group\": 2}, {\"speed\": 136.0, \"age\": 44.0, \"miles\": 46.0, \"group\": 1}, {\"speed\": 117.0, \"age\": 42.0, \"miles\": 33.0, \"group\": 1}, {\"speed\": 108.0, \"age\": 43.0, \"miles\": 13.0, \"group\": 1}, {\"speed\": 105.0, \"age\": 51.0, \"miles\": 24.0, \"group\": 1}, {\"speed\": 114.0, \"age\": 43.0, \"miles\": 29.0, \"group\": 1}, {\"speed\": 122.0, \"age\": 46.0, \"miles\": 29.0, \"group\": 1}, {\"speed\": 117.0, \"age\": 47.0, \"miles\": 19.0, \"group\": 1}, {\"speed\": 101.0, \"age\": 31.0, \"miles\": 12.0, \"group\": 2}, {\"speed\": 151.0, \"age\": 36.0, \"miles\": 50.0, \"group\": 0}, {\"speed\": 100.0, \"age\": 22.0, \"miles\": 16.0, \"group\": 2}, {\"speed\": 137.0, \"age\": 37.0, \"miles\": 61.0, \"group\": 2}, {\"speed\": 119.0, \"age\": 41.0, \"miles\": 49.0, \"group\": 1}, {\"speed\": 138.0, \"age\": 42.0, \"miles\": 42.0, \"group\": 1}, {\"speed\": 119.0, \"age\": 34.0, \"miles\": 29.0, \"group\": 0}, {\"speed\": 124.0, \"age\": 71.0, \"miles\": 11.0, \"group\": 0}, {\"speed\": 129.0, \"age\": 29.0, \"miles\": 36.0, \"group\": 0}, {\"speed\": 102.0, \"age\": 50.0, \"miles\": 18.0, \"group\": 1}, {\"speed\": 104.0, \"age\": 61.0, \"miles\": 38.0, \"group\": 1}, {\"speed\": 113.0, \"age\": 37.0, \"miles\": 14.0, \"group\": 1}, {\"speed\": 131.0, \"age\": 74.0, \"miles\": 24.0, \"group\": 0}, {\"speed\": 133.0, \"age\": 46.0, \"miles\": 26.0, \"group\": 2}, {\"speed\": 107.0, \"age\": 43.0, \"miles\": 16.0, \"group\": 1}, {\"speed\": 98.0, \"age\": 28.0, \"miles\": 19.0, \"group\": 2}, {\"speed\": 116.0, \"age\": 30.0, \"miles\": 35.0, \"group\": 0}, {\"speed\": 107.0, \"age\": 43.0, \"miles\": 16.0, \"group\": 1}, {\"speed\": 114.0, \"age\": 64.0, \"miles\": 19.0, \"group\": 0}, {\"speed\": 106.0, \"age\": 52.0, \"miles\": 55.0, \"group\": 2}, {\"speed\": 129.0, \"age\": 34.0, \"miles\": 37.0, \"group\": 1}, {\"speed\": 114.0, \"age\": 52.0, \"miles\": 34.0, \"group\": 1}, {\"speed\": 120.0, \"age\": 77.0, \"miles\": 14.0, \"group\": 0}, {\"speed\": 92.0, \"age\": 22.0, \"miles\": 19.0, \"group\": 2}, {\"speed\": 123.0, \"age\": 30.0, \"miles\": 30.0, \"group\": 0}, {\"speed\": 151.0, \"age\": 36.0, \"miles\": 47.0, \"group\": 0}, {\"speed\": 104.0, \"age\": 34.0, \"miles\": 21.0, \"group\": 0}, {\"speed\": 156.0, \"age\": 39.0, \"miles\": 59.0, \"group\": 0}, {\"speed\": 125.0, \"age\": 40.0, \"miles\": 43.0, \"group\": 0}, {\"speed\": 150.0, \"age\": 22.0, \"miles\": 46.0, \"group\": 0}, {\"speed\": 117.0, \"age\": 66.0, \"miles\": 18.0, \"group\": 0}, {\"speed\": 128.0, \"age\": 35.0, \"miles\": 3.0, \"group\": 1}, {\"speed\": 146.0, \"age\": 41.0, \"miles\": 44.0, \"group\": 1}, {\"speed\": 117.0, \"age\": 68.0, \"miles\": 21.0, \"group\": 0}, {\"speed\": 120.0, \"age\": 30.0, \"miles\": 24.0, \"group\": 0}, {\"speed\": 124.0, \"age\": 62.0, \"miles\": 28.0, \"group\": 2}, {\"speed\": 120.0, \"age\": 76.0, \"miles\": 52.0, \"group\": 2}, {\"speed\": 146.0, \"age\": 33.0, \"miles\": 50.0, \"group\": 0}, {\"speed\": 100.0, \"age\": 24.0, \"miles\": 21.0, \"group\": 2}, {\"speed\": 111.0, \"age\": 61.0, \"miles\": 18.0, \"group\": 1}, {\"speed\": 125.0, \"age\": 91.0, \"miles\": 20.0, \"group\": 0}, {\"speed\": 134.0, \"age\": 47.0, \"miles\": 35.0, \"group\": 1}, {\"speed\": 121.0, \"age\": 52.0, \"miles\": 28.0, \"group\": 1}, {\"speed\": 133.0, \"age\": 56.0, \"miles\": 43.0, \"group\": 2}, {\"speed\": 102.0, \"age\": 34.0, \"miles\": 3.0, \"group\": 1}, {\"speed\": 127.0, \"age\": 100.0, \"miles\": 30.0, \"group\": 2}, {\"speed\": 100.0, \"age\": 27.0, \"miles\": 8.0, \"group\": 2}, {\"speed\": 143.0, \"age\": 40.0, \"miles\": 38.0, \"group\": 1}, {\"speed\": 104.0, \"age\": 56.0, \"miles\": 30.0, \"group\": 2}, {\"speed\": 156.0, \"age\": 57.0, \"miles\": 23.0, \"group\": 2}, {\"speed\": 155.0, \"age\": 29.0, \"miles\": 51.0, \"group\": 0}, {\"speed\": 142.0, \"age\": 41.0, \"miles\": 43.0, \"group\": 1}, {\"speed\": 121.0, \"age\": 57.0, \"miles\": 41.0, \"group\": 2}, {\"speed\": 120.0, \"age\": 84.0, \"miles\": 20.0, \"group\": 0}, {\"speed\": 114.0, \"age\": 26.0, \"miles\": 25.0, \"group\": 0}, {\"speed\": 68.0, \"age\": 93.0, \"miles\": 27.0, \"group\": 2}, {\"speed\": 130.0, \"age\": 45.0, \"miles\": 33.0, \"group\": 1}, {\"speed\": 124.0, \"age\": 80.0, \"miles\": 29.0, \"group\": 0}, {\"speed\": 98.0, \"age\": 26.0, \"miles\": 13.0, \"group\": 2}, {\"speed\": 156.0, \"age\": 29.0, \"miles\": 55.0, \"group\": 0}, {\"speed\": 142.0, \"age\": 47.0, \"miles\": 30.0, \"group\": 1}, {\"speed\": 118.0, \"age\": 63.0, \"miles\": 14.0, \"group\": 2}, {\"speed\": 134.0, \"age\": 44.0, \"miles\": 61.0, \"group\": 2}, {\"speed\": 122.0, \"age\": 54.0, \"miles\": 42.0, \"group\": 1}, {\"speed\": 96.0, \"age\": 24.0, \"miles\": 23.0, \"group\": 2}, {\"speed\": 111.0, \"age\": 18.0, \"miles\": 6.0, \"group\": 2}, {\"speed\": 137.0, \"age\": 36.0, \"miles\": 41.0, \"group\": 1}, {\"speed\": 124.0, \"age\": 33.0, \"miles\": 11.0, \"group\": 1}, {\"speed\": 148.0, \"age\": 91.0, \"miles\": 67.0, \"group\": 2}, {\"speed\": 145.0, \"age\": 42.0, \"miles\": 39.0, \"group\": 1}, {\"speed\": 132.0, \"age\": 36.0, \"miles\": 49.0, \"group\": 1}, {\"speed\": 149.0, \"age\": 36.0, \"miles\": 47.0, \"group\": 0}, {\"speed\": 106.0, \"age\": 39.0, \"miles\": 26.0, \"group\": 1}, {\"speed\": 127.0, \"age\": 64.0, \"miles\": 21.0, \"group\": 0}, {\"speed\": 143.0, \"age\": 30.0, \"miles\": 42.0, \"group\": 0}, {\"speed\": 112.0, \"age\": 68.0, \"miles\": 23.0, \"group\": 2}, {\"speed\": 116.0, \"age\": 22.0, \"miles\": 36.0, \"group\": 0}, {\"speed\": 130.0, \"age\": 59.0, \"miles\": 55.0, \"group\": 2}, {\"speed\": 124.0, \"age\": 75.0, \"miles\": 17.0, \"group\": 0}, {\"speed\": 126.0, \"age\": 76.0, \"miles\": 7.0, \"group\": 0}, {\"speed\": 135.0, \"age\": 44.0, \"miles\": 40.0, \"group\": 1}, {\"speed\": 116.0, \"age\": 45.0, \"miles\": 48.0, \"group\": 2}, {\"speed\": 145.0, \"age\": 43.0, \"miles\": 50.0, \"group\": 0}, {\"speed\": 149.0, \"age\": 30.0, \"miles\": 57.0, \"group\": 0}, {\"speed\": 137.0, \"age\": 40.0, \"miles\": 22.0, \"group\": 2}, {\"speed\": 129.0, \"age\": 49.0, \"miles\": 46.0, \"group\": 1}, {\"speed\": 123.0, \"age\": 43.0, \"miles\": 44.0, \"group\": 2}, {\"speed\": 97.0, \"age\": 28.0, \"miles\": 52.0, \"group\": 0}, {\"speed\": 113.0, \"age\": 36.0, \"miles\": 38.0, \"group\": 0}, {\"speed\": 103.0, \"age\": 29.0, \"miles\": 18.0, \"group\": 2}, {\"speed\": 156.0, \"age\": 34.0, \"miles\": 49.0, \"group\": 0}, {\"speed\": 124.0, \"age\": 74.0, \"miles\": 60.0, \"group\": 2}, {\"speed\": 122.0, \"age\": 64.0, \"miles\": 24.0, \"group\": 0}, {\"speed\": 100.0, \"age\": 26.0, \"miles\": 14.0, \"group\": 2}, {\"speed\": 111.0, \"age\": 32.0, \"miles\": 31.0, \"group\": 0}, {\"speed\": 117.0, \"age\": 72.0, \"miles\": 70.0, \"group\": 2}, {\"speed\": 114.0, \"age\": 60.0, \"miles\": 19.0, \"group\": 0}, {\"speed\": 131.0, \"age\": 28.0, \"miles\": 30.0, \"group\": 0}, {\"speed\": 119.0, \"age\": 40.0, \"miles\": 43.0, \"group\": 2}, {\"speed\": 107.0, \"age\": 16.0, \"miles\": 25.0, \"group\": 0}, {\"speed\": 133.0, \"age\": 86.0, \"miles\": 33.0, \"group\": 0}, {\"speed\": 136.0, \"age\": 55.0, \"miles\": 37.0, \"group\": 1}, {\"speed\": 120.0, \"age\": 30.0, \"miles\": 13.0, \"group\": 0}, {\"speed\": 152.0, \"age\": 33.0, \"miles\": 49.0, \"group\": 0}, {\"speed\": 138.0, \"age\": 43.0, \"miles\": 57.0, \"group\": 2}, {\"speed\": 106.0, \"age\": 85.0, \"miles\": 7.0, \"group\": 0}, {\"speed\": 117.0, \"age\": 67.0, \"miles\": 49.0, \"group\": 2}, {\"speed\": 112.0, \"age\": 57.0, \"miles\": 12.0, \"group\": 1}, {\"speed\": 138.0, \"age\": 47.0, \"miles\": 48.0, \"group\": 1}, {\"speed\": 137.0, \"age\": 40.0, \"miles\": 47.0, \"group\": 1}, {\"speed\": 150.0, \"age\": 31.0, \"miles\": 48.0, \"group\": 0}, {\"speed\": 142.0, \"age\": 37.0, \"miles\": 40.0, \"group\": 1}, {\"speed\": 107.0, \"age\": 34.0, \"miles\": 26.0, \"group\": 1}, {\"speed\": 132.0, \"age\": 76.0, \"miles\": 33.0, \"group\": 2}, {\"speed\": 150.0, \"age\": 32.0, \"miles\": 56.0, \"group\": 0}, {\"speed\": 100.0, \"age\": 29.0, \"miles\": 59.0, \"group\": 2}, {\"speed\": 120.0, \"age\": 61.0, \"miles\": 61.0, \"group\": 2}, {\"speed\": 134.0, \"age\": 45.0, \"miles\": 1.0, \"group\": 2}, {\"speed\": 109.0, \"age\": 37.0, \"miles\": 7.0, \"group\": 1}, {\"speed\": 124.0, \"age\": 46.0, \"miles\": 28.0, \"group\": 0}, {\"speed\": 113.0, \"age\": 58.0, \"miles\": 33.0, \"group\": 2}, {\"speed\": 128.0, \"age\": 84.0, \"miles\": 41.0, \"group\": 0}, {\"speed\": 96.0, \"age\": 22.0, \"miles\": 13.0, \"group\": 2}, {\"speed\": 133.0, \"age\": 48.0, \"miles\": 47.0, \"group\": 1}, {\"speed\": 142.0, \"age\": 40.0, \"miles\": 40.0, \"group\": 1}, {\"speed\": 152.0, \"age\": 40.0, \"miles\": 54.0, \"group\": 0}, {\"speed\": 135.0, \"age\": 45.0, \"miles\": 41.0, \"group\": 1}, {\"speed\": 153.0, \"age\": 32.0, \"miles\": 46.0, \"group\": 0}, {\"speed\": 103.0, \"age\": 39.0, \"miles\": 9.0, \"group\": 1}, {\"speed\": 92.0, \"age\": 27.0, \"miles\": 12.0, \"group\": 2}, {\"speed\": 141.0, \"age\": 45.0, \"miles\": 38.0, \"group\": 1}, {\"speed\": 137.0, \"age\": 40.0, \"miles\": 36.0, \"group\": 1}, {\"speed\": 103.0, \"age\": 33.0, \"miles\": 17.0, \"group\": 2}, {\"speed\": 154.0, \"age\": 39.0, \"miles\": 47.0, \"group\": 0}, {\"speed\": 147.0, \"age\": 35.0, \"miles\": 52.0, \"group\": 0}, {\"speed\": 147.0, \"age\": 35.0, \"miles\": 52.0, \"group\": 0}, {\"speed\": 122.0, \"age\": 25.0, \"miles\": 8.0, \"group\": 0}, {\"speed\": 147.0, \"age\": 38.0, \"miles\": 47.0, \"group\": 0}, {\"speed\": 118.0, \"age\": 45.0, \"miles\": 14.0, \"group\": 1}, {\"speed\": 120.0, \"age\": 53.0, \"miles\": 21.0, \"group\": 1}, {\"speed\": 134.0, \"age\": 27.0, \"miles\": 69.0, \"group\": 2}, {\"speed\": 101.0, \"age\": 31.0, \"miles\": 3.0, \"group\": 2}, {\"speed\": 112.0, \"age\": 46.0, \"miles\": 17.0, \"group\": 1}, {\"speed\": 137.0, \"age\": 42.0, \"miles\": 42.0, \"group\": 2}, {\"speed\": 134.0, \"age\": 45.0, \"miles\": 36.0, \"group\": 1}, {\"speed\": 138.0, \"age\": 49.0, \"miles\": 42.0, \"group\": 1}, {\"speed\": 113.0, \"age\": 30.0, \"miles\": 36.0, \"group\": 0}, {\"speed\": 134.0, \"age\": 48.0, \"miles\": 43.0, \"group\": 1}, {\"speed\": 138.0, \"age\": 46.0, \"miles\": 2.0, \"group\": 2}, {\"speed\": 115.0, \"age\": 60.0, \"miles\": 24.0, \"group\": 0}, {\"speed\": 151.0, \"age\": 30.0, \"miles\": 1.0, \"group\": 2}, {\"speed\": 97.0, \"age\": 62.0, \"miles\": 18.0, \"group\": 2}, {\"speed\": 157.0, \"age\": 34.0, \"miles\": 52.0, \"group\": 0}, {\"speed\": 117.0, \"age\": 84.0, \"miles\": 35.0, \"group\": 0}, {\"speed\": 96.0, \"age\": 26.0, \"miles\": 13.0, \"group\": 2}, {\"speed\": 120.0, \"age\": 76.0, \"miles\": 40.0, \"group\": 2}, {\"speed\": 118.0, \"age\": 81.0, \"miles\": 30.0, \"group\": 0}, {\"speed\": 139.0, \"age\": 45.0, \"miles\": 50.0, \"group\": 2}, {\"speed\": 119.0, \"age\": 37.0, \"miles\": 15.0, \"group\": 1}, {\"speed\": 144.0, \"age\": 52.0, \"miles\": 37.0, \"group\": 1}, {\"speed\": 101.0, \"age\": 33.0, \"miles\": 18.0, \"group\": 2}, {\"speed\": 96.0, \"age\": 28.0, \"miles\": 15.0, \"group\": 2}, {\"speed\": 107.0, \"age\": 44.0, \"miles\": 20.0, \"group\": 1}, {\"speed\": 124.0, \"age\": 39.0, \"miles\": 29.0, \"group\": 0}, {\"speed\": 149.0, \"age\": 32.0, \"miles\": 49.0, \"group\": 0}, {\"speed\": 101.0, \"age\": 20.0, \"miles\": 16.0, \"group\": 2}, {\"speed\": 125.0, \"age\": 50.0, \"miles\": 46.0, \"group\": 2}, {\"speed\": 115.0, \"age\": 74.0, \"miles\": 16.0, \"group\": 0}, {\"speed\": 110.0, \"age\": 22.0, \"miles\": 39.0, \"group\": 0}, {\"speed\": 99.0, \"age\": 23.0, \"miles\": 18.0, \"group\": 2}, {\"speed\": 125.0, \"age\": 27.0, \"miles\": 25.0, \"group\": 0}, {\"speed\": 123.0, \"age\": 97.0, \"miles\": 37.0, \"group\": 2}, {\"speed\": 148.0, \"age\": 35.0, \"miles\": 53.0, \"group\": 0}, {\"speed\": 121.0, \"age\": 33.0, \"miles\": 48.0, \"group\": 2}, {\"speed\": 124.0, \"age\": 45.0, \"miles\": 16.0, \"group\": 1}, {\"speed\": 122.0, \"age\": 33.0, \"miles\": 28.0, \"group\": 0}, {\"speed\": 120.0, \"age\": 21.0, \"miles\": 37.0, \"group\": 0}, {\"speed\": 134.0, \"age\": 60.0, \"miles\": 32.0, \"group\": 2}, {\"speed\": 144.0, \"age\": 48.0, \"miles\": 49.0, \"group\": 1}, {\"speed\": 142.0, \"age\": 75.0, \"miles\": 41.0, \"group\": 2}, {\"speed\": 108.0, \"age\": 36.0, \"miles\": 25.0, \"group\": 0}, {\"speed\": 115.0, \"age\": 69.0, \"miles\": 16.0, \"group\": 0}, {\"speed\": 129.0, \"age\": 42.0, \"miles\": 41.0, \"group\": 1}, {\"speed\": 106.0, \"age\": 47.0, \"miles\": 13.0, \"group\": 1}, {\"speed\": 110.0, \"age\": 76.0, \"miles\": 34.0, \"group\": 0}, {\"speed\": 92.0, \"age\": 28.0, \"miles\": 21.0, \"group\": 2}, {\"speed\": 145.0, \"age\": 45.0, \"miles\": 58.0, \"group\": 2}, {\"speed\": 93.0, \"age\": 20.0, \"miles\": 16.0, \"group\": 2}, {\"speed\": 131.0, \"age\": 16.0, \"miles\": 33.0, \"group\": 0}, {\"speed\": 96.0, \"age\": 57.0, \"miles\": 32.0, \"group\": 1}, {\"speed\": 146.0, \"age\": 29.0, \"miles\": 55.0, \"group\": 0}, {\"speed\": 113.0, \"age\": 44.0, \"miles\": 9.0, \"group\": 1}, {\"speed\": 99.0, \"age\": 28.0, \"miles\": 13.0, \"group\": 2}, {\"speed\": 118.0, \"age\": 48.0, \"miles\": 19.0, \"group\": 2}, {\"speed\": 99.0, \"age\": 23.0, \"miles\": 15.0, \"group\": 2}, {\"speed\": 139.0, \"age\": 48.0, \"miles\": 38.0, \"group\": 1}, {\"speed\": 137.0, \"age\": 48.0, \"miles\": 41.0, \"group\": 1}, {\"speed\": 94.0, \"age\": 27.0, \"miles\": 11.0, \"group\": 2}, {\"speed\": 132.0, \"age\": 49.0, \"miles\": 38.0, \"group\": 1}, {\"speed\": 125.0, \"age\": 37.0, \"miles\": 21.0, \"group\": 1}, {\"speed\": 128.0, \"age\": 53.0, \"miles\": 25.0, \"group\": 0}, {\"speed\": 101.0, \"age\": 16.0, \"miles\": 9.0, \"group\": 2}, {\"speed\": 112.0, \"age\": 59.0, \"miles\": 12.0, \"group\": 1}, {\"speed\": 133.0, \"age\": 38.0, \"miles\": 42.0, \"group\": 1}, {\"speed\": 98.0, \"age\": 57.0, \"miles\": 31.0, \"group\": 1}, {\"speed\": 148.0, \"age\": 32.0, \"miles\": 57.0, \"group\": 0}, {\"speed\": 137.0, \"age\": 46.0, \"miles\": 39.0, \"group\": 1}, {\"speed\": 101.0, \"age\": 16.0, \"miles\": 13.0, \"group\": 2}, {\"speed\": 95.0, \"age\": 24.0, \"miles\": 17.0, \"group\": 2}, {\"speed\": 144.0, \"age\": 36.0, \"miles\": 51.0, \"group\": 2}, {\"speed\": 131.0, \"age\": 47.0, \"miles\": 21.0, \"group\": 1}, {\"speed\": 145.0, \"age\": 40.0, \"miles\": 53.0, \"group\": 0}, {\"speed\": 114.0, \"age\": 48.0, \"miles\": 7.0, \"group\": 1}, {\"speed\": 136.0, \"age\": 67.0, \"miles\": 15.0, \"group\": 0}, {\"speed\": 107.0, \"age\": 82.0, \"miles\": 19.0, \"group\": 0}, {\"speed\": 140.0, \"age\": 52.0, \"miles\": 42.0, \"group\": 1}, {\"speed\": 121.0, \"age\": 55.0, \"miles\": 60.0, \"group\": 2}, {\"speed\": 121.0, \"age\": 86.0, \"miles\": 12.0, \"group\": 0}, {\"speed\": 102.0, \"age\": 38.0, \"miles\": 19.0, \"group\": 0}, {\"speed\": 116.0, \"age\": 48.0, \"miles\": 70.0, \"group\": 2}, {\"speed\": 104.0, \"age\": 55.0, \"miles\": 18.0, \"group\": 1}, {\"speed\": 105.0, \"age\": 52.0, \"miles\": 72.0, \"group\": 2}, {\"speed\": 94.0, \"age\": 16.0, \"miles\": 11.0, \"group\": 2}, {\"speed\": 140.0, \"age\": 40.0, \"miles\": 35.0, \"group\": 1}, {\"speed\": 129.0, \"age\": 56.0, \"miles\": 7.0, \"group\": 2}, {\"speed\": 112.0, \"age\": 51.0, \"miles\": 19.0, \"group\": 1}, {\"speed\": 90.0, \"age\": 32.0, \"miles\": 14.0, \"group\": 2}, {\"speed\": 151.0, \"age\": 47.0, \"miles\": 54.0, \"group\": 0}, {\"speed\": 121.0, \"age\": 23.0, \"miles\": 23.0, \"group\": 0}, {\"speed\": 112.0, \"age\": 38.0, \"miles\": 25.0, \"group\": 1}, {\"speed\": 122.0, \"age\": 92.0, \"miles\": 13.0, \"group\": 0}, {\"speed\": 135.0, \"age\": 70.0, \"miles\": 20.0, \"group\": 2}, {\"speed\": 148.0, \"age\": 44.0, \"miles\": 39.0, \"group\": 1}, {\"speed\": 103.0, \"age\": 52.0, \"miles\": 8.0, \"group\": 2}, {\"speed\": 103.0, \"age\": 32.0, \"miles\": 30.0, \"group\": 0}, {\"speed\": 152.0, \"age\": 32.0, \"miles\": 58.0, \"group\": 0}, {\"speed\": 146.0, \"age\": 37.0, \"miles\": 46.0, \"group\": 0}, {\"speed\": 114.0, \"age\": 72.0, \"miles\": 29.0, \"group\": 0}, {\"speed\": 111.0, \"age\": 49.0, \"miles\": 38.0, \"group\": 2}, {\"speed\": 141.0, \"age\": 24.0, \"miles\": 23.0, \"group\": 2}, {\"speed\": 141.0, \"age\": 49.0, \"miles\": 67.0, \"group\": 2}, {\"speed\": 142.0, \"age\": 70.0, \"miles\": 25.0, \"group\": 2}, {\"speed\": 112.0, \"age\": 30.0, \"miles\": 12.0, \"group\": 1}, {\"speed\": 113.0, \"age\": 42.0, \"miles\": 13.0, \"group\": 1}, {\"speed\": 124.0, \"age\": 36.0, \"miles\": 34.0, \"group\": 0}, {\"speed\": 148.0, \"age\": 27.0, \"miles\": 48.0, \"group\": 0}, {\"speed\": 148.0, \"age\": 29.0, \"miles\": 50.0, \"group\": 0}, {\"speed\": 144.0, \"age\": 61.0, \"miles\": 29.0, \"group\": 2}, {\"speed\": 135.0, \"age\": 19.0, \"miles\": 37.0, \"group\": 2}, {\"speed\": 109.0, \"age\": 43.0, \"miles\": 52.0, \"group\": 2}, {\"speed\": 123.0, \"age\": 90.0, \"miles\": 18.0, \"group\": 0}, {\"speed\": 126.0, \"age\": 54.0, \"miles\": 44.0, \"group\": 2}, {\"speed\": 121.0, \"age\": 46.0, \"miles\": 7.0, \"group\": 1}, {\"speed\": 121.0, \"age\": 60.0, \"miles\": 58.0, \"group\": 2}, {\"speed\": 138.0, \"age\": 80.0, \"miles\": 24.0, \"group\": 0}, {\"speed\": 150.0, \"age\": 35.0, \"miles\": 48.0, \"group\": 0}, {\"speed\": 90.0, \"age\": 54.0, \"miles\": 20.0, \"group\": 1}, {\"speed\": 126.0, \"age\": 85.0, \"miles\": 19.0, \"group\": 0}, {\"speed\": 89.0, \"age\": 26.0, \"miles\": 12.0, \"group\": 2}, {\"speed\": 123.0, \"age\": 81.0, \"miles\": 21.0, \"group\": 0}, {\"speed\": 120.0, \"age\": 72.0, \"miles\": 29.0, \"group\": 0}, {\"speed\": 128.0, \"age\": 84.0, \"miles\": 38.0, \"group\": 2}, {\"speed\": 102.0, \"age\": 26.0, \"miles\": 17.0, \"group\": 2}, {\"speed\": 117.0, \"age\": 52.0, \"miles\": 23.0, \"group\": 1}, {\"speed\": 149.0, \"age\": 29.0, \"miles\": 48.0, \"group\": 0}, {\"speed\": 137.0, \"age\": 40.0, \"miles\": 75.0, \"group\": 2}, {\"speed\": 153.0, \"age\": 31.0, \"miles\": 53.0, \"group\": 0}, {\"speed\": 117.0, \"age\": 28.0, \"miles\": 28.0, \"group\": 1}, {\"speed\": 105.0, \"age\": 56.0, \"miles\": 27.0, \"group\": 1}, {\"speed\": 123.0, \"age\": 81.0, \"miles\": 26.0, \"group\": 0}, {\"speed\": 134.0, \"age\": 26.0, \"miles\": 46.0, \"group\": 2}, {\"speed\": 127.0, \"age\": 83.0, \"miles\": 24.0, \"group\": 0}, {\"speed\": 112.0, \"age\": 32.0, \"miles\": 23.0, \"group\": 1}, {\"speed\": 151.0, \"age\": 32.0, \"miles\": 44.0, \"group\": 0}, {\"speed\": 105.0, \"age\": 19.0, \"miles\": 16.0, \"group\": 2}, {\"speed\": 122.0, \"age\": 27.0, \"miles\": 31.0, \"group\": 0}, {\"speed\": 102.0, \"age\": 40.0, \"miles\": 19.0, \"group\": 1}, {\"speed\": 115.0, \"age\": 63.0, \"miles\": 33.0, \"group\": 1}, {\"speed\": 100.0, \"age\": 44.0, \"miles\": 17.0, \"group\": 0}, {\"speed\": 102.0, \"age\": 24.0, \"miles\": 6.0, \"group\": 2}, {\"speed\": 156.0, \"age\": 32.0, \"miles\": 49.0, \"group\": 0}, {\"speed\": 135.0, \"age\": 80.0, \"miles\": 40.0, \"group\": 2}, {\"speed\": 128.0, \"age\": 33.0, \"miles\": 52.0, \"group\": 2}, {\"speed\": 105.0, \"age\": 38.0, \"miles\": 33.0, \"group\": 1}, {\"speed\": 121.0, \"age\": 63.0, \"miles\": 29.0, \"group\": 2}, {\"speed\": 134.0, \"age\": 45.0, \"miles\": 15.0, \"group\": 2}, {\"speed\": 111.0, \"age\": 33.0, \"miles\": 9.0, \"group\": 1}, {\"speed\": 121.0, \"age\": 74.0, \"miles\": 25.0, \"group\": 0}, {\"speed\": 107.0, \"age\": 24.0, \"miles\": 16.0, \"group\": 2}, {\"speed\": 142.0, \"age\": 34.0, \"miles\": 52.0, \"group\": 0}, {\"speed\": 119.0, \"age\": 81.0, \"miles\": 26.0, \"group\": 0}, {\"speed\": 135.0, \"age\": 31.0, \"miles\": 22.0, \"group\": 0}, {\"speed\": 113.0, \"age\": 39.0, \"miles\": 38.0, \"group\": 1}, {\"speed\": 115.0, \"age\": 43.0, \"miles\": 27.0, \"group\": 1}, {\"speed\": 143.0, \"age\": 51.0, \"miles\": 37.0, \"group\": 1}, {\"speed\": 107.0, \"age\": 56.0, \"miles\": 29.0, \"group\": 1}, {\"speed\": 146.0, \"age\": 50.0, \"miles\": 37.0, \"group\": 1}, {\"speed\": 147.0, \"age\": 31.0, \"miles\": 57.0, \"group\": 0}, {\"speed\": 112.0, \"age\": 30.0, \"miles\": 11.0, \"group\": 1}, {\"speed\": 123.0, \"age\": 49.0, \"miles\": 32.0, \"group\": 2}, {\"speed\": 142.0, \"age\": 35.0, \"miles\": 37.0, \"group\": 1}, {\"speed\": 99.0, \"age\": 26.0, \"miles\": 21.0, \"group\": 2}, {\"speed\": 120.0, \"age\": 61.0, \"miles\": 6.0, \"group\": 1}, {\"speed\": 130.0, \"age\": 56.0, \"miles\": 31.0, \"group\": 2}, {\"speed\": 109.0, \"age\": 42.0, \"miles\": 15.0, \"group\": 1}, {\"speed\": 109.0, \"age\": 56.0, \"miles\": 4.0, \"group\": 1}, {\"speed\": 129.0, \"age\": 75.0, \"miles\": 13.0, \"group\": 0}, {\"speed\": 126.0, \"age\": 83.0, \"miles\": 21.0, \"group\": 0}, {\"speed\": 116.0, \"age\": 33.0, \"miles\": 26.0, \"group\": 1}, {\"speed\": 105.0, \"age\": 39.0, \"miles\": 16.0, \"group\": 1}, {\"speed\": 110.0, \"age\": 22.0, \"miles\": 15.0, \"group\": 2}, {\"speed\": 114.0, \"age\": 69.0, \"miles\": 55.0, \"group\": 2}, {\"speed\": 142.0, \"age\": 44.0, \"miles\": 49.0, \"group\": 1}, {\"speed\": 129.0, \"age\": 41.0, \"miles\": 31.0, \"group\": 0}, {\"speed\": 111.0, \"age\": 52.0, \"miles\": 23.0, \"group\": 0}, {\"speed\": 114.0, \"age\": 67.0, \"miles\": 37.0, \"group\": 1}, {\"speed\": 149.0, \"age\": 38.0, \"miles\": 56.0, \"group\": 0}, {\"speed\": 95.0, \"age\": 46.0, \"miles\": 1.0, \"group\": 1}, {\"speed\": 149.0, \"age\": 36.0, \"miles\": 54.0, \"group\": 0}, {\"speed\": 95.0, \"age\": 27.0, \"miles\": 10.0, \"group\": 2}, {\"speed\": 106.0, \"age\": 21.0, \"miles\": 23.0, \"group\": 2}, {\"speed\": 116.0, \"age\": 45.0, \"miles\": 26.0, \"group\": 1}, {\"speed\": 136.0, \"age\": 24.0, \"miles\": 43.0, \"group\": 2}, {\"speed\": 104.0, \"age\": 25.0, \"miles\": 21.0, \"group\": 2}, {\"speed\": 150.0, \"age\": 52.0, \"miles\": 57.0, \"group\": 2}, {\"speed\": 137.0, \"age\": 50.0, \"miles\": 50.0, \"group\": 1}, {\"speed\": 97.0, \"age\": 30.0, \"miles\": 23.0, \"group\": 2}, {\"speed\": 129.0, \"age\": 74.0, \"miles\": 3.0, \"group\": 0}, {\"speed\": 95.0, \"age\": 29.0, \"miles\": 8.0, \"group\": 2}, {\"speed\": 99.0, \"age\": 29.0, \"miles\": 16.0, \"group\": 2}, {\"speed\": 139.0, \"age\": 45.0, \"miles\": 54.0, \"group\": 2}, {\"speed\": 138.0, \"age\": 68.0, \"miles\": 56.0, \"group\": 2}, {\"speed\": 151.0, \"age\": 36.0, \"miles\": 47.0, \"group\": 0}, {\"speed\": 137.0, \"age\": 55.0, \"miles\": 35.0, \"group\": 2}, {\"speed\": 122.0, \"age\": 52.0, \"miles\": 30.0, \"group\": 2}, {\"speed\": 117.0, \"age\": 24.0, \"miles\": 37.0, \"group\": 0}, {\"speed\": 112.0, \"age\": 78.0, \"miles\": 19.0, \"group\": 0}, {\"speed\": 141.0, \"age\": 44.0, \"miles\": 41.0, \"group\": 1}, {\"speed\": 105.0, \"age\": 28.0, \"miles\": 14.0, \"group\": 2}, {\"speed\": 145.0, \"age\": 46.0, \"miles\": 45.0, \"group\": 1}, {\"speed\": 132.0, \"age\": 67.0, \"miles\": 27.0, \"group\": 2}, {\"speed\": 116.0, \"age\": 32.0, \"miles\": 21.0, \"group\": 1}, {\"speed\": 151.0, \"age\": 32.0, \"miles\": 54.0, \"group\": 0}, {\"speed\": 139.0, \"age\": 47.0, \"miles\": 40.0, \"group\": 1}, {\"speed\": 152.0, \"age\": 49.0, \"miles\": 30.0, \"group\": 2}, {\"speed\": 138.0, \"age\": 99.0, \"miles\": 55.0, \"group\": 2}, {\"speed\": 101.0, \"age\": 35.0, \"miles\": 20.0, \"group\": 2}, {\"speed\": 138.0, \"age\": 40.0, \"miles\": 43.0, \"group\": 1}, {\"speed\": 103.0, \"age\": 28.0, \"miles\": 19.0, \"group\": 2}, {\"speed\": 158.0, \"age\": 39.0, \"miles\": 44.0, \"group\": 0}, {\"speed\": 145.0, \"age\": 64.0, \"miles\": 33.0, \"group\": 2}, {\"speed\": 101.0, \"age\": 30.0, \"miles\": 11.0, \"group\": 2}, {\"speed\": 150.0, \"age\": 39.0, \"miles\": 51.0, \"group\": 0}, {\"speed\": 101.0, \"age\": 22.0, \"miles\": 13.0, \"group\": 2}, {\"speed\": 99.0, \"age\": 25.0, \"miles\": 17.0, \"group\": 2}, {\"speed\": 129.0, \"age\": 45.0, \"miles\": 43.0, \"group\": 2}, {\"speed\": 115.0, \"age\": 83.0, \"miles\": 17.0, \"group\": 0}, {\"speed\": 114.0, \"age\": 44.0, \"miles\": 25.0, \"group\": 0}, {\"speed\": 108.0, \"age\": 64.0, \"miles\": 1.0, \"group\": 1}, {\"speed\": 130.0, \"age\": 54.0, \"miles\": 45.0, \"group\": 2}, {\"speed\": 129.0, \"age\": 24.0, \"miles\": 37.0, \"group\": 0}, {\"speed\": 107.0, \"age\": 69.0, \"miles\": 28.0, \"group\": 0}, {\"speed\": 115.0, \"age\": 48.0, \"miles\": 18.0, \"group\": 1}, {\"speed\": 134.0, \"age\": 43.0, \"miles\": 41.0, \"group\": 1}, {\"speed\": 148.0, \"age\": 43.0, \"miles\": 39.0, \"group\": 1}, {\"speed\": 127.0, \"age\": 67.0, \"miles\": 21.0, \"group\": 2}, {\"speed\": 97.0, \"age\": 20.0, \"miles\": 16.0, \"group\": 2}, {\"speed\": 131.0, \"age\": 34.0, \"miles\": 59.0, \"group\": 2}, {\"speed\": 150.0, \"age\": 45.0, \"miles\": 45.0, \"group\": 1}, {\"speed\": 120.0, \"age\": 42.0, \"miles\": 35.0, \"group\": 2}, {\"speed\": 142.0, \"age\": 46.0, \"miles\": 29.0, \"group\": 1}, {\"speed\": 116.0, \"age\": 74.0, \"miles\": 41.0, \"group\": 0}, {\"speed\": 112.0, \"age\": 39.0, \"miles\": 27.0, \"group\": 2}, {\"speed\": 139.0, \"age\": 47.0, \"miles\": 34.0, \"group\": 1}, {\"speed\": 144.0, \"age\": 33.0, \"miles\": 51.0, \"group\": 0}, {\"speed\": 88.0, \"age\": 23.0, \"miles\": 20.0, \"group\": 2}, {\"speed\": 117.0, \"age\": 79.0, \"miles\": 18.0, \"group\": 0}, {\"speed\": 106.0, \"age\": 30.0, \"miles\": 14.0, \"group\": 1}, {\"speed\": 119.0, \"age\": 35.0, \"miles\": 8.0, \"group\": 1}, {\"speed\": 106.0, \"age\": 44.0, \"miles\": 25.0, \"group\": 1}, {\"speed\": 144.0, \"age\": 44.0, \"miles\": 40.0, \"group\": 1}, {\"speed\": 135.0, \"age\": 45.0, \"miles\": 36.0, \"group\": 1}, {\"speed\": 108.0, \"age\": 57.0, \"miles\": 5.0, \"group\": 1}, {\"speed\": 151.0, \"age\": 33.0, \"miles\": 50.0, \"group\": 0}, {\"speed\": 96.0, \"age\": 33.0, \"miles\": 14.0, \"group\": 2}, {\"speed\": 115.0, \"age\": 44.0, \"miles\": 27.0, \"group\": 2}, {\"speed\": 116.0, \"age\": 50.0, \"miles\": 36.0, \"group\": 2}, {\"speed\": 105.0, \"age\": 41.0, \"miles\": 28.0, \"group\": 1}, {\"speed\": 151.0, \"age\": 32.0, \"miles\": 53.0, \"group\": 0}, {\"speed\": 97.0, \"age\": 28.0, \"miles\": 21.0, \"group\": 2}, {\"speed\": 149.0, \"age\": 49.0, \"miles\": 42.0, \"group\": 1}, {\"speed\": 107.0, \"age\": 59.0, \"miles\": 20.0, \"group\": 1}, {\"speed\": 105.0, \"age\": 30.0, \"miles\": 17.0, \"group\": 2}, {\"speed\": 118.0, \"age\": 45.0, \"miles\": 42.0, \"group\": 0}, {\"speed\": 89.0, \"age\": 32.0, \"miles\": 10.0, \"group\": 2}, {\"speed\": 108.0, \"age\": 31.0, \"miles\": 60.0, \"group\": 2}, {\"speed\": 112.0, \"age\": 82.0, \"miles\": 45.0, \"group\": 2}, {\"speed\": 120.0, \"age\": 48.0, \"miles\": 15.0, \"group\": 1}, {\"speed\": 126.0, \"age\": 38.0, \"miles\": 27.0, \"group\": 0}, {\"speed\": 107.0, \"age\": 42.0, \"miles\": 20.0, \"group\": 1}, {\"speed\": 154.0, \"age\": 35.0, \"miles\": 56.0, \"group\": 0}, {\"speed\": 123.0, \"age\": 71.0, \"miles\": 20.0, \"group\": 0}, {\"speed\": 115.0, \"age\": 39.0, \"miles\": 11.0, \"group\": 1}, {\"speed\": 148.0, \"age\": 42.0, \"miles\": 50.0, \"group\": 0}, {\"speed\": 108.0, \"age\": 56.0, \"miles\": 42.0, \"group\": 1}, {\"speed\": 112.0, \"age\": 42.0, \"miles\": 31.0, \"group\": 1}, {\"speed\": 135.0, \"age\": 46.0, \"miles\": 36.0, \"group\": 1}, {\"speed\": 116.0, \"age\": 70.0, \"miles\": 27.0, \"group\": 1}, {\"speed\": 131.0, \"age\": 51.0, \"miles\": 43.0, \"group\": 2}, {\"speed\": 140.0, \"age\": 36.0, \"miles\": 41.0, \"group\": 2}, {\"speed\": 127.0, \"age\": 81.0, \"miles\": 18.0, \"group\": 0}, {\"speed\": 119.0, \"age\": 41.0, \"miles\": 25.0, \"group\": 2}, {\"speed\": 108.0, \"age\": 56.0, \"miles\": 10.0, \"group\": 1}, {\"speed\": 110.0, \"age\": 60.0, \"miles\": 26.0, \"group\": 1}, {\"speed\": 93.0, \"age\": 26.0, \"miles\": 18.0, \"group\": 2}, {\"speed\": 151.0, \"age\": 30.0, \"miles\": 51.0, \"group\": 0}, {\"speed\": 125.0, \"age\": 52.0, \"miles\": 60.0, \"group\": 2}, {\"speed\": 99.0, \"age\": 16.0, \"miles\": 13.0, \"group\": 2}, {\"speed\": 108.0, \"age\": 28.0, \"miles\": 38.0, \"group\": 0}, {\"speed\": 125.0, \"age\": 34.0, \"miles\": 43.0, \"group\": 0}, {\"speed\": 107.0, \"age\": 71.0, \"miles\": 25.0, \"group\": 2}, {\"speed\": 113.0, \"age\": 40.0, \"miles\": 47.0, \"group\": 1}, {\"speed\": 147.0, \"age\": 34.0, \"miles\": 52.0, \"group\": 0}, {\"speed\": 120.0, \"age\": 35.0, \"miles\": 19.0, \"group\": 0}, {\"speed\": 104.0, \"age\": 16.0, \"miles\": 15.0, \"group\": 2}, {\"speed\": 139.0, \"age\": 75.0, \"miles\": 51.0, \"group\": 2}, {\"speed\": 101.0, \"age\": 51.0, \"miles\": 19.0, \"group\": 1}, {\"speed\": 101.0, \"age\": 19.0, \"miles\": 8.0, \"group\": 2}, {\"speed\": 146.0, \"age\": 44.0, \"miles\": 42.0, \"group\": 1}, {\"speed\": 134.0, \"age\": 62.0, \"miles\": 55.0, \"group\": 2}, {\"speed\": 107.0, \"age\": 39.0, \"miles\": 21.0, \"group\": 1}, {\"speed\": 112.0, \"age\": 74.0, \"miles\": 29.0, \"group\": 2}, {\"speed\": 133.0, \"age\": 51.0, \"miles\": 25.0, \"group\": 1}, {\"speed\": 130.0, \"age\": 56.0, \"miles\": 40.0, \"group\": 2}, {\"speed\": 152.0, \"age\": 31.0, \"miles\": 49.0, \"group\": 0}, {\"speed\": 93.0, \"age\": 44.0, \"miles\": 7.0, \"group\": 1}, {\"speed\": 133.0, \"age\": 19.0, \"miles\": 37.0, \"group\": 0}, {\"speed\": 98.0, \"age\": 30.0, \"miles\": 9.0, \"group\": 2}, {\"speed\": 95.0, \"age\": 45.0, \"miles\": 17.0, \"group\": 1}, {\"speed\": 143.0, \"age\": 50.0, \"miles\": 37.0, \"group\": 1}, {\"speed\": 149.0, \"age\": 35.0, \"miles\": 44.0, \"group\": 0}, {\"speed\": 120.0, \"age\": 41.0, \"miles\": 70.0, \"group\": 2}, {\"speed\": 125.0, \"age\": 62.0, \"miles\": 62.0, \"group\": 2}, {\"speed\": 116.0, \"age\": 31.0, \"miles\": 14.0, \"group\": 1}, {\"speed\": 152.0, \"age\": 33.0, \"miles\": 47.0, \"group\": 0}, {\"speed\": 139.0, \"age\": 38.0, \"miles\": 42.0, \"group\": 2}, {\"speed\": 126.0, \"age\": 41.0, \"miles\": 49.0, \"group\": 2}, {\"speed\": 109.0, \"age\": 40.0, \"miles\": 7.0, \"group\": 1}, {\"speed\": 113.0, \"age\": 64.0, \"miles\": 24.0, \"group\": 1}, {\"speed\": 94.0, \"age\": 49.0, \"miles\": 12.0, \"group\": 1}, {\"speed\": 131.0, \"age\": 45.0, \"miles\": 36.0, \"group\": 1}, {\"speed\": 119.0, \"age\": 45.0, \"miles\": 23.0, \"group\": 1}, {\"speed\": 136.0, \"age\": 45.0, \"miles\": 42.0, \"group\": 1}, {\"speed\": 152.0, \"age\": 38.0, \"miles\": 46.0, \"group\": 0}, {\"speed\": 99.0, \"age\": 60.0, \"miles\": 16.0, \"group\": 2}, {\"speed\": 137.0, \"age\": 52.0, \"miles\": 38.0, \"group\": 1}, {\"speed\": 131.0, \"age\": 74.0, \"miles\": 20.0, \"group\": 0}, {\"speed\": 115.0, \"age\": 60.0, \"miles\": 36.0, \"group\": 1}, {\"speed\": 123.0, \"age\": 73.0, \"miles\": 25.0, \"group\": 0}, {\"speed\": 123.0, \"age\": 41.0, \"miles\": 57.0, \"group\": 2}, {\"speed\": 132.0, \"age\": 71.0, \"miles\": 11.0, \"group\": 0}, {\"speed\": 104.0, \"age\": 47.0, \"miles\": 28.0, \"group\": 1}, {\"speed\": 142.0, \"age\": 73.0, \"miles\": 41.0, \"group\": 2}, {\"speed\": 141.0, \"age\": 40.0, \"miles\": 37.0, \"group\": 1}, {\"speed\": 104.0, \"age\": 66.0, \"miles\": 31.0, \"group\": 1}, {\"speed\": 147.0, \"age\": 36.0, \"miles\": 50.0, \"group\": 0}, {\"speed\": 134.0, \"age\": 44.0, \"miles\": 38.0, \"group\": 1}, {\"speed\": 149.0, \"age\": 34.0, \"miles\": 54.0, \"group\": 0}, {\"speed\": 159.0, \"age\": 32.0, \"miles\": 47.0, \"group\": 0}, {\"speed\": 124.0, \"age\": 46.0, \"miles\": 13.0, \"group\": 1}, {\"speed\": 148.0, \"age\": 31.0, \"miles\": 51.0, \"group\": 0}, {\"speed\": 128.0, \"age\": 84.0, \"miles\": 11.0, \"group\": 0}, {\"speed\": 131.0, \"age\": 83.0, \"miles\": 52.0, \"group\": 2}, {\"speed\": 115.0, \"age\": 48.0, \"miles\": 28.0, \"group\": 1}, {\"speed\": 98.0, \"age\": 20.0, \"miles\": 22.0, \"group\": 2}, {\"speed\": 107.0, \"age\": 47.0, \"miles\": 12.0, \"group\": 1}, {\"speed\": 117.0, \"age\": 71.0, \"miles\": 42.0, \"group\": 2}, {\"speed\": 133.0, \"age\": 46.0, \"miles\": 39.0, \"group\": 0}, {\"speed\": 121.0, \"age\": 44.0, \"miles\": 19.0, \"group\": 0}, {\"speed\": 105.0, \"age\": 56.0, \"miles\": 34.0, \"group\": 1}, {\"speed\": 138.0, \"age\": 43.0, \"miles\": 41.0, \"group\": 1}, {\"speed\": 136.0, \"age\": 36.0, \"miles\": 47.0, \"group\": 2}, {\"speed\": 105.0, \"age\": 45.0, \"miles\": 25.0, \"group\": 1}, {\"speed\": 143.0, \"age\": 36.0, \"miles\": 38.0, \"group\": 1}, {\"speed\": 97.0, \"age\": 25.0, \"miles\": 15.0, \"group\": 2}, {\"speed\": 135.0, \"age\": 56.0, \"miles\": 28.0, \"group\": 2}, {\"speed\": 146.0, \"age\": 51.0, \"miles\": 18.0, \"group\": 2}, {\"speed\": 124.0, \"age\": 18.0, \"miles\": 39.0, \"group\": 0}, {\"speed\": 153.0, \"age\": 38.0, \"miles\": 55.0, \"group\": 0}, {\"speed\": 145.0, \"age\": 38.0, \"miles\": 55.0, \"group\": 0}, {\"speed\": 151.0, \"age\": 59.0, \"miles\": 18.0, \"group\": 2}, {\"speed\": 105.0, \"age\": 16.0, \"miles\": 9.0, \"group\": 2}, {\"speed\": 139.0, \"age\": 48.0, \"miles\": 40.0, \"group\": 1}, {\"speed\": 129.0, \"age\": 78.0, \"miles\": 19.0, \"group\": 0}, {\"speed\": 117.0, \"age\": 51.0, \"miles\": 13.0, \"group\": 1}, {\"speed\": 105.0, \"age\": 44.0, \"miles\": 20.0, \"group\": 1}, {\"speed\": 143.0, \"age\": 35.0, \"miles\": 52.0, \"group\": 0}, {\"speed\": 97.0, \"age\": 51.0, \"miles\": 19.0, \"group\": 1}, {\"speed\": 110.0, \"age\": 65.0, \"miles\": 28.0, \"group\": 1}, {\"speed\": 150.0, \"age\": 44.0, \"miles\": 43.0, \"group\": 0}, {\"speed\": 119.0, \"age\": 69.0, \"miles\": 41.0, \"group\": 2}, {\"speed\": 97.0, \"age\": 34.0, \"miles\": 14.0, \"group\": 1}, {\"speed\": 127.0, \"age\": 71.0, \"miles\": 41.0, \"group\": 2}, {\"speed\": 98.0, \"age\": 26.0, \"miles\": 12.0, \"group\": 2}, {\"speed\": 150.0, \"age\": 31.0, \"miles\": 50.0, \"group\": 0}, {\"speed\": 92.0, \"age\": 20.0, \"miles\": 12.0, \"group\": 2}, {\"speed\": 126.0, \"age\": 20.0, \"miles\": 27.0, \"group\": 0}, {\"speed\": 118.0, \"age\": 77.0, \"miles\": 22.0, \"group\": 0}, {\"speed\": 119.0, \"age\": 76.0, \"miles\": 24.0, \"group\": 0}, {\"speed\": 104.0, \"age\": 26.0, \"miles\": 17.0, \"group\": 2}, {\"speed\": 115.0, \"age\": 41.0, \"miles\": 26.0, \"group\": 1}, {\"speed\": 153.0, \"age\": 31.0, \"miles\": 56.0, \"group\": 0}, {\"speed\": 109.0, \"age\": 51.0, \"miles\": 35.0, \"group\": 1}, {\"speed\": 112.0, \"age\": 39.0, \"miles\": 18.0, \"group\": 1}, {\"speed\": 129.0, \"age\": 47.0, \"miles\": 27.0, \"group\": 1}, {\"speed\": 142.0, \"age\": 50.0, \"miles\": 50.0, \"group\": 1}, {\"speed\": 150.0, \"age\": 88.0, \"miles\": 32.0, \"group\": 2}, {\"speed\": 115.0, \"age\": 56.0, \"miles\": 8.0, \"group\": 1}, {\"speed\": 125.0, \"age\": 47.0, \"miles\": 15.0, \"group\": 1}, {\"speed\": 119.0, \"age\": 56.0, \"miles\": 1.0, \"group\": 2}, {\"speed\": 143.0, \"age\": 60.0, \"miles\": 41.0, \"group\": 2}, {\"speed\": 123.0, \"age\": 22.0, \"miles\": 22.0, \"group\": 0}, {\"speed\": 110.0, \"age\": 63.0, \"miles\": 2.0, \"group\": 1}, {\"speed\": 122.0, \"age\": 34.0, \"miles\": 34.0, \"group\": 0}, {\"speed\": 111.0, \"age\": 47.0, \"miles\": 24.0, \"group\": 1}, {\"speed\": 105.0, \"age\": 21.0, \"miles\": 17.0, \"group\": 2}, {\"speed\": 103.0, \"age\": 44.0, \"miles\": 12.0, \"group\": 1}, {\"speed\": 118.0, \"age\": 55.0, \"miles\": 35.0, \"group\": 2}, {\"speed\": 126.0, \"age\": 18.0, \"miles\": 21.0, \"group\": 0}, {\"speed\": 117.0, \"age\": 42.0, \"miles\": 26.0, \"group\": 1}, {\"speed\": 113.0, \"age\": 32.0, \"miles\": 17.0, \"group\": 1}, {\"speed\": 135.0, \"age\": 44.0, \"miles\": 43.0, \"group\": 2}, {\"speed\": 116.0, \"age\": 40.0, \"miles\": 36.0, \"group\": 0}, {\"speed\": 117.0, \"age\": 53.0, \"miles\": 31.0, \"group\": 2}, {\"speed\": 95.0, \"age\": 21.0, \"miles\": 24.0, \"group\": 2}, {\"speed\": 134.0, \"age\": 80.0, \"miles\": 23.0, \"group\": 2}, {\"speed\": 127.0, \"age\": 33.0, \"miles\": 38.0, \"group\": 2}, {\"speed\": 136.0, \"age\": 65.0, \"miles\": 24.0, \"group\": 0}, {\"speed\": 88.0, \"age\": 69.0, \"miles\": 37.0, \"group\": 2}, {\"speed\": 92.0, \"age\": 24.0, \"miles\": 13.0, \"group\": 2}, {\"speed\": 141.0, \"age\": 51.0, \"miles\": 37.0, \"group\": 1}, {\"speed\": 101.0, \"age\": 20.0, \"miles\": 10.0, \"group\": 2}, {\"speed\": 121.0, \"age\": 61.0, \"miles\": 23.0, \"group\": 0}, {\"speed\": 85.0, \"age\": 92.0, \"miles\": 10.0, \"group\": 2}, {\"speed\": 101.0, \"age\": 33.0, \"miles\": 22.0, \"group\": 1}, {\"speed\": 150.0, \"age\": 31.0, \"miles\": 52.0, \"group\": 0}, {\"speed\": 106.0, \"age\": 38.0, \"miles\": 14.0, \"group\": 1}, {\"speed\": 109.0, \"age\": 29.0, \"miles\": 21.0, \"group\": 2}, {\"speed\": 125.0, \"age\": 38.0, \"miles\": 26.0, \"group\": 0}, {\"speed\": 105.0, \"age\": 52.0, \"miles\": 25.0, \"group\": 1}, {\"speed\": 121.0, \"age\": 65.0, \"miles\": 29.0, \"group\": 2}, {\"speed\": 113.0, \"age\": 51.0, \"miles\": 29.0, \"group\": 1}, {\"speed\": 110.0, \"age\": 31.0, \"miles\": 19.0, \"group\": 1}, {\"speed\": 152.0, \"age\": 35.0, \"miles\": 47.0, \"group\": 0}, {\"speed\": 139.0, \"age\": 57.0, \"miles\": 43.0, \"group\": 2}, {\"speed\": 146.0, \"age\": 37.0, \"miles\": 41.0, \"group\": 2}, {\"speed\": 100.0, \"age\": 27.0, \"miles\": 25.0, \"group\": 2}, {\"speed\": 113.0, \"age\": 69.0, \"miles\": 1.0, \"group\": 2}, {\"speed\": 112.0, \"age\": 64.0, \"miles\": 24.0, \"group\": 1}, {\"speed\": 113.0, \"age\": 40.0, \"miles\": 7.0, \"group\": 1}, {\"speed\": 126.0, \"age\": 66.0, \"miles\": 49.0, \"group\": 2}, {\"speed\": 113.0, \"age\": 40.0, \"miles\": 11.0, \"group\": 2}, {\"speed\": 117.0, \"age\": 55.0, \"miles\": 13.0, \"group\": 2}, {\"speed\": 121.0, \"age\": 36.0, \"miles\": 20.0, \"group\": 1}, {\"speed\": 145.0, \"age\": 40.0, \"miles\": 40.0, \"group\": 1}, {\"speed\": 137.0, \"age\": 46.0, \"miles\": 50.0, \"group\": 1}, {\"speed\": 129.0, \"age\": 49.0, \"miles\": 52.0, \"group\": 2}, {\"speed\": 90.0, \"age\": 35.0, \"miles\": 19.0, \"group\": 1}, {\"speed\": 127.0, \"age\": 45.0, \"miles\": 42.0, \"group\": 1}, {\"speed\": 133.0, \"age\": 47.0, \"miles\": 45.0, \"group\": 2}, {\"speed\": 117.0, \"age\": 37.0, \"miles\": 1.0, \"group\": 1}, {\"speed\": 111.0, \"age\": 51.0, \"miles\": 32.0, \"group\": 1}, {\"speed\": 117.0, \"age\": 75.0, \"miles\": 61.0, \"group\": 2}, {\"speed\": 99.0, \"age\": 37.0, \"miles\": 16.0, \"group\": 1}, {\"speed\": 113.0, \"age\": 28.0, \"miles\": 22.0, \"group\": 0}, {\"speed\": 144.0, \"age\": 37.0, \"miles\": 59.0, \"group\": 0}, {\"speed\": 106.0, \"age\": 34.0, \"miles\": 6.0, \"group\": 1}, {\"speed\": 151.0, \"age\": 29.0, \"miles\": 44.0, \"group\": 0}, {\"speed\": 100.0, \"age\": 22.0, \"miles\": 13.0, \"group\": 2}, {\"speed\": 127.0, \"age\": 30.0, \"miles\": 21.0, \"group\": 0}, {\"speed\": 147.0, \"age\": 49.0, \"miles\": 25.0, \"group\": 2}, {\"speed\": 109.0, \"age\": 31.0, \"miles\": 32.0, \"group\": 0}, {\"speed\": 141.0, \"age\": 46.0, \"miles\": 46.0, \"group\": 1}, {\"speed\": 98.0, \"age\": 66.0, \"miles\": 43.0, \"group\": 2}, {\"speed\": 119.0, \"age\": 69.0, \"miles\": 18.0, \"group\": 0}, {\"speed\": 139.0, \"age\": 59.0, \"miles\": 25.0, \"group\": 2}, {\"speed\": 141.0, \"age\": 56.0, \"miles\": 50.0, \"group\": 2}, {\"speed\": 93.0, \"age\": 49.0, \"miles\": 26.0, \"group\": 1}, {\"speed\": 140.0, \"age\": 30.0, \"miles\": 39.0, \"group\": 1}, {\"speed\": 116.0, \"age\": 62.0, \"miles\": 27.0, \"group\": 1}, {\"speed\": 148.0, \"age\": 50.0, \"miles\": 44.0, \"group\": 1}, {\"speed\": 116.0, \"age\": 24.0, \"miles\": 30.0, \"group\": 0}, {\"speed\": 137.0, \"age\": 49.0, \"miles\": 34.0, \"group\": 1}, {\"speed\": 122.0, \"age\": 32.0, \"miles\": 28.0, \"group\": 0}, {\"speed\": 139.0, \"age\": 25.0, \"miles\": 45.0, \"group\": 2}, {\"speed\": 111.0, \"age\": 48.0, \"miles\": 16.0, \"group\": 1}, {\"speed\": 113.0, \"age\": 56.0, \"miles\": 43.0, \"group\": 1}, {\"speed\": 101.0, \"age\": 59.0, \"miles\": 23.0, \"group\": 1}, {\"speed\": 146.0, \"age\": 53.0, \"miles\": 43.0, \"group\": 1}, {\"speed\": 106.0, \"age\": 28.0, \"miles\": 18.0, \"group\": 1}, {\"speed\": 115.0, \"age\": 55.0, \"miles\": 35.0, \"group\": 1}, {\"speed\": 108.0, \"age\": 38.0, \"miles\": 5.0, \"group\": 1}, {\"speed\": 138.0, \"age\": 41.0, \"miles\": 36.0, \"group\": 1}, {\"speed\": 92.0, \"age\": 27.0, \"miles\": 19.0, \"group\": 2}, {\"speed\": 98.0, \"age\": 56.0, \"miles\": 16.0, \"group\": 2}, {\"speed\": 107.0, \"age\": 27.0, \"miles\": 20.0, \"group\": 2}, {\"speed\": 117.0, \"age\": 68.0, \"miles\": 47.0, \"group\": 2}, {\"speed\": 122.0, \"age\": 75.0, \"miles\": 22.0, \"group\": 0}, {\"speed\": 149.0, \"age\": 37.0, \"miles\": 53.0, \"group\": 0}, {\"speed\": 123.0, \"age\": 49.0, \"miles\": 9.0, \"group\": 1}, {\"speed\": 129.0, \"age\": 76.0, \"miles\": 22.0, \"group\": 0}, {\"speed\": 140.0, \"age\": 43.0, \"miles\": 41.0, \"group\": 1}, {\"speed\": 137.0, \"age\": 44.0, \"miles\": 37.0, \"group\": 1}, {\"speed\": 105.0, \"age\": 94.0, \"miles\": 9.0, \"group\": 2}, {\"speed\": 91.0, \"age\": 63.0, \"miles\": 30.0, \"group\": 2}, {\"speed\": 118.0, \"age\": 70.0, \"miles\": 38.0, \"group\": 2}, {\"speed\": 103.0, \"age\": 56.0, \"miles\": 15.0, \"group\": 2}, {\"speed\": 102.0, \"age\": 38.0, \"miles\": 7.0, \"group\": 1}, {\"speed\": 146.0, \"age\": 38.0, \"miles\": 45.0, \"group\": 0}, {\"speed\": 122.0, \"age\": 70.0, \"miles\": 23.0, \"group\": 0}, {\"speed\": 111.0, \"age\": 39.0, \"miles\": 5.0, \"group\": 1}, {\"speed\": 150.0, \"age\": 30.0, \"miles\": 51.0, \"group\": 0}, {\"speed\": 135.0, \"age\": 30.0, \"miles\": 32.0, \"group\": 0}, {\"speed\": 139.0, \"age\": 37.0, \"miles\": 38.0, \"group\": 1}, {\"speed\": 118.0, \"age\": 68.0, \"miles\": 13.0, \"group\": 0}, {\"speed\": 117.0, \"age\": 53.0, \"miles\": 48.0, \"group\": 2}, {\"speed\": 156.0, \"age\": 30.0, \"miles\": 59.0, \"group\": 0}, {\"speed\": 103.0, \"age\": 70.0, \"miles\": 30.0, \"group\": 0}, {\"speed\": 152.0, \"age\": 47.0, \"miles\": 33.0, \"group\": 1}, {\"speed\": 119.0, \"age\": 71.0, \"miles\": 7.0, \"group\": 0}, {\"speed\": 123.0, \"age\": 54.0, \"miles\": 60.0, \"group\": 2}, {\"speed\": 110.0, \"age\": 53.0, \"miles\": 20.0, \"group\": 1}, {\"speed\": 140.0, \"age\": 45.0, \"miles\": 44.0, \"group\": 1}, {\"speed\": 136.0, \"age\": 63.0, \"miles\": 31.0, \"group\": 2}, {\"speed\": 112.0, \"age\": 64.0, \"miles\": 15.0, \"group\": 0}, {\"speed\": 118.0, \"age\": 28.0, \"miles\": 1.0, \"group\": 1}, {\"speed\": 142.0, \"age\": 33.0, \"miles\": 60.0, \"group\": 2}, {\"speed\": 103.0, \"age\": 28.0, \"miles\": 17.0, \"group\": 1}, {\"speed\": 118.0, \"age\": 88.0, \"miles\": 24.0, \"group\": 0}, {\"speed\": 120.0, \"age\": 69.0, \"miles\": 1.0, \"group\": 0}, {\"speed\": 139.0, \"age\": 50.0, \"miles\": 45.0, \"group\": 1}, {\"speed\": 100.0, \"age\": 27.0, \"miles\": 24.0, \"group\": 2}, {\"speed\": 104.0, \"age\": 33.0, \"miles\": 11.0, \"group\": 2}, {\"speed\": 158.0, \"age\": 42.0, \"miles\": 49.0, \"group\": 0}, {\"speed\": 150.0, \"age\": 39.0, \"miles\": 46.0, \"group\": 0}, {\"speed\": 139.0, \"age\": 44.0, \"miles\": 36.0, \"group\": 1}, {\"speed\": 149.0, \"age\": 64.0, \"miles\": 43.0, \"group\": 2}, {\"speed\": 129.0, \"age\": 58.0, \"miles\": 37.0, \"group\": 2}, {\"speed\": 100.0, \"age\": 42.0, \"miles\": 23.0, \"group\": 1}, {\"speed\": 145.0, \"age\": 38.0, \"miles\": 51.0, \"group\": 0}, {\"speed\": 134.0, \"age\": 48.0, \"miles\": 42.0, \"group\": 1}, {\"speed\": 132.0, \"age\": 83.0, \"miles\": 17.0, \"group\": 0}, {\"speed\": 113.0, \"age\": 44.0, \"miles\": 51.0, \"group\": 2}, {\"speed\": 150.0, \"age\": 34.0, \"miles\": 44.0, \"group\": 0}, {\"speed\": 112.0, \"age\": 50.0, \"miles\": 23.0, \"group\": 1}, {\"speed\": 111.0, \"age\": 24.0, \"miles\": 6.0, \"group\": 1}, {\"speed\": 145.0, \"age\": 39.0, \"miles\": 66.0, \"group\": 2}, {\"speed\": 106.0, \"age\": 59.0, \"miles\": 31.0, \"group\": 1}, {\"speed\": 97.0, \"age\": 25.0, \"miles\": 15.0, \"group\": 2}, {\"speed\": 166.0, \"age\": 41.0, \"miles\": 60.0, \"group\": 2}, {\"speed\": 151.0, \"age\": 35.0, \"miles\": 47.0, \"group\": 0}, {\"speed\": 126.0, \"age\": 41.0, \"miles\": 29.0, \"group\": 0}, {\"speed\": 130.0, \"age\": 59.0, \"miles\": 36.0, \"group\": 2}, {\"speed\": 139.0, \"age\": 44.0, \"miles\": 63.0, \"group\": 2}, {\"speed\": 136.0, \"age\": 52.0, \"miles\": 43.0, \"group\": 1}, {\"speed\": 128.0, \"age\": 46.0, \"miles\": 32.0, \"group\": 2}, {\"speed\": 137.0, \"age\": 27.0, \"miles\": 12.0, \"group\": 2}, {\"speed\": 110.0, \"age\": 66.0, \"miles\": 52.0, \"group\": 2}, {\"speed\": 104.0, \"age\": 17.0, \"miles\": 16.0, \"group\": 2}, {\"speed\": 107.0, \"age\": 31.0, \"miles\": 30.0, \"group\": 0}, {\"speed\": 156.0, \"age\": 38.0, \"miles\": 49.0, \"group\": 0}, {\"speed\": 123.0, \"age\": 66.0, \"miles\": 30.0, \"group\": 0}, {\"speed\": 99.0, \"age\": 29.0, \"miles\": 14.0, \"group\": 2}, {\"speed\": 120.0, \"age\": 45.0, \"miles\": 38.0, \"group\": 1}, {\"speed\": 131.0, \"age\": 35.0, \"miles\": 23.0, \"group\": 2}, {\"speed\": 129.0, \"age\": 34.0, \"miles\": 48.0, \"group\": 2}, {\"speed\": 129.0, \"age\": 52.0, \"miles\": 37.0, \"group\": 2}, {\"speed\": 117.0, \"age\": 77.0, \"miles\": 17.0, \"group\": 0}, {\"speed\": 151.0, \"age\": 35.0, \"miles\": 50.0, \"group\": 0}, {\"speed\": 115.0, \"age\": 28.0, \"miles\": 21.0, \"group\": 0}, {\"speed\": 132.0, \"age\": 66.0, \"miles\": 18.0, \"group\": 0}, {\"speed\": 121.0, \"age\": 48.0, \"miles\": 40.0, \"group\": 2}, {\"speed\": 138.0, \"age\": 38.0, \"miles\": 40.0, \"group\": 1}, {\"speed\": 90.0, \"age\": 23.0, \"miles\": 20.0, \"group\": 2}, {\"speed\": 151.0, \"age\": 38.0, \"miles\": 50.0, \"group\": 0}, {\"speed\": 124.0, \"age\": 41.0, \"miles\": 36.0, \"group\": 2}, {\"speed\": 120.0, \"age\": 55.0, \"miles\": 60.0, \"group\": 2}, {\"speed\": 113.0, \"age\": 29.0, \"miles\": 24.0, \"group\": 0}, {\"speed\": 97.0, \"age\": 36.0, \"miles\": 9.0, \"group\": 1}, {\"speed\": 161.0, \"age\": 30.0, \"miles\": 1.0, \"group\": 2}, {\"speed\": 103.0, \"age\": 52.0, \"miles\": 16.0, \"group\": 1}, {\"speed\": 108.0, \"age\": 46.0, \"miles\": 38.0, \"group\": 1}, {\"speed\": 152.0, \"age\": 30.0, \"miles\": 54.0, \"group\": 0}, {\"speed\": 110.0, \"age\": 44.0, \"miles\": 21.0, \"group\": 2}, {\"speed\": 116.0, \"age\": 54.0, \"miles\": 29.0, \"group\": 2}, {\"speed\": 137.0, \"age\": 46.0, \"miles\": 44.0, \"group\": 1}, {\"speed\": 102.0, \"age\": 22.0, \"miles\": 19.0, \"group\": 2}, {\"speed\": 100.0, \"age\": 21.0, \"miles\": 20.0, \"group\": 2}, {\"speed\": 105.0, \"age\": 24.0, \"miles\": 19.0, \"group\": 2}, {\"speed\": 96.0, \"age\": 25.0, \"miles\": 17.0, \"group\": 2}, {\"speed\": 122.0, \"age\": 26.0, \"miles\": 37.0, \"group\": 0}, {\"speed\": 95.0, \"age\": 51.0, \"miles\": 16.0, \"group\": 1}, {\"speed\": 110.0, \"age\": 37.0, \"miles\": 18.0, \"group\": 2}, {\"speed\": 114.0, \"age\": 69.0, \"miles\": 22.0, \"group\": 0}, {\"speed\": 137.0, \"age\": 37.0, \"miles\": 26.0, \"group\": 2}, {\"speed\": 107.0, \"age\": 43.0, \"miles\": 5.0, \"group\": 2}, {\"speed\": 122.0, \"age\": 69.0, \"miles\": 17.0, \"group\": 0}, {\"speed\": 146.0, \"age\": 33.0, \"miles\": 52.0, \"group\": 2}, {\"speed\": 119.0, \"age\": 31.0, \"miles\": 28.0, \"group\": 1}, {\"speed\": 118.0, \"age\": 44.0, \"miles\": 6.0, \"group\": 1}, {\"speed\": 119.0, \"age\": 17.0, \"miles\": 22.0, \"group\": 0}, {\"speed\": 128.0, \"age\": 35.0, \"miles\": 35.0, \"group\": 0}, {\"speed\": 104.0, \"age\": 37.0, \"miles\": 11.0, \"group\": 1}, {\"speed\": 146.0, \"age\": 43.0, \"miles\": 31.0, \"group\": 1}, {\"speed\": 145.0, \"age\": 46.0, \"miles\": 49.0, \"group\": 1}, {\"speed\": 157.0, \"age\": 37.0, \"miles\": 45.0, \"group\": 0}, {\"speed\": 139.0, \"age\": 44.0, \"miles\": 39.0, \"group\": 1}, {\"speed\": 142.0, \"age\": 43.0, \"miles\": 11.0, \"group\": 2}, {\"speed\": 148.0, \"age\": 40.0, \"miles\": 47.0, \"group\": 0}, {\"speed\": 110.0, \"age\": 26.0, \"miles\": 11.0, \"group\": 2}, {\"speed\": 101.0, \"age\": 27.0, \"miles\": 1.0, \"group\": 1}, {\"speed\": 139.0, \"age\": 46.0, \"miles\": 34.0, \"group\": 1}, {\"speed\": 129.0, \"age\": 44.0, \"miles\": 36.0, \"group\": 1}, {\"speed\": 102.0, \"age\": 17.0, \"miles\": 2.0, \"group\": 2}, {\"speed\": 118.0, \"age\": 61.0, \"miles\": 31.0, \"group\": 1}, {\"speed\": 127.0, \"age\": 63.0, \"miles\": 47.0, \"group\": 2}, {\"speed\": 150.0, \"age\": 37.0, \"miles\": 53.0, \"group\": 0}, {\"speed\": 122.0, \"age\": 21.0, \"miles\": 21.0, \"group\": 0}, {\"speed\": 151.0, \"age\": 35.0, \"miles\": 42.0, \"group\": 0}, {\"speed\": 103.0, \"age\": 27.0, \"miles\": 11.0, \"group\": 2}, {\"speed\": 142.0, \"age\": 46.0, \"miles\": 42.0, \"group\": 1}, {\"speed\": 124.0, \"age\": 92.0, \"miles\": 18.0, \"group\": 2}, {\"speed\": 133.0, \"age\": 65.0, \"miles\": 15.0, \"group\": 0}, {\"speed\": 96.0, \"age\": 64.0, \"miles\": 41.0, \"group\": 1}, {\"speed\": 114.0, \"age\": 46.0, \"miles\": 28.0, \"group\": 1}, {\"speed\": 150.0, \"age\": 41.0, \"miles\": 40.0, \"group\": 0}, {\"speed\": 114.0, \"age\": 25.0, \"miles\": 6.0, \"group\": 1}, {\"speed\": 120.0, \"age\": 74.0, \"miles\": 16.0, \"group\": 0}, {\"speed\": 112.0, \"age\": 36.0, \"miles\": 27.0, \"group\": 0}, {\"speed\": 146.0, \"age\": 30.0, \"miles\": 55.0, \"group\": 0}, {\"speed\": 147.0, \"age\": 36.0, \"miles\": 56.0, \"group\": 0}, {\"speed\": 130.0, \"age\": 44.0, \"miles\": 26.0, \"group\": 2}, {\"speed\": 129.0, \"age\": 56.0, \"miles\": 1.0, \"group\": 2}, {\"speed\": 134.0, \"age\": 51.0, \"miles\": 49.0, \"group\": 2}, {\"speed\": 128.0, \"age\": 42.0, \"miles\": 29.0, \"group\": 2}, {\"speed\": 116.0, \"age\": 55.0, \"miles\": 22.0, \"group\": 1}, {\"speed\": 139.0, \"age\": 43.0, \"miles\": 49.0, \"group\": 2}, {\"speed\": 112.0, \"age\": 58.0, \"miles\": 26.0, \"group\": 1}, {\"speed\": 124.0, \"age\": 43.0, \"miles\": 33.0, \"group\": 0}, {\"speed\": 134.0, \"age\": 65.0, \"miles\": 27.0, \"group\": 0}, {\"speed\": 128.0, \"age\": 39.0, \"miles\": 13.0, \"group\": 0}, {\"speed\": 102.0, \"age\": 31.0, \"miles\": 21.0, \"group\": 2}, {\"speed\": 98.0, \"age\": 28.0, \"miles\": 9.0, \"group\": 2}, {\"speed\": 116.0, \"age\": 85.0, \"miles\": 21.0, \"group\": 0}, {\"speed\": 118.0, \"age\": 81.0, \"miles\": 17.0, \"group\": 0}, {\"speed\": 126.0, \"age\": 16.0, \"miles\": 39.0, \"group\": 0}, {\"speed\": 106.0, \"age\": 46.0, \"miles\": 42.0, \"group\": 0}, {\"speed\": 124.0, \"age\": 30.0, \"miles\": 36.0, \"group\": 0}, {\"speed\": 123.0, \"age\": 28.0, \"miles\": 18.0, \"group\": 1}, {\"speed\": 132.0, \"age\": 35.0, \"miles\": 48.0, \"group\": 2}, {\"speed\": 96.0, \"age\": 23.0, \"miles\": 8.0, \"group\": 2}, {\"speed\": 142.0, \"age\": 54.0, \"miles\": 42.0, \"group\": 2}, {\"speed\": 135.0, \"age\": 38.0, \"miles\": 41.0, \"group\": 2}, {\"speed\": 91.0, \"age\": 65.0, \"miles\": 27.0, \"group\": 1}, {\"speed\": 143.0, \"age\": 83.0, \"miles\": 31.0, \"group\": 2}, {\"speed\": 146.0, \"age\": 45.0, \"miles\": 45.0, \"group\": 1}, {\"speed\": 132.0, \"age\": 54.0, \"miles\": 45.0, \"group\": 2}, {\"speed\": 93.0, \"age\": 28.0, \"miles\": 24.0, \"group\": 2}, {\"speed\": 122.0, \"age\": 45.0, \"miles\": 8.0, \"group\": 1}, {\"speed\": 104.0, \"age\": 25.0, \"miles\": 17.0, \"group\": 2}, {\"speed\": 138.0, \"age\": 58.0, \"miles\": 35.0, \"group\": 0}, {\"speed\": 124.0, \"age\": 76.0, \"miles\": 23.0, \"group\": 0}, {\"speed\": 146.0, \"age\": 41.0, \"miles\": 43.0, \"group\": 1}, {\"speed\": 155.0, \"age\": 33.0, \"miles\": 52.0, \"group\": 0}, {\"speed\": 160.0, \"age\": 35.0, \"miles\": 49.0, \"group\": 1}, {\"speed\": 139.0, \"age\": 37.0, \"miles\": 38.0, \"group\": 1}, {\"speed\": 97.0, \"age\": 19.0, \"miles\": 19.0, \"group\": 2}, {\"speed\": 142.0, \"age\": 46.0, \"miles\": 53.0, \"group\": 1}, {\"speed\": 115.0, \"age\": 38.0, \"miles\": 27.0, \"group\": 0}, {\"speed\": 140.0, \"age\": 64.0, \"miles\": 30.0, \"group\": 2}, {\"speed\": 127.0, \"age\": 71.0, \"miles\": 21.0, \"group\": 0}, {\"speed\": 95.0, \"age\": 26.0, \"miles\": 10.0, \"group\": 2}, {\"speed\": 101.0, \"age\": 23.0, \"miles\": 18.0, \"group\": 2}, {\"speed\": 130.0, \"age\": 81.0, \"miles\": 23.0, \"group\": 0}, {\"speed\": 151.0, \"age\": 33.0, \"miles\": 18.0, \"group\": 2}, {\"speed\": 104.0, \"age\": 22.0, \"miles\": 13.0, \"group\": 2}, {\"speed\": 132.0, \"age\": 51.0, \"miles\": 44.0, \"group\": 1}, {\"speed\": 155.0, \"age\": 29.0, \"miles\": 48.0, \"group\": 0}, {\"speed\": 103.0, \"age\": 16.0, \"miles\": 12.0, \"group\": 2}, {\"speed\": 106.0, \"age\": 37.0, \"miles\": 24.0, \"group\": 1}, {\"speed\": 100.0, \"age\": 45.0, \"miles\": 29.0, \"group\": 1}, {\"speed\": 148.0, \"age\": 34.0, \"miles\": 46.0, \"group\": 0}, {\"speed\": 118.0, \"age\": 50.0, \"miles\": 35.0, \"group\": 2}, {\"speed\": 111.0, \"age\": 35.0, \"miles\": 47.0, \"group\": 2}, {\"speed\": 114.0, \"age\": 33.0, \"miles\": 15.0, \"group\": 1}, {\"speed\": 104.0, \"age\": 38.0, \"miles\": 9.0, \"group\": 1}, {\"speed\": 95.0, \"age\": 46.0, \"miles\": 14.0, \"group\": 1}, {\"speed\": 122.0, \"age\": 69.0, \"miles\": 9.0, \"group\": 0}, {\"speed\": 105.0, \"age\": 44.0, \"miles\": 26.0, \"group\": 1}, {\"speed\": 116.0, \"age\": 82.0, \"miles\": 33.0, \"group\": 2}, {\"speed\": 153.0, \"age\": 39.0, \"miles\": 47.0, \"group\": 1}, {\"speed\": 102.0, \"age\": 50.0, \"miles\": 1.0, \"group\": 2}, {\"speed\": 102.0, \"age\": 60.0, \"miles\": 35.0, \"group\": 2}, {\"speed\": 105.0, \"age\": 31.0, \"miles\": 22.0, \"group\": 1}, {\"speed\": 108.0, \"age\": 73.0, \"miles\": 14.0, \"group\": 0}, {\"speed\": 117.0, \"age\": 67.0, \"miles\": 23.0, \"group\": 0}, {\"speed\": 111.0, \"age\": 76.0, \"miles\": 20.0, \"group\": 0}, {\"speed\": 144.0, \"age\": 46.0, \"miles\": 32.0, \"group\": 1}, {\"speed\": 93.0, \"age\": 46.0, \"miles\": 3.0, \"group\": 1}, {\"speed\": 106.0, \"age\": 34.0, \"miles\": 48.0, \"group\": 0}, {\"speed\": 151.0, \"age\": 28.0, \"miles\": 51.0, \"group\": 0}, {\"speed\": 125.0, \"age\": 42.0, \"miles\": 21.0, \"group\": 2}, {\"speed\": 114.0, \"age\": 32.0, \"miles\": 25.0, \"group\": 0}, {\"speed\": 98.0, \"age\": 29.0, \"miles\": 8.0, \"group\": 2}, {\"speed\": 123.0, \"age\": 31.0, \"miles\": 13.0, \"group\": 2}, {\"speed\": 118.0, \"age\": 68.0, \"miles\": 37.0, \"group\": 0}, {\"speed\": 141.0, \"age\": 29.0, \"miles\": 55.0, \"group\": 0}, {\"speed\": 108.0, \"age\": 16.0, \"miles\": 40.0, \"group\": 0}, {\"speed\": 133.0, \"age\": 82.0, \"miles\": 18.0, \"group\": 0}, {\"speed\": 96.0, \"age\": 44.0, \"miles\": 36.0, \"group\": 2}, {\"speed\": 106.0, \"age\": 46.0, \"miles\": 21.0, \"group\": 1}, {\"speed\": 114.0, \"age\": 28.0, \"miles\": 24.0, \"group\": 1}, {\"speed\": 149.0, \"age\": 32.0, \"miles\": 46.0, \"group\": 0}, {\"speed\": 122.0, \"age\": 47.0, \"miles\": 32.0, \"group\": 2}, {\"speed\": 137.0, \"age\": 50.0, \"miles\": 35.0, \"group\": 2}, {\"speed\": 115.0, \"age\": 16.0, \"miles\": 40.0, \"group\": 0}, {\"speed\": 115.0, \"age\": 29.0, \"miles\": 33.0, \"group\": 0}, {\"speed\": 96.0, \"age\": 26.0, \"miles\": 17.0, \"group\": 2}, {\"speed\": 108.0, \"age\": 19.0, \"miles\": 12.0, \"group\": 1}, {\"speed\": 106.0, \"age\": 58.0, \"miles\": 55.0, \"group\": 2}, {\"speed\": 156.0, \"age\": 34.0, \"miles\": 61.0, \"group\": 0}, {\"speed\": 110.0, \"age\": 62.0, \"miles\": 3.0, \"group\": 2}, {\"speed\": 124.0, \"age\": 67.0, \"miles\": 22.0, \"group\": 0}, {\"speed\": 150.0, \"age\": 42.0, \"miles\": 44.0, \"group\": 0}, {\"speed\": 133.0, \"age\": 25.0, \"miles\": 52.0, \"group\": 2}, {\"speed\": 125.0, \"age\": 49.0, \"miles\": 40.0, \"group\": 2}, {\"speed\": 98.0, \"age\": 47.0, \"miles\": 40.0, \"group\": 1}, {\"speed\": 120.0, \"age\": 24.0, \"miles\": 26.0, \"group\": 0}, {\"speed\": 110.0, \"age\": 37.0, \"miles\": 44.0, \"group\": 0}, {\"speed\": 114.0, \"age\": 36.0, \"miles\": 15.0, \"group\": 1}, {\"speed\": 119.0, \"age\": 51.0, \"miles\": 13.0, \"group\": 1}, {\"speed\": 112.0, \"age\": 90.0, \"miles\": 30.0, \"group\": 0}, {\"speed\": 110.0, \"age\": 16.0, \"miles\": 37.0, \"group\": 0}, {\"speed\": 119.0, \"age\": 43.0, \"miles\": 38.0, \"group\": 0}, {\"speed\": 95.0, \"age\": 22.0, \"miles\": 14.0, \"group\": 2}, {\"speed\": 134.0, \"age\": 47.0, \"miles\": 39.0, \"group\": 1}, {\"speed\": 92.0, \"age\": 26.0, \"miles\": 26.0, \"group\": 2}, {\"speed\": 108.0, \"age\": 36.0, \"miles\": 25.0, \"group\": 0}, {\"speed\": 145.0, \"age\": 40.0, \"miles\": 42.0, \"group\": 1}, {\"speed\": 95.0, \"age\": 26.0, \"miles\": 12.0, \"group\": 2}, {\"speed\": 150.0, \"age\": 50.0, \"miles\": 41.0, \"group\": 1}, {\"speed\": 104.0, \"age\": 50.0, \"miles\": 41.0, \"group\": 1}, {\"speed\": 133.0, \"age\": 45.0, \"miles\": 49.0, \"group\": 1}, {\"speed\": 105.0, \"age\": 24.0, \"miles\": 12.0, \"group\": 2}, {\"speed\": 119.0, \"age\": 16.0, \"miles\": 28.0, \"group\": 0}, {\"speed\": 144.0, \"age\": 56.0, \"miles\": 43.0, \"group\": 2}, {\"speed\": 145.0, \"age\": 40.0, \"miles\": 48.0, \"group\": 1}, {\"speed\": 147.0, \"age\": 33.0, \"miles\": 54.0, \"group\": 0}, {\"speed\": 125.0, \"age\": 73.0, \"miles\": 12.0, \"group\": 0}, {\"speed\": 106.0, \"age\": 41.0, \"miles\": 10.0, \"group\": 1}, {\"speed\": 108.0, \"age\": 26.0, \"miles\": 25.0, \"group\": 1}, {\"speed\": 101.0, \"age\": 46.0, \"miles\": 28.0, \"group\": 1}, {\"speed\": 117.0, \"age\": 45.0, \"miles\": 5.0, \"group\": 1}, {\"speed\": 130.0, \"age\": 76.0, \"miles\": 43.0, \"group\": 2}, {\"speed\": 121.0, \"age\": 37.0, \"miles\": 34.0, \"group\": 0}, {\"speed\": 138.0, \"age\": 49.0, \"miles\": 1.0, \"group\": 2}, {\"speed\": 136.0, \"age\": 42.0, \"miles\": 37.0, \"group\": 1}, {\"speed\": 122.0, \"age\": 32.0, \"miles\": 38.0, \"group\": 0}, {\"speed\": 114.0, \"age\": 24.0, \"miles\": 17.0, \"group\": 2}, {\"speed\": 112.0, \"age\": 38.0, \"miles\": 28.0, \"group\": 1}, {\"speed\": 104.0, \"age\": 41.0, \"miles\": 22.0, \"group\": 1}, {\"speed\": 117.0, \"age\": 59.0, \"miles\": 46.0, \"group\": 2}, {\"speed\": 112.0, \"age\": 41.0, \"miles\": 59.0, \"group\": 2}, {\"speed\": 126.0, \"age\": 41.0, \"miles\": 49.0, \"group\": 2}, {\"speed\": 140.0, \"age\": 48.0, \"miles\": 27.0, \"group\": 1}, {\"speed\": 151.0, \"age\": 27.0, \"miles\": 45.0, \"group\": 0}, {\"speed\": 141.0, \"age\": 53.0, \"miles\": 27.0, \"group\": 2}, {\"speed\": 126.0, \"age\": 43.0, \"miles\": 25.0, \"group\": 0}, {\"speed\": 117.0, \"age\": 30.0, \"miles\": 19.0, \"group\": 0}, {\"speed\": 123.0, \"age\": 55.0, \"miles\": 40.0, \"group\": 2}, {\"speed\": 104.0, \"age\": 39.0, \"miles\": 8.0, \"group\": 1}, {\"speed\": 137.0, \"age\": 39.0, \"miles\": 35.0, \"group\": 1}, {\"speed\": 128.0, \"age\": 69.0, \"miles\": 23.0, \"group\": 0}, {\"speed\": 150.0, \"age\": 35.0, \"miles\": 60.0, \"group\": 0}, {\"speed\": 107.0, \"age\": 39.0, \"miles\": 15.0, \"group\": 1}, {\"speed\": 142.0, \"age\": 47.0, \"miles\": 40.0, \"group\": 1}, {\"speed\": 129.0, \"age\": 45.0, \"miles\": 30.0, \"group\": 2}, {\"speed\": 139.0, \"age\": 49.0, \"miles\": 40.0, \"group\": 1}, {\"speed\": 97.0, \"age\": 26.0, \"miles\": 6.0, \"group\": 2}, {\"speed\": 118.0, \"age\": 39.0, \"miles\": 21.0, \"group\": 1}, {\"speed\": 91.0, \"age\": 27.0, \"miles\": 17.0, \"group\": 2}, {\"speed\": 103.0, \"age\": 23.0, \"miles\": 8.0, \"group\": 2}, {\"speed\": 107.0, \"age\": 23.0, \"miles\": 13.0, \"group\": 2}, {\"speed\": 116.0, \"age\": 32.0, \"miles\": 26.0, \"group\": 0}, {\"speed\": 119.0, \"age\": 100.0, \"miles\": 22.0, \"group\": 0}, {\"speed\": 128.0, \"age\": 78.0, \"miles\": 15.0, \"group\": 0}, {\"speed\": 105.0, \"age\": 46.0, \"miles\": 65.0, \"group\": 2}, {\"speed\": 110.0, \"age\": 52.0, \"miles\": 24.0, \"group\": 1}, {\"speed\": 151.0, \"age\": 33.0, \"miles\": 48.0, \"group\": 0}, {\"speed\": 118.0, \"age\": 39.0, \"miles\": 17.0, \"group\": 2}, {\"speed\": 109.0, \"age\": 56.0, \"miles\": 23.0, \"group\": 2}, {\"speed\": 117.0, \"age\": 28.0, \"miles\": 42.0, \"group\": 0}, {\"speed\": 104.0, \"age\": 37.0, \"miles\": 12.0, \"group\": 1}, {\"speed\": 95.0, \"age\": 37.0, \"miles\": 17.0, \"group\": 1}, {\"speed\": 126.0, \"age\": 77.0, \"miles\": 28.0, \"group\": 0}, {\"speed\": 102.0, \"age\": 26.0, \"miles\": 15.0, \"group\": 2}, {\"speed\": 110.0, \"age\": 50.0, \"miles\": 33.0, \"group\": 1}, {\"speed\": 119.0, \"age\": 44.0, \"miles\": 15.0, \"group\": 1}, {\"speed\": 90.0, \"age\": 53.0, \"miles\": 12.0, \"group\": 2}, {\"speed\": 144.0, \"age\": 31.0, \"miles\": 52.0, \"group\": 0}, {\"speed\": 108.0, \"age\": 36.0, \"miles\": 23.0, \"group\": 1}, {\"speed\": 139.0, \"age\": 16.0, \"miles\": 32.0, \"group\": 0}, {\"speed\": 122.0, \"age\": 52.0, \"miles\": 25.0, \"group\": 1}, {\"speed\": 142.0, \"age\": 31.0, \"miles\": 38.0, \"group\": 1}, {\"speed\": 107.0, \"age\": 60.0, \"miles\": 15.0, \"group\": 1}, {\"speed\": 154.0, \"age\": 35.0, \"miles\": 46.0, \"group\": 0}, {\"speed\": 142.0, \"age\": 52.0, \"miles\": 45.0, \"group\": 1}, {\"speed\": 109.0, \"age\": 55.0, \"miles\": 51.0, \"group\": 2}, {\"speed\": 115.0, \"age\": 30.0, \"miles\": 14.0, \"group\": 0}, {\"speed\": 97.0, \"age\": 37.0, \"miles\": 13.0, \"group\": 1}, {\"speed\": 106.0, \"age\": 71.0, \"miles\": 14.0, \"group\": 0}, {\"speed\": 106.0, \"age\": 35.0, \"miles\": 19.0, \"group\": 1}, {\"speed\": 121.0, \"age\": 24.0, \"miles\": 59.0, \"group\": 2}, {\"speed\": 139.0, \"age\": 55.0, \"miles\": 50.0, \"group\": 2}, {\"speed\": 116.0, \"age\": 30.0, \"miles\": 29.0, \"group\": 1}, {\"speed\": 105.0, \"age\": 42.0, \"miles\": 21.0, \"group\": 1}, {\"speed\": 106.0, \"age\": 54.0, \"miles\": 28.0, \"group\": 1}, {\"speed\": 116.0, \"age\": 72.0, \"miles\": 51.0, \"group\": 2}, {\"speed\": 113.0, \"age\": 72.0, \"miles\": 19.0, \"group\": 1}, {\"speed\": 129.0, \"age\": 56.0, \"miles\": 39.0, \"group\": 2}, {\"speed\": 104.0, \"age\": 24.0, \"miles\": 41.0, \"group\": 0}, {\"speed\": 122.0, \"age\": 35.0, \"miles\": 33.0, \"group\": 0}, {\"speed\": 133.0, \"age\": 44.0, \"miles\": 40.0, \"group\": 1}, {\"speed\": 117.0, \"age\": 27.0, \"miles\": 37.0, \"group\": 0}, {\"speed\": 117.0, \"age\": 18.0, \"miles\": 26.0, \"group\": 0}, {\"speed\": 107.0, \"age\": 25.0, \"miles\": 11.0, \"group\": 2}, {\"speed\": 152.0, \"age\": 31.0, \"miles\": 49.0, \"group\": 0}, {\"speed\": 123.0, \"age\": 35.0, \"miles\": 39.0, \"group\": 0}, {\"speed\": 118.0, \"age\": 35.0, \"miles\": 38.0, \"group\": 0}, {\"speed\": 92.0, \"age\": 31.0, \"miles\": 20.0, \"group\": 2}, {\"speed\": 144.0, \"age\": 33.0, \"miles\": 53.0, \"group\": 0}, {\"speed\": 122.0, \"age\": 56.0, \"miles\": 23.0, \"group\": 1}, {\"speed\": 129.0, \"age\": 86.0, \"miles\": 19.0, \"group\": 0}, {\"speed\": 109.0, \"age\": 62.0, \"miles\": 39.0, \"group\": 2}, {\"speed\": 135.0, \"age\": 48.0, \"miles\": 23.0, \"group\": 0}, {\"speed\": 124.0, \"age\": 80.0, \"miles\": 24.0, \"group\": 0}, {\"speed\": 108.0, \"age\": 45.0, \"miles\": 16.0, \"group\": 1}, {\"speed\": 137.0, \"age\": 29.0, \"miles\": 1.0, \"group\": 2}, {\"speed\": 143.0, \"age\": 42.0, \"miles\": 38.0, \"group\": 1}, {\"speed\": 92.0, \"age\": 32.0, \"miles\": 12.0, \"group\": 2}, {\"speed\": 151.0, \"age\": 32.0, \"miles\": 56.0, \"group\": 0}, {\"speed\": 100.0, \"age\": 32.0, \"miles\": 51.0, \"group\": 2}, {\"speed\": 127.0, \"age\": 63.0, \"miles\": 62.0, \"group\": 2}, {\"speed\": 93.0, \"age\": 39.0, \"miles\": 10.0, \"group\": 1}, {\"speed\": 123.0, \"age\": 54.0, \"miles\": 56.0, \"group\": 2}, {\"speed\": 101.0, \"age\": 54.0, \"miles\": 30.0, \"group\": 1}, {\"speed\": 126.0, \"age\": 56.0, \"miles\": 20.0, \"group\": 1}, {\"speed\": 130.0, \"age\": 44.0, \"miles\": 21.0, \"group\": 0}, {\"speed\": 147.0, \"age\": 33.0, \"miles\": 54.0, \"group\": 0}, {\"speed\": 102.0, \"age\": 50.0, \"miles\": 7.0, \"group\": 1}, {\"speed\": 147.0, \"age\": 36.0, \"miles\": 51.0, \"group\": 0}, {\"speed\": 146.0, \"age\": 57.0, \"miles\": 40.0, \"group\": 2}, {\"speed\": 113.0, \"age\": 58.0, \"miles\": 14.0, \"group\": 0}, {\"speed\": 152.0, \"age\": 41.0, \"miles\": 50.0, \"group\": 0}, {\"speed\": 106.0, \"age\": 85.0, \"miles\": 13.0, \"group\": 0}, {\"speed\": 117.0, \"age\": 24.0, \"miles\": 20.0, \"group\": 0}, {\"speed\": 134.0, \"age\": 39.0, \"miles\": 47.0, \"group\": 2}, {\"speed\": 110.0, \"age\": 40.0, \"miles\": 39.0, \"group\": 1}, {\"speed\": 116.0, \"age\": 76.0, \"miles\": 21.0, \"group\": 0}, {\"speed\": 104.0, \"age\": 66.0, \"miles\": 25.0, \"group\": 1}, {\"speed\": 93.0, \"age\": 78.0, \"miles\": 20.0, \"group\": 2}, {\"speed\": 125.0, \"age\": 25.0, \"miles\": 29.0, \"group\": 0}, {\"speed\": 110.0, \"age\": 20.0, \"miles\": 36.0, \"group\": 0}, {\"speed\": 143.0, \"age\": 48.0, \"miles\": 39.0, \"group\": 1}, {\"speed\": 98.0, \"age\": 25.0, \"miles\": 17.0, \"group\": 2}, {\"speed\": 124.0, \"age\": 40.0, \"miles\": 17.0, \"group\": 1}, {\"speed\": 146.0, \"age\": 37.0, \"miles\": 45.0, \"group\": 0}, {\"speed\": 118.0, \"age\": 24.0, \"miles\": 42.0, \"group\": 0}, {\"speed\": 108.0, \"age\": 37.0, \"miles\": 37.0, \"group\": 0}, {\"speed\": 115.0, \"age\": 29.0, \"miles\": 21.0, \"group\": 1}, {\"speed\": 114.0, \"age\": 53.0, \"miles\": 19.0, \"group\": 2}, {\"speed\": 121.0, \"age\": 46.0, \"miles\": 17.0, \"group\": 1}, {\"speed\": 103.0, \"age\": 40.0, \"miles\": 41.0, \"group\": 1}, {\"speed\": 126.0, \"age\": 34.0, \"miles\": 34.0, \"group\": 0}, {\"speed\": 92.0, \"age\": 16.0, \"miles\": 18.0, \"group\": 2}, {\"speed\": 139.0, \"age\": 45.0, \"miles\": 39.0, \"group\": 1}, {\"speed\": 96.0, \"age\": 32.0, \"miles\": 19.0, \"group\": 2}, {\"speed\": 159.0, \"age\": 38.0, \"miles\": 42.0, \"group\": 0}, {\"speed\": 102.0, \"age\": 38.0, \"miles\": 16.0, \"group\": 1}, {\"speed\": 113.0, \"age\": 39.0, \"miles\": 33.0, \"group\": 1}, {\"speed\": 117.0, \"age\": 31.0, \"miles\": 22.0, \"group\": 0}, {\"speed\": 103.0, \"age\": 100.0, \"miles\": 28.0, \"group\": 0}, {\"speed\": 135.0, \"age\": 75.0, \"miles\": 14.0, \"group\": 0}, {\"speed\": 139.0, \"age\": 55.0, \"miles\": 48.0, \"group\": 1}, {\"speed\": 120.0, \"age\": 42.0, \"miles\": 23.0, \"group\": 1}, {\"speed\": 103.0, \"age\": 16.0, \"miles\": 11.0, \"group\": 2}, {\"speed\": 138.0, \"age\": 36.0, \"miles\": 35.0, \"group\": 1}, {\"speed\": 99.0, \"age\": 31.0, \"miles\": 7.0, \"group\": 2}, {\"speed\": 110.0, \"age\": 34.0, \"miles\": 37.0, \"group\": 0}, {\"speed\": 146.0, \"age\": 33.0, \"miles\": 46.0, \"group\": 0}, {\"speed\": 152.0, \"age\": 37.0, \"miles\": 65.0, \"group\": 0}, {\"speed\": 139.0, \"age\": 31.0, \"miles\": 37.0, \"group\": 2}, {\"speed\": 114.0, \"age\": 44.0, \"miles\": 25.0, \"group\": 2}, {\"speed\": 138.0, \"age\": 50.0, \"miles\": 42.0, \"group\": 1}, {\"speed\": 137.0, \"age\": 42.0, \"miles\": 35.0, \"group\": 1}, {\"speed\": 95.0, \"age\": 21.0, \"miles\": 20.0, \"group\": 2}, {\"speed\": 142.0, \"age\": 40.0, \"miles\": 27.0, \"group\": 2}, {\"speed\": 158.0, \"age\": 48.0, \"miles\": 44.0, \"group\": 2}, {\"speed\": 126.0, \"age\": 48.0, \"miles\": 48.0, \"group\": 2}, {\"speed\": 111.0, \"age\": 34.0, \"miles\": 35.0, \"group\": 0}, {\"speed\": 145.0, \"age\": 37.0, \"miles\": 51.0, \"group\": 0}, {\"speed\": 117.0, \"age\": 72.0, \"miles\": 13.0, \"group\": 0}, {\"speed\": 108.0, \"age\": 77.0, \"miles\": 24.0, \"group\": 0}, {\"speed\": 103.0, \"age\": 58.0, \"miles\": 5.0, \"group\": 2}, {\"speed\": 128.0, \"age\": 26.0, \"miles\": 7.0, \"group\": 0}, {\"speed\": 102.0, \"age\": 16.0, \"miles\": 3.0, \"group\": 2}, {\"speed\": 125.0, \"age\": 78.0, \"miles\": 22.0, \"group\": 0}, {\"speed\": 105.0, \"age\": 40.0, \"miles\": 15.0, \"group\": 1}, {\"speed\": 112.0, \"age\": 17.0, \"miles\": 24.0, \"group\": 0}, {\"speed\": 147.0, \"age\": 34.0, \"miles\": 51.0, \"group\": 0}, {\"speed\": 148.0, \"age\": 32.0, \"miles\": 52.0, \"group\": 0}, {\"speed\": 119.0, \"age\": 56.0, \"miles\": 45.0, \"group\": 2}, {\"speed\": 118.0, \"age\": 16.0, \"miles\": 36.0, \"group\": 0}, {\"speed\": 106.0, \"age\": 47.0, \"miles\": 27.0, \"group\": 1}, {\"speed\": 139.0, \"age\": 45.0, \"miles\": 40.0, \"group\": 1}, {\"speed\": 114.0, \"age\": 74.0, \"miles\": 31.0, \"group\": 0}, {\"speed\": 143.0, \"age\": 40.0, \"miles\": 50.0, \"group\": 0}, {\"speed\": 144.0, \"age\": 46.0, \"miles\": 43.0, \"group\": 1}, {\"speed\": 108.0, \"age\": 32.0, \"miles\": 24.0, \"group\": 0}, {\"speed\": 150.0, \"age\": 38.0, \"miles\": 49.0, \"group\": 0}, {\"speed\": 122.0, \"age\": 37.0, \"miles\": 13.0, \"group\": 1}, {\"speed\": 116.0, \"age\": 81.0, \"miles\": 10.0, \"group\": 0}, {\"speed\": 119.0, \"age\": 25.0, \"miles\": 31.0, \"group\": 0}, {\"speed\": 129.0, \"age\": 67.0, \"miles\": 20.0, \"group\": 0}, {\"speed\": 136.0, \"age\": 61.0, \"miles\": 48.0, \"group\": 2}, {\"speed\": 99.0, \"age\": 56.0, \"miles\": 23.0, \"group\": 1}, {\"speed\": 104.0, \"age\": 46.0, \"miles\": 20.0, \"group\": 1}, {\"speed\": 146.0, \"age\": 29.0, \"miles\": 54.0, \"group\": 0}, {\"speed\": 150.0, \"age\": 45.0, \"miles\": 40.0, \"group\": 2}, {\"speed\": 97.0, \"age\": 18.0, \"miles\": 16.0, \"group\": 2}, {\"speed\": 119.0, \"age\": 59.0, \"miles\": 17.0, \"group\": 1}, {\"speed\": 130.0, \"age\": 19.0, \"miles\": 45.0, \"group\": 0}, {\"speed\": 150.0, \"age\": 27.0, \"miles\": 49.0, \"group\": 0}, {\"speed\": 127.0, \"age\": 35.0, \"miles\": 51.0, \"group\": 2}, {\"speed\": 117.0, \"age\": 78.0, \"miles\": 18.0, \"group\": 0}, {\"speed\": 140.0, \"age\": 47.0, \"miles\": 37.0, \"group\": 1}, {\"speed\": 138.0, \"age\": 30.0, \"miles\": 28.0, \"group\": 0}, {\"speed\": 99.0, \"age\": 22.0, \"miles\": 10.0, \"group\": 2}, {\"speed\": 114.0, \"age\": 41.0, \"miles\": 25.0, \"group\": 1}, {\"speed\": 109.0, \"age\": 24.0, \"miles\": 27.0, \"group\": 0}, {\"speed\": 142.0, \"age\": 48.0, \"miles\": 50.0, \"group\": 1}, {\"speed\": 128.0, \"age\": 24.0, \"miles\": 25.0, \"group\": 0}, {\"speed\": 110.0, \"age\": 56.0, \"miles\": 15.0, \"group\": 1}, {\"speed\": 106.0, \"age\": 39.0, \"miles\": 22.0, \"group\": 1}, {\"speed\": 148.0, \"age\": 50.0, \"miles\": 41.0, \"group\": 1}, {\"speed\": 113.0, \"age\": 18.0, \"miles\": 33.0, \"group\": 0}, {\"speed\": 121.0, \"age\": 50.0, \"miles\": 42.0, \"group\": 2}, {\"speed\": 97.0, \"age\": 26.0, \"miles\": 16.0, \"group\": 2}, {\"speed\": 137.0, \"age\": 40.0, \"miles\": 30.0, \"group\": 1}, {\"speed\": 115.0, \"age\": 80.0, \"miles\": 27.0, \"group\": 2}, {\"speed\": 100.0, \"age\": 30.0, \"miles\": 21.0, \"group\": 2}, {\"speed\": 142.0, \"age\": 44.0, \"miles\": 28.0, \"group\": 2}, {\"speed\": 102.0, \"age\": 41.0, \"miles\": 18.0, \"group\": 1}, {\"speed\": 120.0, \"age\": 67.0, \"miles\": 16.0, \"group\": 0}, {\"speed\": 132.0, \"age\": 52.0, \"miles\": 34.0, \"group\": 1}, {\"speed\": 112.0, \"age\": 85.0, \"miles\": 13.0, \"group\": 0}, {\"speed\": 103.0, \"age\": 34.0, \"miles\": 13.0, \"group\": 2}, {\"speed\": 123.0, \"age\": 86.0, \"miles\": 5.0, \"group\": 0}, {\"speed\": 96.0, \"age\": 80.0, \"miles\": 22.0, \"group\": 0}, {\"speed\": 149.0, \"age\": 50.0, \"miles\": 39.0, \"group\": 1}, {\"speed\": 121.0, \"age\": 79.0, \"miles\": 7.0, \"group\": 0}, {\"speed\": 137.0, \"age\": 30.0, \"miles\": 26.0, \"group\": 2}, {\"speed\": 133.0, \"age\": 16.0, \"miles\": 23.0, \"group\": 0}, {\"speed\": 119.0, \"age\": 40.0, \"miles\": 27.0, \"group\": 0}, {\"speed\": 123.0, \"age\": 36.0, \"miles\": 20.0, \"group\": 0}, {\"speed\": 129.0, \"age\": 58.0, \"miles\": 22.0, \"group\": 1}, {\"speed\": 125.0, \"age\": 21.0, \"miles\": 30.0, \"group\": 0}, {\"speed\": 134.0, \"age\": 64.0, \"miles\": 30.0, \"group\": 2}, {\"speed\": 147.0, \"age\": 38.0, \"miles\": 51.0, \"group\": 0}, {\"speed\": 101.0, \"age\": 56.0, \"miles\": 27.0, \"group\": 1}, {\"speed\": 153.0, \"age\": 35.0, \"miles\": 49.0, \"group\": 0}, {\"speed\": 130.0, \"age\": 38.0, \"miles\": 32.0, \"group\": 2}, {\"speed\": 144.0, \"age\": 40.0, \"miles\": 44.0, \"group\": 1}, {\"speed\": 93.0, \"age\": 47.0, \"miles\": 3.0, \"group\": 1}, {\"speed\": 105.0, \"age\": 43.0, \"miles\": 29.0, \"group\": 1}, {\"speed\": 134.0, \"age\": 57.0, \"miles\": 48.0, \"group\": 1}, {\"speed\": 130.0, \"age\": 58.0, \"miles\": 46.0, \"group\": 2}, {\"speed\": 120.0, \"age\": 30.0, \"miles\": 27.0, \"group\": 0}, {\"speed\": 111.0, \"age\": 27.0, \"miles\": 32.0, \"group\": 0}, {\"speed\": 95.0, \"age\": 28.0, \"miles\": 12.0, \"group\": 2}, {\"speed\": 100.0, \"age\": 16.0, \"miles\": 19.0, \"group\": 2}, {\"speed\": 147.0, \"age\": 35.0, \"miles\": 51.0, \"group\": 0}, {\"speed\": 95.0, \"age\": 22.0, \"miles\": 13.0, \"group\": 2}, {\"speed\": 125.0, \"age\": 45.0, \"miles\": 18.0, \"group\": 2}, {\"speed\": 158.0, \"age\": 39.0, \"miles\": 48.0, \"group\": 0}, {\"speed\": 153.0, \"age\": 30.0, \"miles\": 51.0, \"group\": 0}, {\"speed\": 150.0, \"age\": 39.0, \"miles\": 47.0, \"group\": 0}, {\"speed\": 129.0, \"age\": 71.0, \"miles\": 26.0, \"group\": 0}, {\"speed\": 102.0, \"age\": 45.0, \"miles\": 32.0, \"group\": 1}, {\"speed\": 106.0, \"age\": 35.0, \"miles\": 35.0, \"group\": 0}, {\"speed\": 144.0, \"age\": 65.0, \"miles\": 38.0, \"group\": 2}, {\"speed\": 105.0, \"age\": 67.0, \"miles\": 12.0, \"group\": 1}, {\"speed\": 132.0, \"age\": 18.0, \"miles\": 3.0, \"group\": 0}, {\"speed\": 145.0, \"age\": 45.0, \"miles\": 32.0, \"group\": 2}, {\"speed\": 133.0, \"age\": 25.0, \"miles\": 13.0, \"group\": 0}, {\"speed\": 114.0, \"age\": 36.0, \"miles\": 19.0, \"group\": 1}, {\"speed\": 111.0, \"age\": 83.0, \"miles\": 34.0, \"group\": 0}, {\"speed\": 129.0, \"age\": 35.0, \"miles\": 1.0, \"group\": 2}, {\"speed\": 133.0, \"age\": 71.0, \"miles\": 15.0, \"group\": 0}, {\"speed\": 101.0, \"age\": 25.0, \"miles\": 21.0, \"group\": 2}, {\"speed\": 138.0, \"age\": 43.0, \"miles\": 71.0, \"group\": 2}, {\"speed\": 142.0, \"age\": 38.0, \"miles\": 42.0, \"group\": 1}, {\"speed\": 114.0, \"age\": 52.0, \"miles\": 17.0, \"group\": 1}, {\"speed\": 94.0, \"age\": 24.0, \"miles\": 12.0, \"group\": 2}, {\"speed\": 129.0, \"age\": 65.0, \"miles\": 49.0, \"group\": 2}, {\"speed\": 100.0, \"age\": 73.0, \"miles\": 29.0, \"group\": 0}, {\"speed\": 102.0, \"age\": 16.0, \"miles\": 11.0, \"group\": 2}, {\"speed\": 123.0, \"age\": 56.0, \"miles\": 24.0, \"group\": 1}, {\"speed\": 148.0, \"age\": 32.0, \"miles\": 51.0, \"group\": 0}, {\"speed\": 115.0, \"age\": 90.0, \"miles\": 29.0, \"group\": 0}, {\"speed\": 126.0, \"age\": 62.0, \"miles\": 12.0, \"group\": 0}, {\"speed\": 145.0, \"age\": 34.0, \"miles\": 41.0, \"group\": 2}, {\"speed\": 96.0, \"age\": 37.0, \"miles\": 16.0, \"group\": 1}, {\"speed\": 108.0, \"age\": 45.0, \"miles\": 34.0, \"group\": 1}, {\"speed\": 125.0, \"age\": 72.0, \"miles\": 23.0, \"group\": 0}, {\"speed\": 127.0, \"age\": 79.0, \"miles\": 18.0, \"group\": 0}, {\"speed\": 140.0, \"age\": 47.0, \"miles\": 44.0, \"group\": 1}, {\"speed\": 115.0, \"age\": 38.0, \"miles\": 41.0, \"group\": 1}, {\"speed\": 99.0, \"age\": 34.0, \"miles\": 31.0, \"group\": 1}, {\"speed\": 118.0, \"age\": 32.0, \"miles\": 27.0, \"group\": 0}, {\"speed\": 114.0, \"age\": 87.0, \"miles\": 18.0, \"group\": 0}, {\"speed\": 102.0, \"age\": 33.0, \"miles\": 25.0, \"group\": 1}, {\"speed\": 123.0, \"age\": 38.0, \"miles\": 28.0, \"group\": 1}, {\"speed\": 141.0, \"age\": 48.0, \"miles\": 34.0, \"group\": 1}, {\"speed\": 127.0, \"age\": 30.0, \"miles\": 28.0, \"group\": 0}, {\"speed\": 132.0, \"age\": 46.0, \"miles\": 69.0, \"group\": 2}, {\"speed\": 143.0, \"age\": 45.0, \"miles\": 39.0, \"group\": 1}, {\"speed\": 98.0, \"age\": 28.0, \"miles\": 15.0, \"group\": 2}, {\"speed\": 142.0, \"age\": 53.0, \"miles\": 35.0, \"group\": 1}, {\"speed\": 147.0, \"age\": 39.0, \"miles\": 49.0, \"group\": 0}, {\"speed\": 135.0, \"age\": 74.0, \"miles\": 12.0, \"group\": 0}, {\"speed\": 133.0, \"age\": 49.0, \"miles\": 35.0, \"group\": 1}, {\"speed\": 141.0, \"age\": 42.0, \"miles\": 42.0, \"group\": 1}, {\"speed\": 102.0, \"age\": 25.0, \"miles\": 12.0, \"group\": 2}, {\"speed\": 152.0, \"age\": 35.0, \"miles\": 50.0, \"group\": 0}, {\"speed\": 114.0, \"age\": 55.0, \"miles\": 29.0, \"group\": 1}, {\"speed\": 147.0, \"age\": 49.0, \"miles\": 44.0, \"group\": 1}, {\"speed\": 152.0, \"age\": 34.0, \"miles\": 53.0, \"group\": 0}, {\"speed\": 131.0, \"age\": 71.0, \"miles\": 18.0, \"group\": 0}, {\"speed\": 128.0, \"age\": 54.0, \"miles\": 47.0, \"group\": 2}, {\"speed\": 153.0, \"age\": 29.0, \"miles\": 48.0, \"group\": 0}, {\"speed\": 117.0, \"age\": 42.0, \"miles\": 35.0, \"group\": 0}, {\"speed\": 120.0, \"age\": 60.0, \"miles\": 48.0, \"group\": 2}, {\"speed\": 114.0, \"age\": 42.0, \"miles\": 34.0, \"group\": 2}, {\"speed\": 122.0, \"age\": 34.0, \"miles\": 34.0, \"group\": 0}, {\"speed\": 153.0, \"age\": 30.0, \"miles\": 49.0, \"group\": 0}, {\"speed\": 108.0, \"age\": 49.0, \"miles\": 31.0, \"group\": 1}, {\"speed\": 121.0, \"age\": 43.0, \"miles\": 43.0, \"group\": 2}, {\"speed\": 148.0, \"age\": 33.0, \"miles\": 49.0, \"group\": 0}, {\"speed\": 121.0, \"age\": 23.0, \"miles\": 40.0, \"group\": 0}, {\"speed\": 119.0, \"age\": 74.0, \"miles\": 17.0, \"group\": 0}, {\"speed\": 130.0, \"age\": 66.0, \"miles\": 45.0, \"group\": 2}, {\"speed\": 109.0, \"age\": 37.0, \"miles\": 24.0, \"group\": 1}, {\"speed\": 143.0, \"age\": 41.0, \"miles\": 44.0, \"group\": 1}, {\"speed\": 109.0, \"age\": 68.0, \"miles\": 35.0, \"group\": 2}, {\"speed\": 107.0, \"age\": 56.0, \"miles\": 8.0, \"group\": 1}, {\"speed\": 100.0, \"age\": 41.0, \"miles\": 26.0, \"group\": 1}, {\"speed\": 116.0, \"age\": 43.0, \"miles\": 33.0, \"group\": 0}, {\"speed\": 148.0, \"age\": 35.0, \"miles\": 45.0, \"group\": 0}, {\"speed\": 151.0, \"age\": 38.0, \"miles\": 53.0, \"group\": 0}, {\"speed\": 138.0, \"age\": 43.0, \"miles\": 36.0, \"group\": 1}, {\"speed\": 157.0, \"age\": 62.0, \"miles\": 38.0, \"group\": 2}, {\"speed\": 119.0, \"age\": 37.0, \"miles\": 26.0, \"group\": 0}, {\"speed\": 119.0, \"age\": 41.0, \"miles\": 16.0, \"group\": 1}, {\"speed\": 153.0, \"age\": 35.0, \"miles\": 46.0, \"group\": 2}, {\"speed\": 90.0, \"age\": 50.0, \"miles\": 18.0, \"group\": 1}, {\"speed\": 149.0, \"age\": 33.0, \"miles\": 44.0, \"group\": 0}, {\"speed\": 111.0, \"age\": 47.0, \"miles\": 16.0, \"group\": 1}, {\"speed\": 119.0, \"age\": 87.0, \"miles\": 25.0, \"group\": 0}, {\"speed\": 103.0, \"age\": 22.0, \"miles\": 23.0, \"group\": 2}, {\"speed\": 107.0, \"age\": 23.0, \"miles\": 22.0, \"group\": 2}, {\"speed\": 113.0, \"age\": 30.0, \"miles\": 20.0, \"group\": 1}, {\"speed\": 106.0, \"age\": 61.0, \"miles\": 17.0, \"group\": 1}, {\"speed\": 97.0, \"age\": 28.0, \"miles\": 15.0, \"group\": 2}, {\"speed\": 121.0, \"age\": 63.0, \"miles\": 27.0, \"group\": 0}, {\"speed\": 150.0, \"age\": 40.0, \"miles\": 50.0, \"group\": 0}, {\"speed\": 103.0, \"age\": 17.0, \"miles\": 9.0, \"group\": 2}, {\"speed\": 131.0, \"age\": 75.0, \"miles\": 48.0, \"group\": 2}, {\"speed\": 100.0, \"age\": 42.0, \"miles\": 16.0, \"group\": 1}, {\"speed\": 95.0, \"age\": 64.0, \"miles\": 24.0, \"group\": 1}, {\"speed\": 121.0, \"age\": 73.0, \"miles\": 46.0, \"group\": 2}, {\"speed\": 131.0, \"age\": 20.0, \"miles\": 36.0, \"group\": 0}, {\"speed\": 151.0, \"age\": 44.0, \"miles\": 41.0, \"group\": 1}, {\"speed\": 151.0, \"age\": 48.0, \"miles\": 34.0, \"group\": 2}, {\"speed\": 143.0, \"age\": 39.0, \"miles\": 39.0, \"group\": 1}, {\"speed\": 106.0, \"age\": 41.0, \"miles\": 18.0, \"group\": 1}, {\"speed\": 114.0, \"age\": 34.0, \"miles\": 17.0, \"group\": 1}, {\"speed\": 147.0, \"age\": 41.0, \"miles\": 38.0, \"group\": 1}, {\"speed\": 109.0, \"age\": 45.0, \"miles\": 29.0, \"group\": 1}, {\"speed\": 106.0, \"age\": 26.0, \"miles\": 21.0, \"group\": 2}, {\"speed\": 97.0, \"age\": 75.0, \"miles\": 34.0, \"group\": 0}, {\"speed\": 147.0, \"age\": 33.0, \"miles\": 53.0, \"group\": 0}, {\"speed\": 123.0, \"age\": 75.0, \"miles\": 13.0, \"group\": 0}, {\"speed\": 117.0, \"age\": 60.0, \"miles\": 26.0, \"group\": 2}, {\"speed\": 105.0, \"age\": 38.0, \"miles\": 26.0, \"group\": 1}, {\"speed\": 118.0, \"age\": 38.0, \"miles\": 28.0, \"group\": 2}, {\"speed\": 106.0, \"age\": 23.0, \"miles\": 23.0, \"group\": 0}, {\"speed\": 106.0, \"age\": 30.0, \"miles\": 10.0, \"group\": 2}, {\"speed\": 90.0, \"age\": 23.0, \"miles\": 13.0, \"group\": 2}, {\"speed\": 126.0, \"age\": 18.0, \"miles\": 41.0, \"group\": 0}, {\"speed\": 108.0, \"age\": 61.0, \"miles\": 7.0, \"group\": 0}, {\"speed\": 109.0, \"age\": 38.0, \"miles\": 38.0, \"group\": 0}, {\"speed\": 127.0, \"age\": 46.0, \"miles\": 57.0, \"group\": 2}, {\"speed\": 149.0, \"age\": 36.0, \"miles\": 50.0, \"group\": 0}, {\"speed\": 105.0, \"age\": 37.0, \"miles\": 1.0, \"group\": 2}, {\"speed\": 96.0, \"age\": 52.0, \"miles\": 15.0, \"group\": 1}, {\"speed\": 152.0, \"age\": 31.0, \"miles\": 51.0, \"group\": 0}, {\"speed\": 144.0, \"age\": 47.0, \"miles\": 42.0, \"group\": 1}, {\"speed\": 126.0, \"age\": 43.0, \"miles\": 48.0, \"group\": 2}, {\"speed\": 101.0, \"age\": 26.0, \"miles\": 12.0, \"group\": 2}, {\"speed\": 122.0, \"age\": 24.0, \"miles\": 27.0, \"group\": 0}, {\"speed\": 103.0, \"age\": 50.0, \"miles\": 41.0, \"group\": 1}, {\"speed\": 152.0, \"age\": 39.0, \"miles\": 54.0, \"group\": 0}, {\"speed\": 102.0, \"age\": 29.0, \"miles\": 15.0, \"group\": 2}, {\"speed\": 118.0, \"age\": 40.0, \"miles\": 30.0, \"group\": 1}, {\"speed\": 112.0, \"age\": 61.0, \"miles\": 29.0, \"group\": 2}, {\"speed\": 102.0, \"age\": 37.0, \"miles\": 11.0, \"group\": 2}, {\"speed\": 114.0, \"age\": 52.0, \"miles\": 33.0, \"group\": 1}, {\"speed\": 128.0, \"age\": 70.0, \"miles\": 31.0, \"group\": 0}, {\"speed\": 106.0, \"age\": 52.0, \"miles\": 35.0, \"group\": 1}, {\"speed\": 105.0, \"age\": 23.0, \"miles\": 19.0, \"group\": 2}, {\"speed\": 108.0, \"age\": 81.0, \"miles\": 21.0, \"group\": 0}, {\"speed\": 120.0, \"age\": 31.0, \"miles\": 11.0, \"group\": 2}, {\"speed\": 152.0, \"age\": 43.0, \"miles\": 51.0, \"group\": 0}, {\"speed\": 134.0, \"age\": 40.0, \"miles\": 45.0, \"group\": 2}, {\"speed\": 90.0, \"age\": 45.0, \"miles\": 16.0, \"group\": 1}, {\"speed\": 137.0, \"age\": 66.0, \"miles\": 20.0, \"group\": 0}, {\"speed\": 152.0, \"age\": 38.0, \"miles\": 58.0, \"group\": 0}, {\"speed\": 139.0, \"age\": 55.0, \"miles\": 48.0, \"group\": 2}, {\"speed\": 112.0, \"age\": 53.0, \"miles\": 9.0, \"group\": 1}, {\"speed\": 94.0, \"age\": 30.0, \"miles\": 18.0, \"group\": 2}, {\"speed\": 107.0, \"age\": 32.0, \"miles\": 2.0, \"group\": 1}, {\"speed\": 122.0, \"age\": 46.0, \"miles\": 41.0, \"group\": 0}, {\"speed\": 166.0, \"age\": 45.0, \"miles\": 33.0, \"group\": 2}, {\"speed\": 123.0, \"age\": 64.0, \"miles\": 20.0, \"group\": 1}, {\"speed\": 122.0, \"age\": 37.0, \"miles\": 52.0, \"group\": 2}, {\"speed\": 130.0, \"age\": 41.0, \"miles\": 38.0, \"group\": 1}, {\"speed\": 125.0, \"age\": 46.0, \"miles\": 19.0, \"group\": 1}, {\"speed\": 94.0, \"age\": 35.0, \"miles\": 25.0, \"group\": 1}, {\"speed\": 149.0, \"age\": 31.0, \"miles\": 44.0, \"group\": 0}, {\"speed\": 151.0, \"age\": 38.0, \"miles\": 45.0, \"group\": 0}, {\"speed\": 146.0, \"age\": 29.0, \"miles\": 56.0, \"group\": 0}, {\"speed\": 116.0, \"age\": 36.0, \"miles\": 18.0, \"group\": 1}, {\"speed\": 100.0, \"age\": 47.0, \"miles\": 22.0, \"group\": 1}, {\"speed\": 116.0, \"age\": 49.0, \"miles\": 42.0, \"group\": 1}, {\"speed\": 139.0, \"age\": 46.0, \"miles\": 40.0, \"group\": 1}, {\"speed\": 142.0, \"age\": 48.0, \"miles\": 84.0, \"group\": 2}, {\"speed\": 95.0, \"age\": 49.0, \"miles\": 14.0, \"group\": 1}, {\"speed\": 149.0, \"age\": 48.0, \"miles\": 33.0, \"group\": 1}, {\"speed\": 115.0, \"age\": 60.0, \"miles\": 32.0, \"group\": 1}, {\"speed\": 114.0, \"age\": 34.0, \"miles\": 32.0, \"group\": 1}, {\"speed\": 138.0, \"age\": 41.0, \"miles\": 45.0, \"group\": 1}, {\"speed\": 100.0, \"age\": 31.0, \"miles\": 28.0, \"group\": 1}, {\"speed\": 100.0, \"age\": 58.0, \"miles\": 55.0, \"group\": 2}]}};\n",
              "    var embed_opt = {\"mode\": \"vega-lite\"};\n",
              "\n",
              "    function showError(el, error){\n",
              "        el.innerHTML = ('<div class=\"error\">'\n",
              "                        + '<p>JavaScript Error: ' + error.message + '</p>'\n",
              "                        + \"<p>This usually means there's a typo in your chart specification. \"\n",
              "                        + \"See the javascript console for the full traceback.</p>\"\n",
              "                        + '</div>');\n",
              "        throw error;\n",
              "    }\n",
              "    const el = document.getElementById('vis');\n",
              "    vegaEmbed(\"#vis\", spec, embed_opt)\n",
              "      .catch(error => showError(el, error));\n",
              "  </script>\n",
              "</body>\n",
              "</html>\n"
            ]
          },
          "metadata": {
            "tags": []
          },
          "execution_count": 12
        }
      ]
    },
    {
      "metadata": {
        "id": "do9_cjSlWA0u",
        "colab_type": "code",
        "colab": {}
      },
      "cell_type": "code",
      "source": [
        "# save the complete, fully functional html page\n",
        "\n",
        "chart.save('chart.html')"
      ],
      "execution_count": 0,
      "outputs": []
    },
    {
      "metadata": {
        "id": "ZCHIKXC-WA0w",
        "colab_type": "code",
        "colab": {}
      },
      "cell_type": "code",
      "source": [
        "# just save the vega-lite json\n",
        "\n",
        "chart.save('chart.json')"
      ],
      "execution_count": 0,
      "outputs": []
    },
    {
      "metadata": {
        "id": "tdaOXwluWyp7",
        "colab_type": "code",
        "colab": {}
      },
      "cell_type": "code",
      "source": [
        ""
      ],
      "execution_count": 0,
      "outputs": []
    }
  ]
}