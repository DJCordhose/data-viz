{
  "nbformat": 4,
  "nbformat_minor": 0,
  "metadata": {
    "colab": {
      "name": "ml-viz.ipynb",
      "version": "0.3.2",
      "provenance": [],
      "collapsed_sections": [
        "FASceuwQAOTp",
        "_px_mArrS4Um",
        "ls7X_oTmUC5q"
      ],
      "include_colab_link": true
    },
    "kernelspec": {
      "display_name": "Python 3",
      "language": "python",
      "name": "python3"
    }
  },
  "cells": [
    {
      "cell_type": "markdown",
      "metadata": {
        "id": "view-in-github",
        "colab_type": "text"
      },
      "source": [
        "[View in Colaboratory](https://colab.research.google.com/github/DJCordhose/data-viz/blob/master/notebooks/4-1-altair-car-insurance-plot.ipynb)"
      ]
    },
    {
      "metadata": {
        "id": "stYv1G2SL4P_",
        "colab_type": "text"
      },
      "cell_type": "markdown",
      "source": [
        "# Simple Plotting using Altair\n",
        "\n",
        "https://altair-viz.github.io/"
      ]
    },
    {
      "metadata": {
        "id": "o7aEBZR2AOTX",
        "colab_type": "code",
        "colab": {}
      },
      "cell_type": "code",
      "source": [
        "import altair as alt\n",
        "\n",
        "# remove when running on Colab or JupyterLab / add when running in a jupyter notebook\n",
        "# alt.renderers.enable('notebook')"
      ],
      "execution_count": 0,
      "outputs": []
    },
    {
      "metadata": {
        "id": "En-6tqYHL4QG",
        "colab_type": "text"
      },
      "cell_type": "markdown",
      "source": [
        "## Car insurance customer data"
      ]
    },
    {
      "metadata": {
        "id": "3vRMCp_4CODu",
        "colab_type": "code",
        "colab": {
          "base_uri": "https://localhost:8080/",
          "height": 68
        },
        "outputId": "e2cec220-703e-44f7-bea6-f78b1a39e160"
      },
      "cell_type": "code",
      "source": [
        "# Choose one of the two following data sets, the larger one gives better results, but might clutter the visualization depending on resolution\n",
        "\n",
        "# !curl -O https://raw.githubusercontent.com/DJCordhose/data-viz/master/data/insurance-customers-1500.csv\n",
        "!curl -O https://raw.githubusercontent.com/DJCordhose/data-viz/master/data/insurance-customers-300.csv"
      ],
      "execution_count": 2,
      "outputs": [
        {
          "output_type": "stream",
          "text": [
            "  % Total    % Received % Xferd  Average Speed   Time    Time     Time  Current\n",
            "                                 Dload  Upload   Total   Spent    Left  Speed\n",
            "100  5376  100  5376    0     0   5376      0  0:00:01 --:--:--  0:00:01 32191\n"
          ],
          "name": "stdout"
        }
      ]
    },
    {
      "metadata": {
        "id": "zZrvQwmLAOTg",
        "colab_type": "code",
        "colab": {}
      },
      "cell_type": "code",
      "source": [
        "import pandas as pd\n",
        "customers = pd.read_csv('./insurance-customers-300.csv', sep=';')\n",
        "# customers = pd.read_csv('./insurance-customers-1500.csv', sep=';')"
      ],
      "execution_count": 0,
      "outputs": []
    },
    {
      "metadata": {
        "id": "kzr738RwNKQ9",
        "colab_type": "code",
        "colab": {
          "base_uri": "https://localhost:8080/",
          "height": 204
        },
        "outputId": "6900ef93-7d70-40ea-9973-12ef864f6bbf"
      },
      "cell_type": "code",
      "source": [
        "customers.head()"
      ],
      "execution_count": 4,
      "outputs": [
        {
          "output_type": "execute_result",
          "data": {
            "text/html": [
              "<div>\n",
              "<style scoped>\n",
              "    .dataframe tbody tr th:only-of-type {\n",
              "        vertical-align: middle;\n",
              "    }\n",
              "\n",
              "    .dataframe tbody tr th {\n",
              "        vertical-align: top;\n",
              "    }\n",
              "\n",
              "    .dataframe thead th {\n",
              "        text-align: right;\n",
              "    }\n",
              "</style>\n",
              "<table border=\"1\" class=\"dataframe\">\n",
              "  <thead>\n",
              "    <tr style=\"text-align: right;\">\n",
              "      <th></th>\n",
              "      <th>speed</th>\n",
              "      <th>age</th>\n",
              "      <th>miles</th>\n",
              "      <th>group</th>\n",
              "    </tr>\n",
              "  </thead>\n",
              "  <tbody>\n",
              "    <tr>\n",
              "      <th>0</th>\n",
              "      <td>117.0</td>\n",
              "      <td>41.0</td>\n",
              "      <td>5.0</td>\n",
              "      <td>1</td>\n",
              "    </tr>\n",
              "    <tr>\n",
              "      <th>1</th>\n",
              "      <td>108.0</td>\n",
              "      <td>18.0</td>\n",
              "      <td>15.0</td>\n",
              "      <td>1</td>\n",
              "    </tr>\n",
              "    <tr>\n",
              "      <th>2</th>\n",
              "      <td>107.0</td>\n",
              "      <td>28.0</td>\n",
              "      <td>14.0</td>\n",
              "      <td>2</td>\n",
              "    </tr>\n",
              "    <tr>\n",
              "      <th>3</th>\n",
              "      <td>111.0</td>\n",
              "      <td>43.0</td>\n",
              "      <td>62.0</td>\n",
              "      <td>2</td>\n",
              "    </tr>\n",
              "    <tr>\n",
              "      <th>4</th>\n",
              "      <td>129.0</td>\n",
              "      <td>36.0</td>\n",
              "      <td>42.0</td>\n",
              "      <td>0</td>\n",
              "    </tr>\n",
              "  </tbody>\n",
              "</table>\n",
              "</div>"
            ],
            "text/plain": [
              "   speed   age  miles  group\n",
              "0  117.0  41.0    5.0      1\n",
              "1  108.0  18.0   15.0      1\n",
              "2  107.0  28.0   14.0      2\n",
              "3  111.0  43.0   62.0      2\n",
              "4  129.0  36.0   42.0      0"
            ]
          },
          "metadata": {
            "tags": []
          },
          "execution_count": 4
        }
      ]
    },
    {
      "metadata": {
        "id": "5cjMw_wXVkiQ",
        "colab_type": "code",
        "colab": {
          "base_uri": "https://localhost:8080/",
          "height": 297
        },
        "outputId": "c69e1218-70c8-4e1a-9994-5eecf994f278"
      },
      "cell_type": "code",
      "source": [
        "customers.describe()"
      ],
      "execution_count": 5,
      "outputs": [
        {
          "output_type": "execute_result",
          "data": {
            "text/html": [
              "<div>\n",
              "<style scoped>\n",
              "    .dataframe tbody tr th:only-of-type {\n",
              "        vertical-align: middle;\n",
              "    }\n",
              "\n",
              "    .dataframe tbody tr th {\n",
              "        vertical-align: top;\n",
              "    }\n",
              "\n",
              "    .dataframe thead th {\n",
              "        text-align: right;\n",
              "    }\n",
              "</style>\n",
              "<table border=\"1\" class=\"dataframe\">\n",
              "  <thead>\n",
              "    <tr style=\"text-align: right;\">\n",
              "      <th></th>\n",
              "      <th>speed</th>\n",
              "      <th>age</th>\n",
              "      <th>miles</th>\n",
              "      <th>group</th>\n",
              "    </tr>\n",
              "  </thead>\n",
              "  <tbody>\n",
              "    <tr>\n",
              "      <th>count</th>\n",
              "      <td>300.000000</td>\n",
              "      <td>300.000000</td>\n",
              "      <td>300.000000</td>\n",
              "      <td>300.000000</td>\n",
              "    </tr>\n",
              "    <tr>\n",
              "      <th>mean</th>\n",
              "      <td>122.963333</td>\n",
              "      <td>44.000000</td>\n",
              "      <td>31.133333</td>\n",
              "      <td>1.000000</td>\n",
              "    </tr>\n",
              "    <tr>\n",
              "      <th>std</th>\n",
              "      <td>17.135170</td>\n",
              "      <td>16.312992</td>\n",
              "      <td>15.568885</td>\n",
              "      <td>0.817861</td>\n",
              "    </tr>\n",
              "    <tr>\n",
              "      <th>min</th>\n",
              "      <td>85.000000</td>\n",
              "      <td>16.000000</td>\n",
              "      <td>1.000000</td>\n",
              "      <td>0.000000</td>\n",
              "    </tr>\n",
              "    <tr>\n",
              "      <th>25%</th>\n",
              "      <td>109.750000</td>\n",
              "      <td>33.000000</td>\n",
              "      <td>18.000000</td>\n",
              "      <td>0.000000</td>\n",
              "    </tr>\n",
              "    <tr>\n",
              "      <th>50%</th>\n",
              "      <td>121.000000</td>\n",
              "      <td>42.000000</td>\n",
              "      <td>30.000000</td>\n",
              "      <td>1.000000</td>\n",
              "    </tr>\n",
              "    <tr>\n",
              "      <th>75%</th>\n",
              "      <td>137.000000</td>\n",
              "      <td>52.000000</td>\n",
              "      <td>43.000000</td>\n",
              "      <td>2.000000</td>\n",
              "    </tr>\n",
              "    <tr>\n",
              "      <th>max</th>\n",
              "      <td>161.000000</td>\n",
              "      <td>97.000000</td>\n",
              "      <td>99.000000</td>\n",
              "      <td>2.000000</td>\n",
              "    </tr>\n",
              "  </tbody>\n",
              "</table>\n",
              "</div>"
            ],
            "text/plain": [
              "            speed         age       miles       group\n",
              "count  300.000000  300.000000  300.000000  300.000000\n",
              "mean   122.963333   44.000000   31.133333    1.000000\n",
              "std     17.135170   16.312992   15.568885    0.817861\n",
              "min     85.000000   16.000000    1.000000    0.000000\n",
              "25%    109.750000   33.000000   18.000000    0.000000\n",
              "50%    121.000000   42.000000   30.000000    1.000000\n",
              "75%    137.000000   52.000000   43.000000    2.000000\n",
              "max    161.000000   97.000000   99.000000    2.000000"
            ]
          },
          "metadata": {
            "tags": []
          },
          "execution_count": 5
        }
      ]
    },
    {
      "metadata": {
        "id": "s4paNFSLL4QS",
        "colab_type": "text"
      },
      "cell_type": "markdown",
      "source": [
        "## A quick interactive overview"
      ]
    },
    {
      "metadata": {
        "id": "pLdQSiWDL4QT",
        "colab_type": "code",
        "colab": {
          "base_uri": "https://localhost:8080/",
          "height": 389
        },
        "outputId": "9908f647-f403-4571-a63b-206cb07eaadc"
      },
      "cell_type": "code",
      "source": [
        "alt.Chart(customers).mark_point().encode(\n",
        "    x='age', \n",
        "    y='speed', \n",
        "    color='group')"
      ],
      "execution_count": 8,
      "outputs": [
        {
          "output_type": "execute_result",
          "data": {
            "text/plain": [
              "Chart({\n",
              "  data:      speed   age  miles  group\n",
              "  0    117.0  41.0    5.0      1\n",
              "  1    108.0  18.0   15.0      1\n",
              "  2    107.0  28.0   14.0      2\n",
              "  3    111.0  43.0   62.0      2\n",
              "  4    129.0  36.0   42.0      0\n",
              "  5    144.0  39.0   43.0      1\n",
              "  6    150.0  39.0   51.0      0\n",
              "  7    147.0  33.0   36.0      1\n",
              "  8    123.0  74.0   21.0      0\n",
              "  9    101.0  45.0   26.0      1\n",
              "  10   112.0  18.0   38.0      0\n",
              "  11   106.0  86.0   19.0      0\n",
              "  12   108.0  36.0   33.0      0\n",
              "  13   138.0  43.0   38.0      1\n",
              "  14   151.0  27.0   43.0      0\n",
              "  15   115.0  60.0   34.0      1\n",
              "  16   122.0  36.0   27.0      1\n",
              "  17   107.0  37.0    4.0      1\n",
              "  18   115.0  33.0   59.0      2\n",
              "  19   108.0  43.0   17.0      1\n",
              "  20   105.0  70.0   48.0      2\n",
              "  21   147.0  33.0   54.0      0\n",
              "  22   111.0  23.0   13.0      2\n",
              "  23   121.0  22.0   44.0      0\n",
              "  24    97.0  55.0   45.0      1\n",
              "  25   135.0  30.0   57.0      2\n",
              "  26   110.0  51.0   47.0      1\n",
              "  27   112.0  53.0   19.0      1\n",
              "  28   124.0  56.0   18.0      2\n",
              "  29   130.0  75.0   47.0      2\n",
              "  ..     ...   ...    ...    ...\n",
              "  270  141.0  49.0   33.0      1\n",
              "  271  109.0  28.0   13.0      2\n",
              "  272   92.0  33.0   24.0      2\n",
              "  273  139.0  49.0   29.0      1\n",
              "  274  131.0  40.0   15.0      1\n",
              "  275  139.0  52.0   43.0      2\n",
              "  276  141.0  43.0   36.0      1\n",
              "  277   95.0  20.0   11.0      2\n",
              "  278  112.0  49.0    8.0      1\n",
              "  279  106.0  34.0   16.0      1\n",
              "  280  123.0  48.0   49.0      1\n",
              "  281  106.0  38.0   12.0      2\n",
              "  282   97.0  23.0   16.0      2\n",
              "  283  121.0  97.0    1.0      2\n",
              "  284  114.0  20.0   45.0      0\n",
              "  285  150.0  49.0   38.0      1\n",
              "  286  108.0  52.0    1.0      1\n",
              "  287  151.0  28.0   51.0      0\n",
              "  288  113.0  30.0   22.0      1\n",
              "  289  113.0  72.0   23.0      0\n",
              "  290  114.0  32.0   29.0      0\n",
              "  291  124.0  43.0   22.0      1\n",
              "  292  151.0  27.0   45.0      0\n",
              "  293  119.0  50.0    1.0      1\n",
              "  294   98.0  30.0   18.0      2\n",
              "  295  146.0  38.0   45.0      0\n",
              "  296  107.0  67.0   17.0      2\n",
              "  297  111.0  41.0   21.0      1\n",
              "  298  123.0  58.0   57.0      2\n",
              "  299  136.0  33.0   24.0      2\n",
              "  \n",
              "  [300 rows x 4 columns],\n",
              "  encoding: EncodingWithFacet({\n",
              "    color: Color({\n",
              "      shorthand: 'group'\n",
              "    }),\n",
              "    x: X({\n",
              "      shorthand: 'age'\n",
              "    }),\n",
              "    y: Y({\n",
              "      shorthand: 'speed'\n",
              "    })\n",
              "  }),\n",
              "  mark: 'point'\n",
              "})"
            ],
            "text/html": [
              "\n",
              "<!DOCTYPE html>\n",
              "<html>\n",
              "<head>\n",
              "  <style>\n",
              "    .vega-actions a {\n",
              "        margin-right: 12px;\n",
              "        color: #757575;\n",
              "        font-weight: normal;\n",
              "        font-size: 13px;\n",
              "    }\n",
              "    .error {\n",
              "        color: red;\n",
              "    }\n",
              "  </style>\n",
              "\n",
              "<script src=\"https://cdn.jsdelivr.net/npm//vega@3.3.1\"></script>\n",
              "<script src=\"https://cdn.jsdelivr.net/npm//vega-lite@2.6.0\"></script>\n",
              "<script src=\"https://cdn.jsdelivr.net/npm//vega-embed@3.14\"></script>\n",
              "\n",
              "</head>\n",
              "<body>\n",
              "  <div id=\"vis\"></div>\n",
              "  <script type=\"text/javascript\">\n",
              "    var spec = {\"config\": {\"view\": {\"width\": 400, \"height\": 300}}, \"data\": {\"name\": \"data-f3a01ff541b8fd8c9fafb83db7173e6d\"}, \"mark\": \"point\", \"encoding\": {\"color\": {\"type\": \"quantitative\", \"field\": \"group\"}, \"x\": {\"type\": \"quantitative\", \"field\": \"age\"}, \"y\": {\"type\": \"quantitative\", \"field\": \"speed\"}}, \"$schema\": \"https://vega.github.io/schema/vega-lite/v2.6.0.json\", \"datasets\": {\"data-f3a01ff541b8fd8c9fafb83db7173e6d\": [{\"speed\": 117.0, \"age\": 41.0, \"miles\": 5.0, \"group\": 1}, {\"speed\": 108.0, \"age\": 18.0, \"miles\": 15.0, \"group\": 1}, {\"speed\": 107.0, \"age\": 28.0, \"miles\": 14.0, \"group\": 2}, {\"speed\": 111.0, \"age\": 43.0, \"miles\": 62.0, \"group\": 2}, {\"speed\": 129.0, \"age\": 36.0, \"miles\": 42.0, \"group\": 0}, {\"speed\": 144.0, \"age\": 39.0, \"miles\": 43.0, \"group\": 1}, {\"speed\": 150.0, \"age\": 39.0, \"miles\": 51.0, \"group\": 0}, {\"speed\": 147.0, \"age\": 33.0, \"miles\": 36.0, \"group\": 1}, {\"speed\": 123.0, \"age\": 74.0, \"miles\": 21.0, \"group\": 0}, {\"speed\": 101.0, \"age\": 45.0, \"miles\": 26.0, \"group\": 1}, {\"speed\": 112.0, \"age\": 18.0, \"miles\": 38.0, \"group\": 0}, {\"speed\": 106.0, \"age\": 86.0, \"miles\": 19.0, \"group\": 0}, {\"speed\": 108.0, \"age\": 36.0, \"miles\": 33.0, \"group\": 0}, {\"speed\": 138.0, \"age\": 43.0, \"miles\": 38.0, \"group\": 1}, {\"speed\": 151.0, \"age\": 27.0, \"miles\": 43.0, \"group\": 0}, {\"speed\": 115.0, \"age\": 60.0, \"miles\": 34.0, \"group\": 1}, {\"speed\": 122.0, \"age\": 36.0, \"miles\": 27.0, \"group\": 1}, {\"speed\": 107.0, \"age\": 37.0, \"miles\": 4.0, \"group\": 1}, {\"speed\": 115.0, \"age\": 33.0, \"miles\": 59.0, \"group\": 2}, {\"speed\": 108.0, \"age\": 43.0, \"miles\": 17.0, \"group\": 1}, {\"speed\": 105.0, \"age\": 70.0, \"miles\": 48.0, \"group\": 2}, {\"speed\": 147.0, \"age\": 33.0, \"miles\": 54.0, \"group\": 0}, {\"speed\": 111.0, \"age\": 23.0, \"miles\": 13.0, \"group\": 2}, {\"speed\": 121.0, \"age\": 22.0, \"miles\": 44.0, \"group\": 0}, {\"speed\": 97.0, \"age\": 55.0, \"miles\": 45.0, \"group\": 1}, {\"speed\": 135.0, \"age\": 30.0, \"miles\": 57.0, \"group\": 2}, {\"speed\": 110.0, \"age\": 51.0, \"miles\": 47.0, \"group\": 1}, {\"speed\": 112.0, \"age\": 53.0, \"miles\": 19.0, \"group\": 1}, {\"speed\": 124.0, \"age\": 56.0, \"miles\": 18.0, \"group\": 2}, {\"speed\": 130.0, \"age\": 75.0, \"miles\": 47.0, \"group\": 2}, {\"speed\": 121.0, \"age\": 52.0, \"miles\": 33.0, \"group\": 2}, {\"speed\": 113.0, \"age\": 42.0, \"miles\": 26.0, \"group\": 1}, {\"speed\": 112.0, \"age\": 65.0, \"miles\": 29.0, \"group\": 0}, {\"speed\": 85.0, \"age\": 52.0, \"miles\": 41.0, \"group\": 2}, {\"speed\": 134.0, \"age\": 29.0, \"miles\": 29.0, \"group\": 2}, {\"speed\": 115.0, \"age\": 83.0, \"miles\": 19.0, \"group\": 0}, {\"speed\": 131.0, \"age\": 37.0, \"miles\": 40.0, \"group\": 1}, {\"speed\": 99.0, \"age\": 60.0, \"miles\": 32.0, \"group\": 1}, {\"speed\": 149.0, \"age\": 29.0, \"miles\": 48.0, \"group\": 0}, {\"speed\": 114.0, \"age\": 67.0, \"miles\": 27.0, \"group\": 1}, {\"speed\": 146.0, \"age\": 29.0, \"miles\": 51.0, \"group\": 2}, {\"speed\": 121.0, \"age\": 45.0, \"miles\": 18.0, \"group\": 0}, {\"speed\": 132.0, \"age\": 83.0, \"miles\": 37.0, \"group\": 0}, {\"speed\": 132.0, \"age\": 82.0, \"miles\": 19.0, \"group\": 0}, {\"speed\": 115.0, \"age\": 58.0, \"miles\": 16.0, \"group\": 0}, {\"speed\": 112.0, \"age\": 39.0, \"miles\": 27.0, \"group\": 1}, {\"speed\": 121.0, \"age\": 35.0, \"miles\": 36.0, \"group\": 0}, {\"speed\": 95.0, \"age\": 38.0, \"miles\": 39.0, \"group\": 2}, {\"speed\": 149.0, \"age\": 36.0, \"miles\": 54.0, \"group\": 0}, {\"speed\": 138.0, \"age\": 50.0, \"miles\": 37.0, \"group\": 1}, {\"speed\": 150.0, \"age\": 39.0, \"miles\": 47.0, \"group\": 0}, {\"speed\": 135.0, \"age\": 28.0, \"miles\": 35.0, \"group\": 0}, {\"speed\": 151.0, \"age\": 33.0, \"miles\": 52.0, \"group\": 0}, {\"speed\": 114.0, \"age\": 76.0, \"miles\": 23.0, \"group\": 0}, {\"speed\": 158.0, \"age\": 74.0, \"miles\": 3.0, \"group\": 2}, {\"speed\": 108.0, \"age\": 46.0, \"miles\": 30.0, \"group\": 1}, {\"speed\": 120.0, \"age\": 75.0, \"miles\": 16.0, \"group\": 0}, {\"speed\": 138.0, \"age\": 69.0, \"miles\": 13.0, \"group\": 0}, {\"speed\": 121.0, \"age\": 41.0, \"miles\": 31.0, \"group\": 0}, {\"speed\": 129.0, \"age\": 43.0, \"miles\": 50.0, \"group\": 2}, {\"speed\": 114.0, \"age\": 42.0, \"miles\": 9.0, \"group\": 1}, {\"speed\": 107.0, \"age\": 43.0, \"miles\": 24.0, \"group\": 1}, {\"speed\": 97.0, \"age\": 22.0, \"miles\": 12.0, \"group\": 2}, {\"speed\": 152.0, \"age\": 33.0, \"miles\": 49.0, \"group\": 0}, {\"speed\": 151.0, \"age\": 41.0, \"miles\": 48.0, \"group\": 0}, {\"speed\": 127.0, \"age\": 82.0, \"miles\": 30.0, \"group\": 0}, {\"speed\": 112.0, \"age\": 57.0, \"miles\": 25.0, \"group\": 1}, {\"speed\": 114.0, \"age\": 57.0, \"miles\": 42.0, \"group\": 1}, {\"speed\": 100.0, \"age\": 26.0, \"miles\": 23.0, \"group\": 2}, {\"speed\": 113.0, \"age\": 57.0, \"miles\": 42.0, \"group\": 2}, {\"speed\": 99.0, \"age\": 16.0, \"miles\": 42.0, \"group\": 0}, {\"speed\": 129.0, \"age\": 64.0, \"miles\": 99.0, \"group\": 2}, {\"speed\": 122.0, \"age\": 75.0, \"miles\": 21.0, \"group\": 0}, {\"speed\": 112.0, \"age\": 53.0, \"miles\": 19.0, \"group\": 1}, {\"speed\": 120.0, \"age\": 68.0, \"miles\": 21.0, \"group\": 0}, {\"speed\": 141.0, \"age\": 45.0, \"miles\": 39.0, \"group\": 1}, {\"speed\": 101.0, \"age\": 36.0, \"miles\": 19.0, \"group\": 1}, {\"speed\": 125.0, \"age\": 68.0, \"miles\": 37.0, \"group\": 0}, {\"speed\": 128.0, \"age\": 69.0, \"miles\": 13.0, \"group\": 2}, {\"speed\": 120.0, \"age\": 43.0, \"miles\": 34.0, \"group\": 1}, {\"speed\": 154.0, \"age\": 39.0, \"miles\": 47.0, \"group\": 0}, {\"speed\": 119.0, \"age\": 39.0, \"miles\": 21.0, \"group\": 0}, {\"speed\": 135.0, \"age\": 43.0, \"miles\": 42.0, \"group\": 1}, {\"speed\": 97.0, \"age\": 26.0, \"miles\": 15.0, \"group\": 2}, {\"speed\": 133.0, \"age\": 35.0, \"miles\": 32.0, \"group\": 2}, {\"speed\": 138.0, \"age\": 47.0, \"miles\": 42.0, \"group\": 1}, {\"speed\": 118.0, \"age\": 36.0, \"miles\": 37.0, \"group\": 0}, {\"speed\": 126.0, \"age\": 70.0, \"miles\": 41.0, \"group\": 2}, {\"speed\": 151.0, \"age\": 38.0, \"miles\": 51.0, \"group\": 0}, {\"speed\": 161.0, \"age\": 49.0, \"miles\": 59.0, \"group\": 2}, {\"speed\": 99.0, \"age\": 21.0, \"miles\": 8.0, \"group\": 2}, {\"speed\": 156.0, \"age\": 38.0, \"miles\": 48.0, \"group\": 0}, {\"speed\": 140.0, \"age\": 56.0, \"miles\": 44.0, \"group\": 2}, {\"speed\": 100.0, \"age\": 46.0, \"miles\": 13.0, \"group\": 1}, {\"speed\": 119.0, \"age\": 38.0, \"miles\": 6.0, \"group\": 1}, {\"speed\": 122.0, \"age\": 71.0, \"miles\": 16.0, \"group\": 0}, {\"speed\": 136.0, \"age\": 53.0, \"miles\": 57.0, \"group\": 2}, {\"speed\": 130.0, \"age\": 54.0, \"miles\": 39.0, \"group\": 2}, {\"speed\": 102.0, \"age\": 28.0, \"miles\": 25.0, \"group\": 2}, {\"speed\": 98.0, \"age\": 23.0, \"miles\": 16.0, \"group\": 2}, {\"speed\": 132.0, \"age\": 34.0, \"miles\": 50.0, \"group\": 2}, {\"speed\": 111.0, \"age\": 36.0, \"miles\": 40.0, \"group\": 0}, {\"speed\": 136.0, \"age\": 45.0, \"miles\": 36.0, \"group\": 1}, {\"speed\": 114.0, \"age\": 48.0, \"miles\": 31.0, \"group\": 1}, {\"speed\": 110.0, \"age\": 16.0, \"miles\": 41.0, \"group\": 0}, {\"speed\": 97.0, \"age\": 28.0, \"miles\": 16.0, \"group\": 2}, {\"speed\": 122.0, \"age\": 50.0, \"miles\": 66.0, \"group\": 2}, {\"speed\": 97.0, \"age\": 21.0, \"miles\": 17.0, \"group\": 2}, {\"speed\": 104.0, \"age\": 19.0, \"miles\": 12.0, \"group\": 0}, {\"speed\": 140.0, \"age\": 53.0, \"miles\": 42.0, \"group\": 1}, {\"speed\": 143.0, \"age\": 40.0, \"miles\": 40.0, \"group\": 1}, {\"speed\": 109.0, \"age\": 48.0, \"miles\": 30.0, \"group\": 0}, {\"speed\": 141.0, \"age\": 40.0, \"miles\": 43.0, \"group\": 1}, {\"speed\": 106.0, \"age\": 51.0, \"miles\": 21.0, \"group\": 2}, {\"speed\": 137.0, \"age\": 17.0, \"miles\": 35.0, \"group\": 0}, {\"speed\": 137.0, \"age\": 43.0, \"miles\": 37.0, \"group\": 1}, {\"speed\": 100.0, \"age\": 37.0, \"miles\": 28.0, \"group\": 1}, {\"speed\": 111.0, \"age\": 40.0, \"miles\": 28.0, \"group\": 1}, {\"speed\": 116.0, \"age\": 42.0, \"miles\": 15.0, \"group\": 1}, {\"speed\": 137.0, \"age\": 35.0, \"miles\": 66.0, \"group\": 2}, {\"speed\": 118.0, \"age\": 73.0, \"miles\": 29.0, \"group\": 0}, {\"speed\": 112.0, \"age\": 57.0, \"miles\": 14.0, \"group\": 1}, {\"speed\": 105.0, \"age\": 36.0, \"miles\": 26.0, \"group\": 1}, {\"speed\": 130.0, \"age\": 63.0, \"miles\": 46.0, \"group\": 2}, {\"speed\": 120.0, \"age\": 80.0, \"miles\": 18.0, \"group\": 0}, {\"speed\": 111.0, \"age\": 44.0, \"miles\": 45.0, \"group\": 2}, {\"speed\": 107.0, \"age\": 32.0, \"miles\": 2.0, \"group\": 1}, {\"speed\": 115.0, \"age\": 68.0, \"miles\": 22.0, \"group\": 0}, {\"speed\": 132.0, \"age\": 45.0, \"miles\": 34.0, \"group\": 1}, {\"speed\": 94.0, \"age\": 47.0, \"miles\": 32.0, \"group\": 2}, {\"speed\": 135.0, \"age\": 84.0, \"miles\": 16.0, \"group\": 0}, {\"speed\": 130.0, \"age\": 70.0, \"miles\": 24.0, \"group\": 0}, {\"speed\": 122.0, \"age\": 33.0, \"miles\": 26.0, \"group\": 2}, {\"speed\": 103.0, \"age\": 31.0, \"miles\": 19.0, \"group\": 2}, {\"speed\": 112.0, \"age\": 25.0, \"miles\": 20.0, \"group\": 0}, {\"speed\": 156.0, \"age\": 34.0, \"miles\": 49.0, \"group\": 0}, {\"speed\": 125.0, \"age\": 44.0, \"miles\": 26.0, \"group\": 2}, {\"speed\": 95.0, \"age\": 30.0, \"miles\": 14.0, \"group\": 2}, {\"speed\": 111.0, \"age\": 78.0, \"miles\": 17.0, \"group\": 2}, {\"speed\": 116.0, \"age\": 41.0, \"miles\": 32.0, \"group\": 1}, {\"speed\": 123.0, \"age\": 43.0, \"miles\": 45.0, \"group\": 2}, {\"speed\": 115.0, \"age\": 45.0, \"miles\": 13.0, \"group\": 1}, {\"speed\": 124.0, \"age\": 87.0, \"miles\": 19.0, \"group\": 0}, {\"speed\": 140.0, \"age\": 56.0, \"miles\": 11.0, \"group\": 2}, {\"speed\": 117.0, \"age\": 42.0, \"miles\": 38.0, \"group\": 1}, {\"speed\": 110.0, \"age\": 55.0, \"miles\": 47.0, \"group\": 2}, {\"speed\": 125.0, \"age\": 25.0, \"miles\": 23.0, \"group\": 0}, {\"speed\": 126.0, \"age\": 20.0, \"miles\": 29.0, \"group\": 0}, {\"speed\": 131.0, \"age\": 55.0, \"miles\": 32.0, \"group\": 2}, {\"speed\": 137.0, \"age\": 31.0, \"miles\": 36.0, \"group\": 2}, {\"speed\": 100.0, \"age\": 54.0, \"miles\": 17.0, \"group\": 1}, {\"speed\": 148.0, \"age\": 42.0, \"miles\": 50.0, \"group\": 0}, {\"speed\": 109.0, \"age\": 36.0, \"miles\": 23.0, \"group\": 1}, {\"speed\": 149.0, \"age\": 33.0, \"miles\": 68.0, \"group\": 2}, {\"speed\": 126.0, \"age\": 80.0, \"miles\": 25.0, \"group\": 0}, {\"speed\": 101.0, \"age\": 31.0, \"miles\": 11.0, \"group\": 2}, {\"speed\": 119.0, \"age\": 21.0, \"miles\": 16.0, \"group\": 0}, {\"speed\": 96.0, \"age\": 52.0, \"miles\": 14.0, \"group\": 1}, {\"speed\": 110.0, \"age\": 42.0, \"miles\": 14.0, \"group\": 1}, {\"speed\": 121.0, \"age\": 43.0, \"miles\": 30.0, \"group\": 1}, {\"speed\": 144.0, \"age\": 40.0, \"miles\": 44.0, \"group\": 1}, {\"speed\": 123.0, \"age\": 23.0, \"miles\": 44.0, \"group\": 0}, {\"speed\": 146.0, \"age\": 47.0, \"miles\": 38.0, \"group\": 1}, {\"speed\": 119.0, \"age\": 16.0, \"miles\": 12.0, \"group\": 2}, {\"speed\": 107.0, \"age\": 33.0, \"miles\": 12.0, \"group\": 2}, {\"speed\": 114.0, \"age\": 73.0, \"miles\": 22.0, \"group\": 0}, {\"speed\": 114.0, \"age\": 49.0, \"miles\": 17.0, \"group\": 1}, {\"speed\": 107.0, \"age\": 49.0, \"miles\": 6.0, \"group\": 1}, {\"speed\": 148.0, \"age\": 35.0, \"miles\": 45.0, \"group\": 0}, {\"speed\": 143.0, \"age\": 39.0, \"miles\": 77.0, \"group\": 2}, {\"speed\": 102.0, \"age\": 26.0, \"miles\": 17.0, \"group\": 2}, {\"speed\": 101.0, \"age\": 29.0, \"miles\": 15.0, \"group\": 2}, {\"speed\": 119.0, \"age\": 21.0, \"miles\": 25.0, \"group\": 0}, {\"speed\": 98.0, \"age\": 24.0, \"miles\": 8.0, \"group\": 2}, {\"speed\": 96.0, \"age\": 25.0, \"miles\": 24.0, \"group\": 2}, {\"speed\": 120.0, \"age\": 16.0, \"miles\": 29.0, \"group\": 0}, {\"speed\": 143.0, \"age\": 44.0, \"miles\": 42.0, \"group\": 1}, {\"speed\": 123.0, \"age\": 81.0, \"miles\": 17.0, \"group\": 0}, {\"speed\": 99.0, \"age\": 23.0, \"miles\": 22.0, \"group\": 2}, {\"speed\": 145.0, \"age\": 42.0, \"miles\": 39.0, \"group\": 1}, {\"speed\": 135.0, \"age\": 42.0, \"miles\": 44.0, \"group\": 1}, {\"speed\": 135.0, \"age\": 36.0, \"miles\": 38.0, \"group\": 1}, {\"speed\": 97.0, \"age\": 25.0, \"miles\": 13.0, \"group\": 2}, {\"speed\": 98.0, \"age\": 55.0, \"miles\": 28.0, \"group\": 1}, {\"speed\": 130.0, \"age\": 50.0, \"miles\": 56.0, \"group\": 2}, {\"speed\": 115.0, \"age\": 43.0, \"miles\": 45.0, \"group\": 2}, {\"speed\": 122.0, \"age\": 72.0, \"miles\": 53.0, \"group\": 2}, {\"speed\": 149.0, \"age\": 35.0, \"miles\": 44.0, \"group\": 0}, {\"speed\": 127.0, \"age\": 54.0, \"miles\": 14.0, \"group\": 1}, {\"speed\": 124.0, \"age\": 44.0, \"miles\": 31.0, \"group\": 2}, {\"speed\": 118.0, \"age\": 36.0, \"miles\": 44.0, \"group\": 0}, {\"speed\": 136.0, \"age\": 41.0, \"miles\": 47.0, \"group\": 2}, {\"speed\": 100.0, \"age\": 28.0, \"miles\": 9.0, \"group\": 2}, {\"speed\": 132.0, \"age\": 49.0, \"miles\": 44.0, \"group\": 2}, {\"speed\": 137.0, \"age\": 57.0, \"miles\": 58.0, \"group\": 2}, {\"speed\": 112.0, \"age\": 31.0, \"miles\": 35.0, \"group\": 1}, {\"speed\": 148.0, \"age\": 32.0, \"miles\": 52.0, \"group\": 0}, {\"speed\": 101.0, \"age\": 30.0, \"miles\": 8.0, \"group\": 2}, {\"speed\": 147.0, \"age\": 36.0, \"miles\": 56.0, \"group\": 0}, {\"speed\": 150.0, \"age\": 41.0, \"miles\": 40.0, \"group\": 0}, {\"speed\": 96.0, \"age\": 46.0, \"miles\": 33.0, \"group\": 1}, {\"speed\": 97.0, \"age\": 31.0, \"miles\": 22.0, \"group\": 2}, {\"speed\": 146.0, \"age\": 43.0, \"miles\": 30.0, \"group\": 1}, {\"speed\": 122.0, \"age\": 23.0, \"miles\": 17.0, \"group\": 0}, {\"speed\": 132.0, \"age\": 46.0, \"miles\": 44.0, \"group\": 2}, {\"speed\": 125.0, \"age\": 21.0, \"miles\": 28.0, \"group\": 0}, {\"speed\": 114.0, \"age\": 75.0, \"miles\": 24.0, \"group\": 0}, {\"speed\": 136.0, \"age\": 52.0, \"miles\": 35.0, \"group\": 2}, {\"speed\": 152.0, \"age\": 34.0, \"miles\": 53.0, \"group\": 0}, {\"speed\": 113.0, \"age\": 79.0, \"miles\": 9.0, \"group\": 0}, {\"speed\": 144.0, \"age\": 41.0, \"miles\": 40.0, \"group\": 1}, {\"speed\": 146.0, \"age\": 46.0, \"miles\": 42.0, \"group\": 1}, {\"speed\": 105.0, \"age\": 30.0, \"miles\": 33.0, \"group\": 0}, {\"speed\": 148.0, \"age\": 31.0, \"miles\": 51.0, \"group\": 0}, {\"speed\": 107.0, \"age\": 46.0, \"miles\": 19.0, \"group\": 1}, {\"speed\": 142.0, \"age\": 43.0, \"miles\": 41.0, \"group\": 1}, {\"speed\": 105.0, \"age\": 45.0, \"miles\": 43.0, \"group\": 2}, {\"speed\": 114.0, \"age\": 55.0, \"miles\": 26.0, \"group\": 1}, {\"speed\": 117.0, \"age\": 39.0, \"miles\": 27.0, \"group\": 1}, {\"speed\": 148.0, \"age\": 34.0, \"miles\": 46.0, \"group\": 0}, {\"speed\": 105.0, \"age\": 36.0, \"miles\": 15.0, \"group\": 1}, {\"speed\": 120.0, \"age\": 37.0, \"miles\": 38.0, \"group\": 2}, {\"speed\": 137.0, \"age\": 45.0, \"miles\": 39.0, \"group\": 1}, {\"speed\": 114.0, \"age\": 82.0, \"miles\": 21.0, \"group\": 0}, {\"speed\": 106.0, \"age\": 53.0, \"miles\": 39.0, \"group\": 2}, {\"speed\": 143.0, \"age\": 56.0, \"miles\": 41.0, \"group\": 1}, {\"speed\": 150.0, \"age\": 27.0, \"miles\": 49.0, \"group\": 0}, {\"speed\": 138.0, \"age\": 43.0, \"miles\": 46.0, \"group\": 2}, {\"speed\": 98.0, \"age\": 31.0, \"miles\": 11.0, \"group\": 2}, {\"speed\": 127.0, \"age\": 32.0, \"miles\": 47.0, \"group\": 2}, {\"speed\": 103.0, \"age\": 30.0, \"miles\": 21.0, \"group\": 2}, {\"speed\": 143.0, \"age\": 50.0, \"miles\": 53.0, \"group\": 2}, {\"speed\": 135.0, \"age\": 83.0, \"miles\": 15.0, \"group\": 0}, {\"speed\": 149.0, \"age\": 33.0, \"miles\": 44.0, \"group\": 0}, {\"speed\": 122.0, \"age\": 63.0, \"miles\": 9.0, \"group\": 0}, {\"speed\": 132.0, \"age\": 26.0, \"miles\": 22.0, \"group\": 2}, {\"speed\": 115.0, \"age\": 25.0, \"miles\": 28.0, \"group\": 0}, {\"speed\": 150.0, \"age\": 62.0, \"miles\": 23.0, \"group\": 2}, {\"speed\": 120.0, \"age\": 67.0, \"miles\": 20.0, \"group\": 0}, {\"speed\": 150.0, \"age\": 34.0, \"miles\": 44.0, \"group\": 0}, {\"speed\": 108.0, \"age\": 53.0, \"miles\": 25.0, \"group\": 1}, {\"speed\": 101.0, \"age\": 37.0, \"miles\": 12.0, \"group\": 2}, {\"speed\": 139.0, \"age\": 46.0, \"miles\": 28.0, \"group\": 0}, {\"speed\": 126.0, \"age\": 43.0, \"miles\": 46.0, \"group\": 2}, {\"speed\": 123.0, \"age\": 36.0, \"miles\": 7.0, \"group\": 1}, {\"speed\": 152.0, \"age\": 33.0, \"miles\": 48.0, \"group\": 0}, {\"speed\": 127.0, \"age\": 49.0, \"miles\": 52.0, \"group\": 2}, {\"speed\": 121.0, \"age\": 43.0, \"miles\": 28.0, \"group\": 2}, {\"speed\": 144.0, \"age\": 37.0, \"miles\": 43.0, \"group\": 1}, {\"speed\": 104.0, \"age\": 31.0, \"miles\": 29.0, \"group\": 1}, {\"speed\": 153.0, \"age\": 35.0, \"miles\": 49.0, \"group\": 0}, {\"speed\": 108.0, \"age\": 28.0, \"miles\": 13.0, \"group\": 1}, {\"speed\": 103.0, \"age\": 49.0, \"miles\": 28.0, \"group\": 1}, {\"speed\": 104.0, \"age\": 30.0, \"miles\": 1.0, \"group\": 1}, {\"speed\": 137.0, \"age\": 45.0, \"miles\": 36.0, \"group\": 1}, {\"speed\": 123.0, \"age\": 58.0, \"miles\": 40.0, \"group\": 0}, {\"speed\": 159.0, \"age\": 66.0, \"miles\": 1.0, \"group\": 2}, {\"speed\": 130.0, \"age\": 62.0, \"miles\": 15.0, \"group\": 0}, {\"speed\": 151.0, \"age\": 36.0, \"miles\": 50.0, \"group\": 0}, {\"speed\": 147.0, \"age\": 33.0, \"miles\": 54.0, \"group\": 0}, {\"speed\": 146.0, \"age\": 29.0, \"miles\": 56.0, \"group\": 0}, {\"speed\": 117.0, \"age\": 50.0, \"miles\": 21.0, \"group\": 1}, {\"speed\": 119.0, \"age\": 34.0, \"miles\": 33.0, \"group\": 2}, {\"speed\": 128.0, \"age\": 30.0, \"miles\": 43.0, \"group\": 0}, {\"speed\": 122.0, \"age\": 45.0, \"miles\": 15.0, \"group\": 1}, {\"speed\": 137.0, \"age\": 48.0, \"miles\": 36.0, \"group\": 1}, {\"speed\": 105.0, \"age\": 22.0, \"miles\": 22.0, \"group\": 2}, {\"speed\": 109.0, \"age\": 40.0, \"miles\": 24.0, \"group\": 1}, {\"speed\": 118.0, \"age\": 78.0, \"miles\": 13.0, \"group\": 0}, {\"speed\": 145.0, \"age\": 38.0, \"miles\": 55.0, \"group\": 0}, {\"speed\": 141.0, \"age\": 49.0, \"miles\": 33.0, \"group\": 1}, {\"speed\": 109.0, \"age\": 28.0, \"miles\": 13.0, \"group\": 2}, {\"speed\": 92.0, \"age\": 33.0, \"miles\": 24.0, \"group\": 2}, {\"speed\": 139.0, \"age\": 49.0, \"miles\": 29.0, \"group\": 1}, {\"speed\": 131.0, \"age\": 40.0, \"miles\": 15.0, \"group\": 1}, {\"speed\": 139.0, \"age\": 52.0, \"miles\": 43.0, \"group\": 2}, {\"speed\": 141.0, \"age\": 43.0, \"miles\": 36.0, \"group\": 1}, {\"speed\": 95.0, \"age\": 20.0, \"miles\": 11.0, \"group\": 2}, {\"speed\": 112.0, \"age\": 49.0, \"miles\": 8.0, \"group\": 1}, {\"speed\": 106.0, \"age\": 34.0, \"miles\": 16.0, \"group\": 1}, {\"speed\": 123.0, \"age\": 48.0, \"miles\": 49.0, \"group\": 1}, {\"speed\": 106.0, \"age\": 38.0, \"miles\": 12.0, \"group\": 2}, {\"speed\": 97.0, \"age\": 23.0, \"miles\": 16.0, \"group\": 2}, {\"speed\": 121.0, \"age\": 97.0, \"miles\": 1.0, \"group\": 2}, {\"speed\": 114.0, \"age\": 20.0, \"miles\": 45.0, \"group\": 0}, {\"speed\": 150.0, \"age\": 49.0, \"miles\": 38.0, \"group\": 1}, {\"speed\": 108.0, \"age\": 52.0, \"miles\": 1.0, \"group\": 1}, {\"speed\": 151.0, \"age\": 28.0, \"miles\": 51.0, \"group\": 0}, {\"speed\": 113.0, \"age\": 30.0, \"miles\": 22.0, \"group\": 1}, {\"speed\": 113.0, \"age\": 72.0, \"miles\": 23.0, \"group\": 0}, {\"speed\": 114.0, \"age\": 32.0, \"miles\": 29.0, \"group\": 0}, {\"speed\": 124.0, \"age\": 43.0, \"miles\": 22.0, \"group\": 1}, {\"speed\": 151.0, \"age\": 27.0, \"miles\": 45.0, \"group\": 0}, {\"speed\": 119.0, \"age\": 50.0, \"miles\": 1.0, \"group\": 1}, {\"speed\": 98.0, \"age\": 30.0, \"miles\": 18.0, \"group\": 2}, {\"speed\": 146.0, \"age\": 38.0, \"miles\": 45.0, \"group\": 0}, {\"speed\": 107.0, \"age\": 67.0, \"miles\": 17.0, \"group\": 2}, {\"speed\": 111.0, \"age\": 41.0, \"miles\": 21.0, \"group\": 1}, {\"speed\": 123.0, \"age\": 58.0, \"miles\": 57.0, \"group\": 2}, {\"speed\": 136.0, \"age\": 33.0, \"miles\": 24.0, \"group\": 2}]}};\n",
              "    var embed_opt = {\"mode\": \"vega-lite\"};\n",
              "\n",
              "    function showError(el, error){\n",
              "        el.innerHTML = ('<div class=\"error\">'\n",
              "                        + '<p>JavaScript Error: ' + error.message + '</p>'\n",
              "                        + \"<p>This usually means there's a typo in your chart specification. \"\n",
              "                        + \"See the javascript console for the full traceback.</p>\"\n",
              "                        + '</div>');\n",
              "        throw error;\n",
              "    }\n",
              "    const el = document.getElementById('vis');\n",
              "    vegaEmbed(\"#vis\", spec, embed_opt)\n",
              "      .catch(error => showError(el, error));\n",
              "  </script>\n",
              "</body>\n",
              "</html>\n"
            ]
          },
          "metadata": {
            "tags": []
          },
          "execution_count": 8
        }
      ]
    },
    {
      "metadata": {
        "id": "aXThHzi8L4QW",
        "colab_type": "text"
      },
      "cell_type": "markdown",
      "source": [
        "A bit more elaborateed"
      ]
    },
    {
      "metadata": {
        "id": "ageAEN63L4QX",
        "colab_type": "code",
        "colab": {
          "base_uri": "https://localhost:8080/",
          "height": 389
        },
        "outputId": "bc3a7dc1-c442-4236-c07e-62afc09557aa"
      },
      "cell_type": "code",
      "source": [
        "# https://altair-viz.github.io/user_guide/encoding.html\n",
        "# https://altair-viz.github.io/user_guide/customization.html\n",
        "\n",
        "alt.Chart(customers).mark_point().encode(\n",
        "    x='age',\n",
        "    y='speed',\n",
        "    shape='group',\n",
        "    color=alt.Color('group',\n",
        "          type='nominal',\n",
        "          legend=alt.Legend(title=\"Type of Driver by Color\"),\n",
        "          scale=alt.Scale(\n",
        "                      range=['red', 'green', 'yellow'])),\n",
        ").interactive()"
      ],
      "execution_count": 9,
      "outputs": [
        {
          "output_type": "execute_result",
          "data": {
            "text/plain": [
              "Chart({\n",
              "  data:      speed   age  miles  group\n",
              "  0    117.0  41.0    5.0      1\n",
              "  1    108.0  18.0   15.0      1\n",
              "  2    107.0  28.0   14.0      2\n",
              "  3    111.0  43.0   62.0      2\n",
              "  4    129.0  36.0   42.0      0\n",
              "  5    144.0  39.0   43.0      1\n",
              "  6    150.0  39.0   51.0      0\n",
              "  7    147.0  33.0   36.0      1\n",
              "  8    123.0  74.0   21.0      0\n",
              "  9    101.0  45.0   26.0      1\n",
              "  10   112.0  18.0   38.0      0\n",
              "  11   106.0  86.0   19.0      0\n",
              "  12   108.0  36.0   33.0      0\n",
              "  13   138.0  43.0   38.0      1\n",
              "  14   151.0  27.0   43.0      0\n",
              "  15   115.0  60.0   34.0      1\n",
              "  16   122.0  36.0   27.0      1\n",
              "  17   107.0  37.0    4.0      1\n",
              "  18   115.0  33.0   59.0      2\n",
              "  19   108.0  43.0   17.0      1\n",
              "  20   105.0  70.0   48.0      2\n",
              "  21   147.0  33.0   54.0      0\n",
              "  22   111.0  23.0   13.0      2\n",
              "  23   121.0  22.0   44.0      0\n",
              "  24    97.0  55.0   45.0      1\n",
              "  25   135.0  30.0   57.0      2\n",
              "  26   110.0  51.0   47.0      1\n",
              "  27   112.0  53.0   19.0      1\n",
              "  28   124.0  56.0   18.0      2\n",
              "  29   130.0  75.0   47.0      2\n",
              "  ..     ...   ...    ...    ...\n",
              "  270  141.0  49.0   33.0      1\n",
              "  271  109.0  28.0   13.0      2\n",
              "  272   92.0  33.0   24.0      2\n",
              "  273  139.0  49.0   29.0      1\n",
              "  274  131.0  40.0   15.0      1\n",
              "  275  139.0  52.0   43.0      2\n",
              "  276  141.0  43.0   36.0      1\n",
              "  277   95.0  20.0   11.0      2\n",
              "  278  112.0  49.0    8.0      1\n",
              "  279  106.0  34.0   16.0      1\n",
              "  280  123.0  48.0   49.0      1\n",
              "  281  106.0  38.0   12.0      2\n",
              "  282   97.0  23.0   16.0      2\n",
              "  283  121.0  97.0    1.0      2\n",
              "  284  114.0  20.0   45.0      0\n",
              "  285  150.0  49.0   38.0      1\n",
              "  286  108.0  52.0    1.0      1\n",
              "  287  151.0  28.0   51.0      0\n",
              "  288  113.0  30.0   22.0      1\n",
              "  289  113.0  72.0   23.0      0\n",
              "  290  114.0  32.0   29.0      0\n",
              "  291  124.0  43.0   22.0      1\n",
              "  292  151.0  27.0   45.0      0\n",
              "  293  119.0  50.0    1.0      1\n",
              "  294   98.0  30.0   18.0      2\n",
              "  295  146.0  38.0   45.0      0\n",
              "  296  107.0  67.0   17.0      2\n",
              "  297  111.0  41.0   21.0      1\n",
              "  298  123.0  58.0   57.0      2\n",
              "  299  136.0  33.0   24.0      2\n",
              "  \n",
              "  [300 rows x 4 columns],\n",
              "  encoding: EncodingWithFacet({\n",
              "    color: Color({\n",
              "      legend: Legend({\n",
              "        title: 'Type of Driver by Color'\n",
              "      }),\n",
              "      scale: Scale({\n",
              "        range: ['red', 'green', 'yellow']\n",
              "      }),\n",
              "      shorthand: 'group',\n",
              "      type: 'nominal'\n",
              "    }),\n",
              "    shape: Shape({\n",
              "      shorthand: 'group'\n",
              "    }),\n",
              "    x: X({\n",
              "      shorthand: 'age'\n",
              "    }),\n",
              "    y: Y({\n",
              "      shorthand: 'speed'\n",
              "    })\n",
              "  }),\n",
              "  mark: 'point',\n",
              "  selection: SelectionMapping({\n",
              "    selector001: SelectionDef({\n",
              "      bind: 'scales',\n",
              "      encodings: ['x', 'y'],\n",
              "      type: 'interval'\n",
              "    })\n",
              "  })\n",
              "})"
            ],
            "text/html": [
              "\n",
              "<!DOCTYPE html>\n",
              "<html>\n",
              "<head>\n",
              "  <style>\n",
              "    .vega-actions a {\n",
              "        margin-right: 12px;\n",
              "        color: #757575;\n",
              "        font-weight: normal;\n",
              "        font-size: 13px;\n",
              "    }\n",
              "    .error {\n",
              "        color: red;\n",
              "    }\n",
              "  </style>\n",
              "\n",
              "<script src=\"https://cdn.jsdelivr.net/npm//vega@3.3.1\"></script>\n",
              "<script src=\"https://cdn.jsdelivr.net/npm//vega-lite@2.6.0\"></script>\n",
              "<script src=\"https://cdn.jsdelivr.net/npm//vega-embed@3.14\"></script>\n",
              "\n",
              "</head>\n",
              "<body>\n",
              "  <div id=\"vis\"></div>\n",
              "  <script type=\"text/javascript\">\n",
              "    var spec = {\"config\": {\"view\": {\"width\": 400, \"height\": 300}}, \"data\": {\"name\": \"data-f3a01ff541b8fd8c9fafb83db7173e6d\"}, \"mark\": \"point\", \"encoding\": {\"color\": {\"type\": \"nominal\", \"field\": \"group\", \"legend\": {\"title\": \"Type of Driver by Color\"}, \"scale\": {\"range\": [\"red\", \"green\", \"yellow\"]}}, \"shape\": {\"type\": \"quantitative\", \"field\": \"group\"}, \"x\": {\"type\": \"quantitative\", \"field\": \"age\"}, \"y\": {\"type\": \"quantitative\", \"field\": \"speed\"}}, \"selection\": {\"selector001\": {\"type\": \"interval\", \"bind\": \"scales\", \"encodings\": [\"x\", \"y\"]}}, \"$schema\": \"https://vega.github.io/schema/vega-lite/v2.6.0.json\", \"datasets\": {\"data-f3a01ff541b8fd8c9fafb83db7173e6d\": [{\"speed\": 117.0, \"age\": 41.0, \"miles\": 5.0, \"group\": 1}, {\"speed\": 108.0, \"age\": 18.0, \"miles\": 15.0, \"group\": 1}, {\"speed\": 107.0, \"age\": 28.0, \"miles\": 14.0, \"group\": 2}, {\"speed\": 111.0, \"age\": 43.0, \"miles\": 62.0, \"group\": 2}, {\"speed\": 129.0, \"age\": 36.0, \"miles\": 42.0, \"group\": 0}, {\"speed\": 144.0, \"age\": 39.0, \"miles\": 43.0, \"group\": 1}, {\"speed\": 150.0, \"age\": 39.0, \"miles\": 51.0, \"group\": 0}, {\"speed\": 147.0, \"age\": 33.0, \"miles\": 36.0, \"group\": 1}, {\"speed\": 123.0, \"age\": 74.0, \"miles\": 21.0, \"group\": 0}, {\"speed\": 101.0, \"age\": 45.0, \"miles\": 26.0, \"group\": 1}, {\"speed\": 112.0, \"age\": 18.0, \"miles\": 38.0, \"group\": 0}, {\"speed\": 106.0, \"age\": 86.0, \"miles\": 19.0, \"group\": 0}, {\"speed\": 108.0, \"age\": 36.0, \"miles\": 33.0, \"group\": 0}, {\"speed\": 138.0, \"age\": 43.0, \"miles\": 38.0, \"group\": 1}, {\"speed\": 151.0, \"age\": 27.0, \"miles\": 43.0, \"group\": 0}, {\"speed\": 115.0, \"age\": 60.0, \"miles\": 34.0, \"group\": 1}, {\"speed\": 122.0, \"age\": 36.0, \"miles\": 27.0, \"group\": 1}, {\"speed\": 107.0, \"age\": 37.0, \"miles\": 4.0, \"group\": 1}, {\"speed\": 115.0, \"age\": 33.0, \"miles\": 59.0, \"group\": 2}, {\"speed\": 108.0, \"age\": 43.0, \"miles\": 17.0, \"group\": 1}, {\"speed\": 105.0, \"age\": 70.0, \"miles\": 48.0, \"group\": 2}, {\"speed\": 147.0, \"age\": 33.0, \"miles\": 54.0, \"group\": 0}, {\"speed\": 111.0, \"age\": 23.0, \"miles\": 13.0, \"group\": 2}, {\"speed\": 121.0, \"age\": 22.0, \"miles\": 44.0, \"group\": 0}, {\"speed\": 97.0, \"age\": 55.0, \"miles\": 45.0, \"group\": 1}, {\"speed\": 135.0, \"age\": 30.0, \"miles\": 57.0, \"group\": 2}, {\"speed\": 110.0, \"age\": 51.0, \"miles\": 47.0, \"group\": 1}, {\"speed\": 112.0, \"age\": 53.0, \"miles\": 19.0, \"group\": 1}, {\"speed\": 124.0, \"age\": 56.0, \"miles\": 18.0, \"group\": 2}, {\"speed\": 130.0, \"age\": 75.0, \"miles\": 47.0, \"group\": 2}, {\"speed\": 121.0, \"age\": 52.0, \"miles\": 33.0, \"group\": 2}, {\"speed\": 113.0, \"age\": 42.0, \"miles\": 26.0, \"group\": 1}, {\"speed\": 112.0, \"age\": 65.0, \"miles\": 29.0, \"group\": 0}, {\"speed\": 85.0, \"age\": 52.0, \"miles\": 41.0, \"group\": 2}, {\"speed\": 134.0, \"age\": 29.0, \"miles\": 29.0, \"group\": 2}, {\"speed\": 115.0, \"age\": 83.0, \"miles\": 19.0, \"group\": 0}, {\"speed\": 131.0, \"age\": 37.0, \"miles\": 40.0, \"group\": 1}, {\"speed\": 99.0, \"age\": 60.0, \"miles\": 32.0, \"group\": 1}, {\"speed\": 149.0, \"age\": 29.0, \"miles\": 48.0, \"group\": 0}, {\"speed\": 114.0, \"age\": 67.0, \"miles\": 27.0, \"group\": 1}, {\"speed\": 146.0, \"age\": 29.0, \"miles\": 51.0, \"group\": 2}, {\"speed\": 121.0, \"age\": 45.0, \"miles\": 18.0, \"group\": 0}, {\"speed\": 132.0, \"age\": 83.0, \"miles\": 37.0, \"group\": 0}, {\"speed\": 132.0, \"age\": 82.0, \"miles\": 19.0, \"group\": 0}, {\"speed\": 115.0, \"age\": 58.0, \"miles\": 16.0, \"group\": 0}, {\"speed\": 112.0, \"age\": 39.0, \"miles\": 27.0, \"group\": 1}, {\"speed\": 121.0, \"age\": 35.0, \"miles\": 36.0, \"group\": 0}, {\"speed\": 95.0, \"age\": 38.0, \"miles\": 39.0, \"group\": 2}, {\"speed\": 149.0, \"age\": 36.0, \"miles\": 54.0, \"group\": 0}, {\"speed\": 138.0, \"age\": 50.0, \"miles\": 37.0, \"group\": 1}, {\"speed\": 150.0, \"age\": 39.0, \"miles\": 47.0, \"group\": 0}, {\"speed\": 135.0, \"age\": 28.0, \"miles\": 35.0, \"group\": 0}, {\"speed\": 151.0, \"age\": 33.0, \"miles\": 52.0, \"group\": 0}, {\"speed\": 114.0, \"age\": 76.0, \"miles\": 23.0, \"group\": 0}, {\"speed\": 158.0, \"age\": 74.0, \"miles\": 3.0, \"group\": 2}, {\"speed\": 108.0, \"age\": 46.0, \"miles\": 30.0, \"group\": 1}, {\"speed\": 120.0, \"age\": 75.0, \"miles\": 16.0, \"group\": 0}, {\"speed\": 138.0, \"age\": 69.0, \"miles\": 13.0, \"group\": 0}, {\"speed\": 121.0, \"age\": 41.0, \"miles\": 31.0, \"group\": 0}, {\"speed\": 129.0, \"age\": 43.0, \"miles\": 50.0, \"group\": 2}, {\"speed\": 114.0, \"age\": 42.0, \"miles\": 9.0, \"group\": 1}, {\"speed\": 107.0, \"age\": 43.0, \"miles\": 24.0, \"group\": 1}, {\"speed\": 97.0, \"age\": 22.0, \"miles\": 12.0, \"group\": 2}, {\"speed\": 152.0, \"age\": 33.0, \"miles\": 49.0, \"group\": 0}, {\"speed\": 151.0, \"age\": 41.0, \"miles\": 48.0, \"group\": 0}, {\"speed\": 127.0, \"age\": 82.0, \"miles\": 30.0, \"group\": 0}, {\"speed\": 112.0, \"age\": 57.0, \"miles\": 25.0, \"group\": 1}, {\"speed\": 114.0, \"age\": 57.0, \"miles\": 42.0, \"group\": 1}, {\"speed\": 100.0, \"age\": 26.0, \"miles\": 23.0, \"group\": 2}, {\"speed\": 113.0, \"age\": 57.0, \"miles\": 42.0, \"group\": 2}, {\"speed\": 99.0, \"age\": 16.0, \"miles\": 42.0, \"group\": 0}, {\"speed\": 129.0, \"age\": 64.0, \"miles\": 99.0, \"group\": 2}, {\"speed\": 122.0, \"age\": 75.0, \"miles\": 21.0, \"group\": 0}, {\"speed\": 112.0, \"age\": 53.0, \"miles\": 19.0, \"group\": 1}, {\"speed\": 120.0, \"age\": 68.0, \"miles\": 21.0, \"group\": 0}, {\"speed\": 141.0, \"age\": 45.0, \"miles\": 39.0, \"group\": 1}, {\"speed\": 101.0, \"age\": 36.0, \"miles\": 19.0, \"group\": 1}, {\"speed\": 125.0, \"age\": 68.0, \"miles\": 37.0, \"group\": 0}, {\"speed\": 128.0, \"age\": 69.0, \"miles\": 13.0, \"group\": 2}, {\"speed\": 120.0, \"age\": 43.0, \"miles\": 34.0, \"group\": 1}, {\"speed\": 154.0, \"age\": 39.0, \"miles\": 47.0, \"group\": 0}, {\"speed\": 119.0, \"age\": 39.0, \"miles\": 21.0, \"group\": 0}, {\"speed\": 135.0, \"age\": 43.0, \"miles\": 42.0, \"group\": 1}, {\"speed\": 97.0, \"age\": 26.0, \"miles\": 15.0, \"group\": 2}, {\"speed\": 133.0, \"age\": 35.0, \"miles\": 32.0, \"group\": 2}, {\"speed\": 138.0, \"age\": 47.0, \"miles\": 42.0, \"group\": 1}, {\"speed\": 118.0, \"age\": 36.0, \"miles\": 37.0, \"group\": 0}, {\"speed\": 126.0, \"age\": 70.0, \"miles\": 41.0, \"group\": 2}, {\"speed\": 151.0, \"age\": 38.0, \"miles\": 51.0, \"group\": 0}, {\"speed\": 161.0, \"age\": 49.0, \"miles\": 59.0, \"group\": 2}, {\"speed\": 99.0, \"age\": 21.0, \"miles\": 8.0, \"group\": 2}, {\"speed\": 156.0, \"age\": 38.0, \"miles\": 48.0, \"group\": 0}, {\"speed\": 140.0, \"age\": 56.0, \"miles\": 44.0, \"group\": 2}, {\"speed\": 100.0, \"age\": 46.0, \"miles\": 13.0, \"group\": 1}, {\"speed\": 119.0, \"age\": 38.0, \"miles\": 6.0, \"group\": 1}, {\"speed\": 122.0, \"age\": 71.0, \"miles\": 16.0, \"group\": 0}, {\"speed\": 136.0, \"age\": 53.0, \"miles\": 57.0, \"group\": 2}, {\"speed\": 130.0, \"age\": 54.0, \"miles\": 39.0, \"group\": 2}, {\"speed\": 102.0, \"age\": 28.0, \"miles\": 25.0, \"group\": 2}, {\"speed\": 98.0, \"age\": 23.0, \"miles\": 16.0, \"group\": 2}, {\"speed\": 132.0, \"age\": 34.0, \"miles\": 50.0, \"group\": 2}, {\"speed\": 111.0, \"age\": 36.0, \"miles\": 40.0, \"group\": 0}, {\"speed\": 136.0, \"age\": 45.0, \"miles\": 36.0, \"group\": 1}, {\"speed\": 114.0, \"age\": 48.0, \"miles\": 31.0, \"group\": 1}, {\"speed\": 110.0, \"age\": 16.0, \"miles\": 41.0, \"group\": 0}, {\"speed\": 97.0, \"age\": 28.0, \"miles\": 16.0, \"group\": 2}, {\"speed\": 122.0, \"age\": 50.0, \"miles\": 66.0, \"group\": 2}, {\"speed\": 97.0, \"age\": 21.0, \"miles\": 17.0, \"group\": 2}, {\"speed\": 104.0, \"age\": 19.0, \"miles\": 12.0, \"group\": 0}, {\"speed\": 140.0, \"age\": 53.0, \"miles\": 42.0, \"group\": 1}, {\"speed\": 143.0, \"age\": 40.0, \"miles\": 40.0, \"group\": 1}, {\"speed\": 109.0, \"age\": 48.0, \"miles\": 30.0, \"group\": 0}, {\"speed\": 141.0, \"age\": 40.0, \"miles\": 43.0, \"group\": 1}, {\"speed\": 106.0, \"age\": 51.0, \"miles\": 21.0, \"group\": 2}, {\"speed\": 137.0, \"age\": 17.0, \"miles\": 35.0, \"group\": 0}, {\"speed\": 137.0, \"age\": 43.0, \"miles\": 37.0, \"group\": 1}, {\"speed\": 100.0, \"age\": 37.0, \"miles\": 28.0, \"group\": 1}, {\"speed\": 111.0, \"age\": 40.0, \"miles\": 28.0, \"group\": 1}, {\"speed\": 116.0, \"age\": 42.0, \"miles\": 15.0, \"group\": 1}, {\"speed\": 137.0, \"age\": 35.0, \"miles\": 66.0, \"group\": 2}, {\"speed\": 118.0, \"age\": 73.0, \"miles\": 29.0, \"group\": 0}, {\"speed\": 112.0, \"age\": 57.0, \"miles\": 14.0, \"group\": 1}, {\"speed\": 105.0, \"age\": 36.0, \"miles\": 26.0, \"group\": 1}, {\"speed\": 130.0, \"age\": 63.0, \"miles\": 46.0, \"group\": 2}, {\"speed\": 120.0, \"age\": 80.0, \"miles\": 18.0, \"group\": 0}, {\"speed\": 111.0, \"age\": 44.0, \"miles\": 45.0, \"group\": 2}, {\"speed\": 107.0, \"age\": 32.0, \"miles\": 2.0, \"group\": 1}, {\"speed\": 115.0, \"age\": 68.0, \"miles\": 22.0, \"group\": 0}, {\"speed\": 132.0, \"age\": 45.0, \"miles\": 34.0, \"group\": 1}, {\"speed\": 94.0, \"age\": 47.0, \"miles\": 32.0, \"group\": 2}, {\"speed\": 135.0, \"age\": 84.0, \"miles\": 16.0, \"group\": 0}, {\"speed\": 130.0, \"age\": 70.0, \"miles\": 24.0, \"group\": 0}, {\"speed\": 122.0, \"age\": 33.0, \"miles\": 26.0, \"group\": 2}, {\"speed\": 103.0, \"age\": 31.0, \"miles\": 19.0, \"group\": 2}, {\"speed\": 112.0, \"age\": 25.0, \"miles\": 20.0, \"group\": 0}, {\"speed\": 156.0, \"age\": 34.0, \"miles\": 49.0, \"group\": 0}, {\"speed\": 125.0, \"age\": 44.0, \"miles\": 26.0, \"group\": 2}, {\"speed\": 95.0, \"age\": 30.0, \"miles\": 14.0, \"group\": 2}, {\"speed\": 111.0, \"age\": 78.0, \"miles\": 17.0, \"group\": 2}, {\"speed\": 116.0, \"age\": 41.0, \"miles\": 32.0, \"group\": 1}, {\"speed\": 123.0, \"age\": 43.0, \"miles\": 45.0, \"group\": 2}, {\"speed\": 115.0, \"age\": 45.0, \"miles\": 13.0, \"group\": 1}, {\"speed\": 124.0, \"age\": 87.0, \"miles\": 19.0, \"group\": 0}, {\"speed\": 140.0, \"age\": 56.0, \"miles\": 11.0, \"group\": 2}, {\"speed\": 117.0, \"age\": 42.0, \"miles\": 38.0, \"group\": 1}, {\"speed\": 110.0, \"age\": 55.0, \"miles\": 47.0, \"group\": 2}, {\"speed\": 125.0, \"age\": 25.0, \"miles\": 23.0, \"group\": 0}, {\"speed\": 126.0, \"age\": 20.0, \"miles\": 29.0, \"group\": 0}, {\"speed\": 131.0, \"age\": 55.0, \"miles\": 32.0, \"group\": 2}, {\"speed\": 137.0, \"age\": 31.0, \"miles\": 36.0, \"group\": 2}, {\"speed\": 100.0, \"age\": 54.0, \"miles\": 17.0, \"group\": 1}, {\"speed\": 148.0, \"age\": 42.0, \"miles\": 50.0, \"group\": 0}, {\"speed\": 109.0, \"age\": 36.0, \"miles\": 23.0, \"group\": 1}, {\"speed\": 149.0, \"age\": 33.0, \"miles\": 68.0, \"group\": 2}, {\"speed\": 126.0, \"age\": 80.0, \"miles\": 25.0, \"group\": 0}, {\"speed\": 101.0, \"age\": 31.0, \"miles\": 11.0, \"group\": 2}, {\"speed\": 119.0, \"age\": 21.0, \"miles\": 16.0, \"group\": 0}, {\"speed\": 96.0, \"age\": 52.0, \"miles\": 14.0, \"group\": 1}, {\"speed\": 110.0, \"age\": 42.0, \"miles\": 14.0, \"group\": 1}, {\"speed\": 121.0, \"age\": 43.0, \"miles\": 30.0, \"group\": 1}, {\"speed\": 144.0, \"age\": 40.0, \"miles\": 44.0, \"group\": 1}, {\"speed\": 123.0, \"age\": 23.0, \"miles\": 44.0, \"group\": 0}, {\"speed\": 146.0, \"age\": 47.0, \"miles\": 38.0, \"group\": 1}, {\"speed\": 119.0, \"age\": 16.0, \"miles\": 12.0, \"group\": 2}, {\"speed\": 107.0, \"age\": 33.0, \"miles\": 12.0, \"group\": 2}, {\"speed\": 114.0, \"age\": 73.0, \"miles\": 22.0, \"group\": 0}, {\"speed\": 114.0, \"age\": 49.0, \"miles\": 17.0, \"group\": 1}, {\"speed\": 107.0, \"age\": 49.0, \"miles\": 6.0, \"group\": 1}, {\"speed\": 148.0, \"age\": 35.0, \"miles\": 45.0, \"group\": 0}, {\"speed\": 143.0, \"age\": 39.0, \"miles\": 77.0, \"group\": 2}, {\"speed\": 102.0, \"age\": 26.0, \"miles\": 17.0, \"group\": 2}, {\"speed\": 101.0, \"age\": 29.0, \"miles\": 15.0, \"group\": 2}, {\"speed\": 119.0, \"age\": 21.0, \"miles\": 25.0, \"group\": 0}, {\"speed\": 98.0, \"age\": 24.0, \"miles\": 8.0, \"group\": 2}, {\"speed\": 96.0, \"age\": 25.0, \"miles\": 24.0, \"group\": 2}, {\"speed\": 120.0, \"age\": 16.0, \"miles\": 29.0, \"group\": 0}, {\"speed\": 143.0, \"age\": 44.0, \"miles\": 42.0, \"group\": 1}, {\"speed\": 123.0, \"age\": 81.0, \"miles\": 17.0, \"group\": 0}, {\"speed\": 99.0, \"age\": 23.0, \"miles\": 22.0, \"group\": 2}, {\"speed\": 145.0, \"age\": 42.0, \"miles\": 39.0, \"group\": 1}, {\"speed\": 135.0, \"age\": 42.0, \"miles\": 44.0, \"group\": 1}, {\"speed\": 135.0, \"age\": 36.0, \"miles\": 38.0, \"group\": 1}, {\"speed\": 97.0, \"age\": 25.0, \"miles\": 13.0, \"group\": 2}, {\"speed\": 98.0, \"age\": 55.0, \"miles\": 28.0, \"group\": 1}, {\"speed\": 130.0, \"age\": 50.0, \"miles\": 56.0, \"group\": 2}, {\"speed\": 115.0, \"age\": 43.0, \"miles\": 45.0, \"group\": 2}, {\"speed\": 122.0, \"age\": 72.0, \"miles\": 53.0, \"group\": 2}, {\"speed\": 149.0, \"age\": 35.0, \"miles\": 44.0, \"group\": 0}, {\"speed\": 127.0, \"age\": 54.0, \"miles\": 14.0, \"group\": 1}, {\"speed\": 124.0, \"age\": 44.0, \"miles\": 31.0, \"group\": 2}, {\"speed\": 118.0, \"age\": 36.0, \"miles\": 44.0, \"group\": 0}, {\"speed\": 136.0, \"age\": 41.0, \"miles\": 47.0, \"group\": 2}, {\"speed\": 100.0, \"age\": 28.0, \"miles\": 9.0, \"group\": 2}, {\"speed\": 132.0, \"age\": 49.0, \"miles\": 44.0, \"group\": 2}, {\"speed\": 137.0, \"age\": 57.0, \"miles\": 58.0, \"group\": 2}, {\"speed\": 112.0, \"age\": 31.0, \"miles\": 35.0, \"group\": 1}, {\"speed\": 148.0, \"age\": 32.0, \"miles\": 52.0, \"group\": 0}, {\"speed\": 101.0, \"age\": 30.0, \"miles\": 8.0, \"group\": 2}, {\"speed\": 147.0, \"age\": 36.0, \"miles\": 56.0, \"group\": 0}, {\"speed\": 150.0, \"age\": 41.0, \"miles\": 40.0, \"group\": 0}, {\"speed\": 96.0, \"age\": 46.0, \"miles\": 33.0, \"group\": 1}, {\"speed\": 97.0, \"age\": 31.0, \"miles\": 22.0, \"group\": 2}, {\"speed\": 146.0, \"age\": 43.0, \"miles\": 30.0, \"group\": 1}, {\"speed\": 122.0, \"age\": 23.0, \"miles\": 17.0, \"group\": 0}, {\"speed\": 132.0, \"age\": 46.0, \"miles\": 44.0, \"group\": 2}, {\"speed\": 125.0, \"age\": 21.0, \"miles\": 28.0, \"group\": 0}, {\"speed\": 114.0, \"age\": 75.0, \"miles\": 24.0, \"group\": 0}, {\"speed\": 136.0, \"age\": 52.0, \"miles\": 35.0, \"group\": 2}, {\"speed\": 152.0, \"age\": 34.0, \"miles\": 53.0, \"group\": 0}, {\"speed\": 113.0, \"age\": 79.0, \"miles\": 9.0, \"group\": 0}, {\"speed\": 144.0, \"age\": 41.0, \"miles\": 40.0, \"group\": 1}, {\"speed\": 146.0, \"age\": 46.0, \"miles\": 42.0, \"group\": 1}, {\"speed\": 105.0, \"age\": 30.0, \"miles\": 33.0, \"group\": 0}, {\"speed\": 148.0, \"age\": 31.0, \"miles\": 51.0, \"group\": 0}, {\"speed\": 107.0, \"age\": 46.0, \"miles\": 19.0, \"group\": 1}, {\"speed\": 142.0, \"age\": 43.0, \"miles\": 41.0, \"group\": 1}, {\"speed\": 105.0, \"age\": 45.0, \"miles\": 43.0, \"group\": 2}, {\"speed\": 114.0, \"age\": 55.0, \"miles\": 26.0, \"group\": 1}, {\"speed\": 117.0, \"age\": 39.0, \"miles\": 27.0, \"group\": 1}, {\"speed\": 148.0, \"age\": 34.0, \"miles\": 46.0, \"group\": 0}, {\"speed\": 105.0, \"age\": 36.0, \"miles\": 15.0, \"group\": 1}, {\"speed\": 120.0, \"age\": 37.0, \"miles\": 38.0, \"group\": 2}, {\"speed\": 137.0, \"age\": 45.0, \"miles\": 39.0, \"group\": 1}, {\"speed\": 114.0, \"age\": 82.0, \"miles\": 21.0, \"group\": 0}, {\"speed\": 106.0, \"age\": 53.0, \"miles\": 39.0, \"group\": 2}, {\"speed\": 143.0, \"age\": 56.0, \"miles\": 41.0, \"group\": 1}, {\"speed\": 150.0, \"age\": 27.0, \"miles\": 49.0, \"group\": 0}, {\"speed\": 138.0, \"age\": 43.0, \"miles\": 46.0, \"group\": 2}, {\"speed\": 98.0, \"age\": 31.0, \"miles\": 11.0, \"group\": 2}, {\"speed\": 127.0, \"age\": 32.0, \"miles\": 47.0, \"group\": 2}, {\"speed\": 103.0, \"age\": 30.0, \"miles\": 21.0, \"group\": 2}, {\"speed\": 143.0, \"age\": 50.0, \"miles\": 53.0, \"group\": 2}, {\"speed\": 135.0, \"age\": 83.0, \"miles\": 15.0, \"group\": 0}, {\"speed\": 149.0, \"age\": 33.0, \"miles\": 44.0, \"group\": 0}, {\"speed\": 122.0, \"age\": 63.0, \"miles\": 9.0, \"group\": 0}, {\"speed\": 132.0, \"age\": 26.0, \"miles\": 22.0, \"group\": 2}, {\"speed\": 115.0, \"age\": 25.0, \"miles\": 28.0, \"group\": 0}, {\"speed\": 150.0, \"age\": 62.0, \"miles\": 23.0, \"group\": 2}, {\"speed\": 120.0, \"age\": 67.0, \"miles\": 20.0, \"group\": 0}, {\"speed\": 150.0, \"age\": 34.0, \"miles\": 44.0, \"group\": 0}, {\"speed\": 108.0, \"age\": 53.0, \"miles\": 25.0, \"group\": 1}, {\"speed\": 101.0, \"age\": 37.0, \"miles\": 12.0, \"group\": 2}, {\"speed\": 139.0, \"age\": 46.0, \"miles\": 28.0, \"group\": 0}, {\"speed\": 126.0, \"age\": 43.0, \"miles\": 46.0, \"group\": 2}, {\"speed\": 123.0, \"age\": 36.0, \"miles\": 7.0, \"group\": 1}, {\"speed\": 152.0, \"age\": 33.0, \"miles\": 48.0, \"group\": 0}, {\"speed\": 127.0, \"age\": 49.0, \"miles\": 52.0, \"group\": 2}, {\"speed\": 121.0, \"age\": 43.0, \"miles\": 28.0, \"group\": 2}, {\"speed\": 144.0, \"age\": 37.0, \"miles\": 43.0, \"group\": 1}, {\"speed\": 104.0, \"age\": 31.0, \"miles\": 29.0, \"group\": 1}, {\"speed\": 153.0, \"age\": 35.0, \"miles\": 49.0, \"group\": 0}, {\"speed\": 108.0, \"age\": 28.0, \"miles\": 13.0, \"group\": 1}, {\"speed\": 103.0, \"age\": 49.0, \"miles\": 28.0, \"group\": 1}, {\"speed\": 104.0, \"age\": 30.0, \"miles\": 1.0, \"group\": 1}, {\"speed\": 137.0, \"age\": 45.0, \"miles\": 36.0, \"group\": 1}, {\"speed\": 123.0, \"age\": 58.0, \"miles\": 40.0, \"group\": 0}, {\"speed\": 159.0, \"age\": 66.0, \"miles\": 1.0, \"group\": 2}, {\"speed\": 130.0, \"age\": 62.0, \"miles\": 15.0, \"group\": 0}, {\"speed\": 151.0, \"age\": 36.0, \"miles\": 50.0, \"group\": 0}, {\"speed\": 147.0, \"age\": 33.0, \"miles\": 54.0, \"group\": 0}, {\"speed\": 146.0, \"age\": 29.0, \"miles\": 56.0, \"group\": 0}, {\"speed\": 117.0, \"age\": 50.0, \"miles\": 21.0, \"group\": 1}, {\"speed\": 119.0, \"age\": 34.0, \"miles\": 33.0, \"group\": 2}, {\"speed\": 128.0, \"age\": 30.0, \"miles\": 43.0, \"group\": 0}, {\"speed\": 122.0, \"age\": 45.0, \"miles\": 15.0, \"group\": 1}, {\"speed\": 137.0, \"age\": 48.0, \"miles\": 36.0, \"group\": 1}, {\"speed\": 105.0, \"age\": 22.0, \"miles\": 22.0, \"group\": 2}, {\"speed\": 109.0, \"age\": 40.0, \"miles\": 24.0, \"group\": 1}, {\"speed\": 118.0, \"age\": 78.0, \"miles\": 13.0, \"group\": 0}, {\"speed\": 145.0, \"age\": 38.0, \"miles\": 55.0, \"group\": 0}, {\"speed\": 141.0, \"age\": 49.0, \"miles\": 33.0, \"group\": 1}, {\"speed\": 109.0, \"age\": 28.0, \"miles\": 13.0, \"group\": 2}, {\"speed\": 92.0, \"age\": 33.0, \"miles\": 24.0, \"group\": 2}, {\"speed\": 139.0, \"age\": 49.0, \"miles\": 29.0, \"group\": 1}, {\"speed\": 131.0, \"age\": 40.0, \"miles\": 15.0, \"group\": 1}, {\"speed\": 139.0, \"age\": 52.0, \"miles\": 43.0, \"group\": 2}, {\"speed\": 141.0, \"age\": 43.0, \"miles\": 36.0, \"group\": 1}, {\"speed\": 95.0, \"age\": 20.0, \"miles\": 11.0, \"group\": 2}, {\"speed\": 112.0, \"age\": 49.0, \"miles\": 8.0, \"group\": 1}, {\"speed\": 106.0, \"age\": 34.0, \"miles\": 16.0, \"group\": 1}, {\"speed\": 123.0, \"age\": 48.0, \"miles\": 49.0, \"group\": 1}, {\"speed\": 106.0, \"age\": 38.0, \"miles\": 12.0, \"group\": 2}, {\"speed\": 97.0, \"age\": 23.0, \"miles\": 16.0, \"group\": 2}, {\"speed\": 121.0, \"age\": 97.0, \"miles\": 1.0, \"group\": 2}, {\"speed\": 114.0, \"age\": 20.0, \"miles\": 45.0, \"group\": 0}, {\"speed\": 150.0, \"age\": 49.0, \"miles\": 38.0, \"group\": 1}, {\"speed\": 108.0, \"age\": 52.0, \"miles\": 1.0, \"group\": 1}, {\"speed\": 151.0, \"age\": 28.0, \"miles\": 51.0, \"group\": 0}, {\"speed\": 113.0, \"age\": 30.0, \"miles\": 22.0, \"group\": 1}, {\"speed\": 113.0, \"age\": 72.0, \"miles\": 23.0, \"group\": 0}, {\"speed\": 114.0, \"age\": 32.0, \"miles\": 29.0, \"group\": 0}, {\"speed\": 124.0, \"age\": 43.0, \"miles\": 22.0, \"group\": 1}, {\"speed\": 151.0, \"age\": 27.0, \"miles\": 45.0, \"group\": 0}, {\"speed\": 119.0, \"age\": 50.0, \"miles\": 1.0, \"group\": 1}, {\"speed\": 98.0, \"age\": 30.0, \"miles\": 18.0, \"group\": 2}, {\"speed\": 146.0, \"age\": 38.0, \"miles\": 45.0, \"group\": 0}, {\"speed\": 107.0, \"age\": 67.0, \"miles\": 17.0, \"group\": 2}, {\"speed\": 111.0, \"age\": 41.0, \"miles\": 21.0, \"group\": 1}, {\"speed\": 123.0, \"age\": 58.0, \"miles\": 57.0, \"group\": 2}, {\"speed\": 136.0, \"age\": 33.0, \"miles\": 24.0, \"group\": 2}]}};\n",
              "    var embed_opt = {\"mode\": \"vega-lite\"};\n",
              "\n",
              "    function showError(el, error){\n",
              "        el.innerHTML = ('<div class=\"error\">'\n",
              "                        + '<p>JavaScript Error: ' + error.message + '</p>'\n",
              "                        + \"<p>This usually means there's a typo in your chart specification. \"\n",
              "                        + \"See the javascript console for the full traceback.</p>\"\n",
              "                        + '</div>');\n",
              "        throw error;\n",
              "    }\n",
              "    const el = document.getElementById('vis');\n",
              "    vegaEmbed(\"#vis\", spec, embed_opt)\n",
              "      .catch(error => showError(el, error));\n",
              "  </script>\n",
              "</body>\n",
              "</html>\n"
            ]
          },
          "metadata": {
            "tags": []
          },
          "execution_count": 9
        }
      ]
    },
    {
      "metadata": {
        "id": "z-IjDGAjNGzl",
        "colab_type": "code",
        "colab": {}
      },
      "cell_type": "code",
      "source": [
        ""
      ],
      "execution_count": 0,
      "outputs": []
    }
  ]
}